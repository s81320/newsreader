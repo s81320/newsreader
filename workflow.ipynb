{
 "cells": [
  {
   "cell_type": "markdown",
   "metadata": {},
   "source": [
    "# overall workflow"
   ]
  },
  {
   "cell_type": "markdown",
   "metadata": {},
   "source": [
    "## data acquisition\n",
    "We scrape data from Tagesspiegel, a Berlin based newspaper covering local, national and international topics."
   ]
  },
  {
   "cell_type": "code",
   "execution_count": 1,
   "metadata": {},
   "outputs": [],
   "source": [
    "from datetime import date\n",
    "from data_acquisition import scrape_tsp as st"
   ]
  },
  {
   "cell_type": "code",
   "execution_count": 9,
   "metadata": {},
   "outputs": [
    {
     "data": {
      "text/plain": [
       "'2020-09-13'"
      ]
     },
     "execution_count": 9,
     "metadata": {},
     "output_type": "execute_result"
    }
   ],
   "source": [
    "today = str(date.today())\n",
    "today"
   ]
  },
  {
   "cell_type": "code",
   "execution_count": 3,
   "metadata": {},
   "outputs": [
    {
     "name": "stdout",
     "output_type": "stream",
     "text": [
      "<Response [200]>\n"
     ]
    },
    {
     "data": {
      "text/plain": [
       "'wrote 159 links to data_acquisition/links-tsp-2020-09-13.txt'"
      ]
     },
     "execution_count": 3,
     "metadata": {},
     "output_type": "execute_result"
    }
   ],
   "source": [
    "st.get_links()"
   ]
  },
  {
   "cell_type": "code",
   "execution_count": 4,
   "metadata": {},
   "outputs": [
    {
     "name": "stdout",
     "output_type": "stream",
     "text": [
      "got 159 links. \n",
      "wrote 85 links to data_acquisition/links-tsp-2020-09-13-new.txt\n"
     ]
    }
   ],
   "source": [
    "scraped_file = 'data_acquisition/links-tsp-' + today + '.txt'\n",
    "st.select_new_links(scraped_file)"
   ]
  },
  {
   "cell_type": "markdown",
   "metadata": {},
   "source": [
    "Before running the next cell, update the integer number in st.get_content( .. , int , ...)\n",
    "\n",
    "Should be updated to the number that was returned the last time the cell ran."
   ]
  },
  {
   "cell_type": "code",
   "execution_count": 5,
   "metadata": {},
   "outputs": [
    {
     "data": {
      "text/plain": [
       "1658"
      ]
     },
     "execution_count": 5,
     "metadata": {},
     "output_type": "execute_result"
    }
   ],
   "source": [
    "import os\n",
    "\n",
    "path_to_link_file='data_acquisition/links-tsp-'+today+'-new.txt'\n",
    "path_to_output_folder='data_acquisition/tagesspiegel-'+today)\n",
    "\n",
    "_, dirs, _ = next(os.walk('data_acquisition'))\n",
    "#print(dirs)\n",
    "if 'tagesspiegel-'+today in dirs:\n",
    "    print(\"** folder exists **\")\n",
    "else:\n",
    "    os.mkdir(path_to_output_folder, mode=0o744) \n",
    "\n",
    "#print(path_to_output_folder)\n",
    "st.get_content(path_to_link_file,1573,path_to_output_folder)"
   ]
  },
  {
   "cell_type": "markdown",
   "metadata": {},
   "source": [
    "When articles are downloaded, add new links to 'bestand' (this file is needed to check for already downloaded articles, articles that are scraped on more than one occasion)"
   ]
  },
  {
   "cell_type": "code",
   "execution_count": 6,
   "metadata": {},
   "outputs": [],
   "source": [
    "!cat $path_to_link_file >> 'data_acquisition/links-tsp-bestand.txt'"
   ]
  },
  {
   "cell_type": "markdown",
   "metadata": {},
   "source": [
    "## data cleaning\n",
    " 1. We check for advertisement in the articles' text. Ad text is included in brackets [...]\n",
    " 2. We check for empty authors. \n",
    " 3. We check for missing date of publication\n",
    " 4. We check for press releases\n",
    " 5. remove content from plus.tagesspiegel.de (advertising, infotainment, Kundenbindung)\n",
    " \n",
    "ad 2: An empty list of authors is replaced by the name of the paper: Tagesspiegel.\n",
    "\n",
    "ad 4: An article that is a press release has closing characters (tsp) or (tsp,dpa) or similar. We remove the parenthesis and the enclosed text."
   ]
  },
  {
   "cell_type": "code",
   "execution_count": 7,
   "metadata": {},
   "outputs": [],
   "source": [
    "from data_cleaning import clean_tsp as ct"
   ]
  },
  {
   "cell_type": "code",
   "execution_count": 10,
   "metadata": {},
   "outputs": [
    {
     "data": {
      "text/plain": [
       "{'files inspected': 0,\n",
       " 'files with ads': 35,\n",
       " 'ads removed': 42,\n",
       " 'files not clean': 7,\n",
       " 'files not clean reasons': ['content from plus.tagesspiegel.de (url)',\n",
       "  'content from plus.tagesspiegel.de (url)',\n",
       "  'content from plus.tagesspiegel.de (url)',\n",
       "  'too short',\n",
       "  'content from plus.tagesspiegel.de (url)',\n",
       "  'content from plus.tagesspiegel.de (url)',\n",
       "  'too short'],\n",
       " 'dates imputed': 0}"
      ]
     },
     "execution_count": 10,
     "metadata": {},
     "output_type": "execute_result"
    }
   ],
   "source": [
    "ct.clean_up('data_acquisition/tagesspiegel-'+today,today)"
   ]
  },
  {
   "cell_type": "markdown",
   "metadata": {},
   "source": [
    "To move clean articles to folder articles_02: Change the date to the value of today:"
   ]
  },
  {
   "cell_type": "code",
   "execution_count": 15,
   "metadata": {},
   "outputs": [],
   "source": [
    "# move clean files to where they will be picked up downstream in our workflow\n",
    "!mv data_acquisition/tagesspiegel-2020-09-13/*clean.json articles_02\n",
    "# cannot concatenate string and variable in UNIX:\n",
    "#!mv data_acquisition/tagesspiegel-${today}/*clean.json articles_02"
   ]
  },
  {
   "cell_type": "code",
   "execution_count": 18,
   "metadata": {},
   "outputs": [],
   "source": [
    "ct.impute_description('articles_02')"
   ]
  },
  {
   "cell_type": "markdown",
   "metadata": {},
   "source": [
    "### Basic testing \n",
    "\n",
    "for all files in folder that we'll use to read the articles from, when building the web app.\n",
    "* files ending .json are in json format\n",
    "* attribute text-link exists and is not empty\n",
    "* json dict contains the required keys"
   ]
  },
  {
   "cell_type": "code",
   "execution_count": 1,
   "metadata": {},
   "outputs": [
    {
     "name": "stdout",
     "output_type": "stream",
     "text": [
      "compromised files, please remove them:\n"
     ]
    },
    {
     "data": {
      "text/plain": [
       "[{'file:': '.DS_Store', 'exception': '.json'}]"
      ]
     },
     "execution_count": 1,
     "metadata": {},
     "output_type": "execute_result"
    }
   ],
   "source": [
    "import json\n",
    "import os\n",
    "\n",
    "_, _, file = next(os.walk('articles_02'))\n",
    "#print(dirs)\n",
    "#print(file)\n",
    "compromised = []\n",
    "required_attributes ={'title','text','image','description'}\n",
    "for f in file:\n",
    "    #print(f)\n",
    "    if f.endswith('.json'):\n",
    "        with open('articles_02/'+f,'r') as ff:\n",
    "            a1 = ff.read()\n",
    "        try: \n",
    "            a2 = json.loads(a1)\n",
    "            try: \n",
    "                if a2['text-link'] in [None,'']:\n",
    "                    compromised+=[{'file:':f,'violation':'text-link empty'}] \n",
    "                    continue\n",
    "                if not required_attributes.issubset(set(a2.keys())):\n",
    "                    compromised+=[{'file:':f,'violation':'missing keys '+str(required_attributes.difference(set(a2.keys())))}] \n",
    "                    continue\n",
    "            except:\n",
    "                compromised+=[{'file:':f,'exception':'missing key text-link'}]\n",
    "                continue                               \n",
    "        except: # json.loads \n",
    "            compromised+=[{'file:':f,'exception':'json.loads'}]\n",
    "    else:\n",
    "        compromised+=[{'file:':f,'exception':'.json'}]\n",
    "        \n",
    "print('compromised files, please remove them:')\n",
    "compromised"
   ]
  },
  {
   "cell_type": "markdown",
   "metadata": {},
   "source": [
    "### protocols from previous cleanings"
   ]
  },
  {
   "cell_type": "code",
   "execution_count": 8,
   "metadata": {},
   "outputs": [
    {
     "data": {
      "text/plain": [
       "{'files inspected': 0,\n",
       " 'files with ads': 63,\n",
       " 'ads removed': 96,\n",
       " 'files not clean': 8,\n",
       " 'files bot clean reasons': ['too short',\n",
       "  'content from plus.tagesspiegel.de (url)',\n",
       "  'content from plus.tagesspiegel.de (url)',\n",
       "  'content from plus.tagesspiegel.de (url)',\n",
       "  'content from plus.tagesspiegel.de (url)',\n",
       "  'content from plus.tagesspiegel.de (url)',\n",
       "  'content from plus.tagesspiegel.de (url)',\n",
       "  'content from plus.tagesspiegel.de (url)'],\n",
       " 'dates imputed': 0}"
      ]
     },
     "execution_count": 8,
     "metadata": {},
     "output_type": "execute_result"
    }
   ],
   "source": [
    "ct.clean_up('data_acquisition/tagesspiegel-2020-09-09','2020-09-09')"
   ]
  },
  {
   "cell_type": "code",
   "execution_count": 5,
   "metadata": {},
   "outputs": [
    {
     "name": "stdout",
     "output_type": "stream",
     "text": [
      "tagesspiegel-2020-08-02/00843.json\n",
      "tagesspiegel-2020-08-02/00859.json\n",
      "tagesspiegel-2020-08-02/00878.json\n",
      "tagesspiegel-2020-08-02/00840.json\n"
     ]
    },
    {
     "data": {
      "text/plain": [
       "{'files inspected': 78,\n",
       " 'files with ads': 43,\n",
       " 'ads removed': 64,\n",
       " 'files removed': 4,\n",
       " 'files removed reasons': ['wrong type: author',\n",
       "  'wrong type: imagegallery',\n",
       "  'too short',\n",
       "  'too short'],\n",
       " 'dates imputed': 6}"
      ]
     },
     "execution_count": 5,
     "metadata": {},
     "output_type": "execute_result"
    }
   ],
   "source": [
    "ct.clean_up('tagesspiegel-2020-08-02','2020-08-02')"
   ]
  },
  {
   "cell_type": "code",
   "execution_count": 3,
   "metadata": {},
   "outputs": [
    {
     "name": "stdout",
     "output_type": "stream",
     "text": [
      "tagesspiegel-2020-09-04/01126.json\n",
      "tagesspiegel-2020-09-04/01045.json\n",
      "tagesspiegel-2020-09-04/01048.json\n"
     ]
    },
    {
     "data": {
      "text/plain": [
       "{'files inspected': 138,\n",
       " 'files with ads': 61,\n",
       " 'ads removed': 81,\n",
       " 'files removed': 3,\n",
       " 'files removed reasons': ['wrong type: imagegallery',\n",
       "  'wrong type: imagegallery',\n",
       "  'wrong type: imagegallery'],\n",
       " 'dates imputed': 9}"
      ]
     },
     "execution_count": 3,
     "metadata": {},
     "output_type": "execute_result"
    }
   ],
   "source": [
    "ct.clean_up('tagesspiegel-2020-09-04','2020-09-04')"
   ]
  },
  {
   "cell_type": "code",
   "execution_count": 4,
   "metadata": {},
   "outputs": [
    {
     "name": "stdout",
     "output_type": "stream",
     "text": [
      "tagesspiegel-2020-08-04/00973.json\n",
      "tagesspiegel-2020-08-04/01016.json\n",
      "tagesspiegel-2020-08-04/00914.json\n"
     ]
    },
    {
     "data": {
      "text/plain": [
       "{'files inspected': 118,\n",
       " 'files with ads': 60,\n",
       " 'ads removed': 74,\n",
       " 'files removed': 3,\n",
       " 'files removed reasons': ['too short',\n",
       "  'wrong type: imagegallery',\n",
       "  'too short'],\n",
       " 'dates imputed': 6}"
      ]
     },
     "execution_count": 4,
     "metadata": {},
     "output_type": "execute_result"
    }
   ],
   "source": [
    "ct.clean_up('tagesspiegel-2020-08-04','2020-08-04')"
   ]
  },
  {
   "cell_type": "code",
   "execution_count": 8,
   "metadata": {},
   "outputs": [
    {
     "name": "stdout",
     "output_type": "stream",
     "text": [
      "tagesspiegel-2020-09-05/01239.json\n"
     ]
    },
    {
     "data": {
      "text/plain": [
       "{'files inspected': 89,\n",
       " 'files with ads': 40,\n",
       " 'ads removed': 51,\n",
       " 'files removed': 1,\n",
       " 'files removed reasons': ['too short'],\n",
       " 'dates imputed': 7}"
      ]
     },
     "execution_count": 8,
     "metadata": {},
     "output_type": "execute_result"
    }
   ],
   "source": [
    "ct.clean_up('tagesspiegel-2020-09-05','2020-09-05')"
   ]
  },
  {
   "cell_type": "markdown",
   "metadata": {},
   "source": [
    "## ml task"
   ]
  },
  {
   "cell_type": "code",
   "execution_count": 29,
   "metadata": {},
   "outputs": [],
   "source": [
    "import pandas as pd\n",
    "\n",
    "from sklearn.pipeline import Pipeline\n",
    "from sklearn.feature_extraction.text import TfidfVectorizer\n",
    "from sklearn.cluster import KMeans\n",
    "from sklearn import metrics"
   ]
  },
  {
   "cell_type": "code",
   "execution_count": 27,
   "metadata": {},
   "outputs": [],
   "source": [
    "from ml_task import non_triv_ml as ml\n",
    "# my code"
   ]
  },
  {
   "cell_type": "markdown",
   "metadata": {},
   "source": [
    "ml.preprocess does some basic transfomation of a (German) text into a wordlist:\n",
    "\n",
    "* Remove non ascii symbols and numbers / digits.\n",
    "* Remove punctuation. \n",
    "* Lemmatize (for German language).\n",
    "* remove stopp words (user defined stopp words, not downloaded from ... anywhere)\n",
    "* remove words with 1 or 2 letters"
   ]
  },
  {
   "cell_type": "code",
   "execution_count": 28,
   "metadata": {},
   "outputs": [],
   "source": [
    "# Stoppwords\n",
    "my_stopper = ['bis','über','zum','oder','ja','an','so','ist','nur','sein','seine','deine','meine','am','sie','bei','durch','noch','sich','in','im','ihr','ihre','vor','zur','seit','es','zu','werden','haben','sein','von','jedoch','auch','des','dies','als','wie','dem','den','um','mit','sein','auf','der','die','das','und','ein','aus','kein','wir','ihr','er','dass','du','ich','mein','mich','dein','dir','dich']"
   ]
  },
  {
   "cell_type": "code",
   "execution_count": 100,
   "metadata": {},
   "outputs": [],
   "source": [
    "# examples\n",
    "# print(ml.preprocess('Ich bin so wie du. Oder??', my_stopper))\n",
    "# print(ml.preprocess('Das kann ja wohl nicht wahr sein. #$% ?? Alles nix, oder? 23! Ich gehe, esse, will schlafen.'))\n",
    "# ml.preprocess('Das Haus am See. Da gehe ich hin, da bin ich gern.')"
   ]
  },
  {
   "cell_type": "code",
   "execution_count": 110,
   "metadata": {},
   "outputs": [
    {
     "name": "stdout",
     "output_type": "stream",
     "text": [
      "253 files to work with.\n"
     ]
    }
   ],
   "source": [
    "X = ml.read_articles_transform_to_df('articles_02/*clean.json',debug=False)"
   ]
  },
  {
   "cell_type": "code",
   "execution_count": 31,
   "metadata": {},
   "outputs": [
    {
     "data": {
      "text/html": [
       "<div>\n",
       "<style scoped>\n",
       "    .dataframe tbody tr th:only-of-type {\n",
       "        vertical-align: middle;\n",
       "    }\n",
       "\n",
       "    .dataframe tbody tr th {\n",
       "        vertical-align: top;\n",
       "    }\n",
       "\n",
       "    .dataframe thead th {\n",
       "        text-align: right;\n",
       "    }\n",
       "</style>\n",
       "<table border=\"1\" class=\"dataframe\">\n",
       "  <thead>\n",
       "    <tr style=\"text-align: right;\">\n",
       "      <th></th>\n",
       "      <th>file</th>\n",
       "      <th>file_name</th>\n",
       "      <th>title</th>\n",
       "      <th>text</th>\n",
       "      <th>description</th>\n",
       "      <th>image</th>\n",
       "    </tr>\n",
       "  </thead>\n",
       "  <tbody>\n",
       "    <tr>\n",
       "      <th>0</th>\n",
       "      <td>articles_02/01417-clean.json</td>\n",
       "      <td>01417</td>\n",
       "      <td>Scheel rechnet mit baldiger Entscheidung über ...</td>\n",
       "      <td>Berlins Stadtentwicklungssenator Sebastian Sch...</td>\n",
       "      <td>Seit mehr als einem Jahr steht die Initiative ...</td>\n",
       "      <td>https://www.tagesspiegel.de/images/deutsche-wo...</td>\n",
       "    </tr>\n",
       "    <tr>\n",
       "      <th>1</th>\n",
       "      <td>articles_02/01420-clean.json</td>\n",
       "      <td>01420</td>\n",
       "      <td>Retourkutsche zum Zwinger</td>\n",
       "      <td>Barocke Feste, da denkt man zuerst natürlich a...</td>\n",
       "      <td>Deutsches Versailles: Dresden feiert die Fürst...</td>\n",
       "      <td>https://www.tagesspiegel.de/images/heprodimage...</td>\n",
       "    </tr>\n",
       "    <tr>\n",
       "      <th>2</th>\n",
       "      <td>articles_02/01503-clean.json</td>\n",
       "      <td>01503</td>\n",
       "      <td>Die Kunst, Geld zu verdienen</td>\n",
       "      <td>Berlin - Wenn Johann König einkaufen geht, hat...</td>\n",
       "      <td>Nirgendwo sonst leben so viele Künstler wie in...</td>\n",
       "      <td>https://www.tagesspiegel.de/images/no_text/622...</td>\n",
       "    </tr>\n",
       "    <tr>\n",
       "      <th>3</th>\n",
       "      <td>articles_02/01534-clean.json</td>\n",
       "      <td>01534</td>\n",
       "      <td>Wie gefährlich ist die Afrikanische Schweinepest?</td>\n",
       "      <td>Die Gefahr rückt von Osten heran, und sie komm...</td>\n",
       "      <td>Politik, Behörden und Jäger haben einen Schlac...</td>\n",
       "      <td>https://www.tagesspiegel.de/images/heprodimage...</td>\n",
       "    </tr>\n",
       "    <tr>\n",
       "      <th>4</th>\n",
       "      <td>articles_02/01608-clean.json</td>\n",
       "      <td>01608</td>\n",
       "      <td>Die hässlich-mausgraue Revolution</td>\n",
       "      <td>Der Porsche, der im morgendlichen Berufsverkeh...</td>\n",
       "      <td>Ein Auto, das kein Auto ist: Der Citroen Ami i...</td>\n",
       "      <td>https://www.tagesspiegel.de/images/ami/2618426...</td>\n",
       "    </tr>\n",
       "  </tbody>\n",
       "</table>\n",
       "</div>"
      ],
      "text/plain": [
       "                           file file_name  \\\n",
       "0  articles_02/01417-clean.json     01417   \n",
       "1  articles_02/01420-clean.json     01420   \n",
       "2  articles_02/01503-clean.json     01503   \n",
       "3  articles_02/01534-clean.json     01534   \n",
       "4  articles_02/01608-clean.json     01608   \n",
       "\n",
       "                                               title  \\\n",
       "0  Scheel rechnet mit baldiger Entscheidung über ...   \n",
       "1                          Retourkutsche zum Zwinger   \n",
       "2                       Die Kunst, Geld zu verdienen   \n",
       "3  Wie gefährlich ist die Afrikanische Schweinepest?   \n",
       "4                  Die hässlich-mausgraue Revolution   \n",
       "\n",
       "                                                text  \\\n",
       "0  Berlins Stadtentwicklungssenator Sebastian Sch...   \n",
       "1  Barocke Feste, da denkt man zuerst natürlich a...   \n",
       "2  Berlin - Wenn Johann König einkaufen geht, hat...   \n",
       "3  Die Gefahr rückt von Osten heran, und sie komm...   \n",
       "4  Der Porsche, der im morgendlichen Berufsverkeh...   \n",
       "\n",
       "                                         description  \\\n",
       "0  Seit mehr als einem Jahr steht die Initiative ...   \n",
       "1  Deutsches Versailles: Dresden feiert die Fürst...   \n",
       "2  Nirgendwo sonst leben so viele Künstler wie in...   \n",
       "3  Politik, Behörden und Jäger haben einen Schlac...   \n",
       "4  Ein Auto, das kein Auto ist: Der Citroen Ami i...   \n",
       "\n",
       "                                               image  \n",
       "0  https://www.tagesspiegel.de/images/deutsche-wo...  \n",
       "1  https://www.tagesspiegel.de/images/heprodimage...  \n",
       "2  https://www.tagesspiegel.de/images/no_text/622...  \n",
       "3  https://www.tagesspiegel.de/images/heprodimage...  \n",
       "4  https://www.tagesspiegel.de/images/ami/2618426...  "
      ]
     },
     "execution_count": 31,
     "metadata": {},
     "output_type": "execute_result"
    }
   ],
   "source": [
    "# check result of read articles:\n",
    "X.head()"
   ]
  },
  {
   "cell_type": "markdown",
   "metadata": {},
   "source": [
    "### compare : cluster titles (short, fast) or cluster text (long, slow)\n",
    "\n",
    "Is it better to cluster by applying K-means to to titles or to the full text of the article? Since titles are short, clustering them is faster. But is the quality of clustering the full texts higher?\n",
    "\n",
    "How do the resulting clusters differ?"
   ]
  },
  {
   "cell_type": "code",
   "execution_count": 52,
   "metadata": {},
   "outputs": [],
   "source": [
    "def my_clustering(list_of_strings, min_df , max_df , n_clusters):\n",
    "\n",
    "    tfidf = TfidfVectorizer(max_df=max_df , min_df =min_df)\n",
    "    km =  KMeans(init='k-means++', n_clusters=n_clusters, n_init=10)\n",
    "\n",
    "    my_pipe = Pipeline([('vect', tfidf), ('cluster', km) ])\n",
    "\n",
    "    my_pipe.fit(list_of_strings)\n",
    "\n",
    "    return(tfidf,km)"
   ]
  },
  {
   "cell_type": "code",
   "execution_count": 111,
   "metadata": {},
   "outputs": [
    {
     "data": {
      "text/plain": [
       "'scheel rechnet baldig entscheidung berlin volksbegehren'"
      ]
     },
     "execution_count": 111,
     "metadata": {},
     "output_type": "execute_result"
    }
   ],
   "source": [
    "list_of_titles=[ml.preprocess(t, my_stopper) for t in X['title']]\n",
    "list_of_titles[0]"
   ]
  },
  {
   "cell_type": "code",
   "execution_count": 112,
   "metadata": {},
   "outputs": [
    {
     "name": "stdout",
     "output_type": "stream",
     "text": [
      "Silhouette Coefficient:  0.14895741274844296\n"
     ]
    },
    {
     "data": {
      "image/png": "[encoded data removed]",
      "text/plain": [
       "<Figure size 432x288 with 1 Axes>"
      ]
     },
     "metadata": {
      "needs_background": "light"
     },
     "output_type": "display_data"
    },
    {
     "data": {
      "text/plain": [
       "{'n': array([  9.,   7.,   7., 217.,  13.]),\n",
       " 'frequencies': [0.036, 0.028, 0.028, 0.858, 0.051],\n",
       " 'enthropy': 0.6030794752772756,\n",
       " 'inertia': 172.7004903104006}"
      ]
     },
     "execution_count": 112,
     "metadata": {},
     "output_type": "execute_result"
    }
   ],
   "source": [
    "# clustering wrt titles\n",
    "list_of = list_of_titles\n",
    "tfidf_titles , km_titles=my_clustering(list_of, max_df=0.8 , min_df=2, n_clusters=5)\n",
    "X['cluster']=pd.DataFrame(km_titles.labels_)\n",
    "V = tfidf_titles.fit_transform(list_of)\n",
    "print('Silhouette Coefficient: ', metrics.silhouette_score(V, km_titles.labels_, sample_size=1000))\n",
    "ml.evaluate_cluster(km_titles)\n",
    "#cv.get_feature_names()[0:10]"
   ]
  },
  {
   "cell_type": "code",
   "execution_count": null,
   "metadata": {},
   "outputs": [],
   "source": [
    "# it could be good to cluster on the basis of title / headline and description.\n",
    "# there are more words and it is easier to find overlaps.\n",
    "\n",
    "# another approach would be to use word embeddings, either pretrained.\n",
    "# Or: train the word embeddings on the articles' text and then use it only for the titles."
   ]
  },
  {
   "cell_type": "markdown",
   "metadata": {},
   "source": [
    "results, 30 articles\n",
    "* great positive silhouette coefficient: 0.7\n",
    "* cluster sizes unevenly distributed, smallest cluster comprising around 5%"
   ]
  },
  {
   "cell_type": "code",
   "execution_count": 93,
   "metadata": {},
   "outputs": [
    {
     "data": {
      "text/plain": [
       "'berlins stadtentwicklungssenator sebastian scheel link strebt senat september zulässigkeit geplant v'"
      ]
     },
     "execution_count": 93,
     "metadata": {},
     "output_type": "execute_result"
    }
   ],
   "source": [
    "list_of_texts=[ml.preprocess(t, my_stopper) for t in X['text']]\n",
    "list_of_texts[0][0:100]"
   ]
  },
  {
   "cell_type": "code",
   "execution_count": 97,
   "metadata": {},
   "outputs": [
    {
     "name": "stdout",
     "output_type": "stream",
     "text": [
      "Silhouette Coefficient:  0.025491227915546966\n"
     ]
    },
    {
     "data": {
      "image/png": "[encoded data removed]",
      "text/plain": [
       "<Figure size 432x288 with 1 Axes>"
      ]
     },
     "metadata": {
      "needs_background": "light"
     },
     "output_type": "display_data"
    },
    {
     "data": {
      "text/plain": [
       "{'n': array([ 3.,  5., 11.,  3.,  8.]),\n",
       " 'frequencies': [0.1, 0.167, 0.367, 0.1, 0.267],\n",
       " 'enthropy': 1.479860840361009,\n",
       " 'inertia': 21.445594755863244}"
      ]
     },
     "execution_count": 97,
     "metadata": {},
     "output_type": "execute_result"
    }
   ],
   "source": [
    "# clustering wrt full texts\n",
    "list_of=list_of_texts\n",
    "tfidf_texts, km_texts=my_clustering(list_of, max_df=0.7 , min_df=2, n_clusters=5)\n",
    "X['cluster']=pd.DataFrame(km_texts.labels_)\n",
    "V = tfidf_texts.fit_transform(list_of)\n",
    "print('Silhouette Coefficient: ', metrics.silhouette_score(V, km_texts.labels_, sample_size=1000))\n",
    "ml.evaluate_cluster(km_texts)"
   ]
  },
  {
   "cell_type": "markdown",
   "metadata": {},
   "source": [
    "### Result: Clustering wrt to titles or full text is not that different when looking at their statistics / scores.\n",
    "\n",
    "The silouhette coefficient is around zero and inertia high in both cases. Relative differences are not high: Smaller inertia / higher inertia > 85% , difference in silhouette scores / range of scores < 10%\n",
    "\n",
    "Enthropy is completely independent of our datas dimension, and about the same for both clustering methods: smaller enthropy / larger enthropy > 90%.\n",
    "\n",
    "### Result: for the newsreader we prefer clustering wrt the full text\n",
    "\n",
    "since cluster sizes are closer do a uniform distribtion (cluster sizer more evenly distributed).\n"
   ]
  },
  {
   "cell_type": "markdown",
   "metadata": {},
   "source": [
    "## HPO: Hyper parameter optimization"
   ]
  },
  {
   "cell_type": "code",
   "execution_count": 113,
   "metadata": {},
   "outputs": [],
   "source": [
    "from sklearn.model_selection import GridSearchCV\n",
    "\n",
    "#parameters: min_df , max_df in vect , n_cluster in cluster\n",
    "\n",
    "def my_hpo(list_of):\n",
    "    param_grid = dict(vect__min_df=[1,2],\n",
    "                vect__max_df=[0.8,0.9, 0.95],\n",
    "                 cluster__n_clusters=[3,5,8])\n",
    "\n",
    "    tfidf = TfidfVectorizer()\n",
    "    km =  KMeans()\n",
    "    pipe = Pipeline([('vect', tfidf), ('cluster', km) ])\n",
    "\n",
    "    # Gridsearch arguments: cv=5 for 5-fold cross validation\n",
    "    # verbose = 2: not so much output, verbose = 0: no messages during search\n",
    "    grid_search=GridSearchCV(pipe, param_grid=param_grid, cv=5, verbose=0)\n",
    "    grid_result=grid_search.fit(list_of)\n",
    "\n",
    "    best_parameters = grid_search.best_estimator_.get_params()\n",
    "\n",
    "    return({'min_df':best_parameters['vect'].min_df , 'max_df':best_parameters['vect'].max_df , 'n_clusters':best_parameters['cluster'].n_clusters})\n"
   ]
  },
  {
   "cell_type": "markdown",
   "metadata": {},
   "source": [
    "### Best parameters obtained from HPO"
   ]
  },
  {
   "cell_type": "code",
   "execution_count": null,
   "metadata": {},
   "outputs": [],
   "source": [
    "# to run the best clustering without looking at the best parameters from HPO\n",
    "# pipe.set_params(**grid_search.best_estimator_.get_params())\n",
    "# pipe.fit(list_of_texts)\n",
    "# pipe.get_params()\n",
    "# ml.evaluate_cluster(km)\n",
    "# did not work"
   ]
  },
  {
   "cell_type": "code",
   "execution_count": 115,
   "metadata": {},
   "outputs": [
    {
     "name": "stdout",
     "output_type": "stream",
     "text": [
      "{'min_df': 2, 'max_df': 0.9, 'n_clusters': 8}\n"
     ]
    },
    {
     "name": "stderr",
     "output_type": "stream",
     "text": [
      "//anaconda3/lib/python3.7/site-packages/sklearn/model_selection/_search.py:813: DeprecationWarning: The default of the `iid` parameter will change from True to False in version 0.22 and will be removed in 0.24. This will change numeric results when test-set sizes are unequal.\n",
      "  DeprecationWarning)\n"
     ]
    }
   ],
   "source": [
    "param_opt_titles= my_hpo(list_of_titles)\n",
    "print(param_opt_titles)"
   ]
  },
  {
   "cell_type": "code",
   "execution_count": 116,
   "metadata": {},
   "outputs": [
    {
     "name": "stdout",
     "output_type": "stream",
     "text": [
      "Silhouette Coefficient:  0.16887284699877883\n"
     ]
    },
    {
     "data": {
      "image/png": "[encoded data removed]",
      "text/plain": [
       "<Figure size 432x288 with 1 Axes>"
      ]
     },
     "metadata": {
      "needs_background": "light"
     },
     "output_type": "display_data"
    },
    {
     "data": {
      "text/plain": [
       "{'n': array([207.,   2.,   9.,   7.,   3.,  13.,   5.,   7.]),\n",
       " 'frequencies': [0.818, 0.008, 0.036, 0.028, 0.012, 0.051, 0.02, 0.028],\n",
       " 'enthropy': 0.8059473436949257,\n",
       " 'inertia': 165.38648352354303}"
      ]
     },
     "execution_count": 116,
     "metadata": {},
     "output_type": "execute_result"
    }
   ],
   "source": [
    "list_of = list_of_titles\n",
    "param_opt= param_opt_titles\n",
    "\n",
    "# apply optimized parameters\n",
    "tfidf_opt , km_opt=my_clustering(list_of, **param_opt)\n",
    "\n",
    "# keep cluster assignment in X df\n",
    "X['cluster']=pd.DataFrame(km_opt.labels_)\n",
    "\n",
    "# output silhouette score and barchart\n",
    "V = tfidf_opt.fit_transform(list_of)\n",
    "print('Silhouette Coefficient: ', metrics.silhouette_score(V, km_opt.labels_, sample_size=1000))\n",
    "ml.evaluate_cluster(km_opt)"
   ]
  },
  {
   "cell_type": "code",
   "execution_count": 88,
   "metadata": {},
   "outputs": [
    {
     "name": "stdout",
     "output_type": "stream",
     "text": [
      "{'min_df': 2, 'max_df': 0.95, 'n_clusters': 3}\n"
     ]
    }
   ],
   "source": [
    "param_opt_texts= my_hpo(list_of_texts)\n",
    "print(param_opt_texts)"
   ]
  },
  {
   "cell_type": "code",
   "execution_count": 89,
   "metadata": {},
   "outputs": [
    {
     "name": "stdout",
     "output_type": "stream",
     "text": [
      "Silhouette Coefficient:  0.024251846795386778\n"
     ]
    },
    {
     "data": {
      "image/png": "[encoded data removed]",
      "text/plain": [
       "<Figure size 432x288 with 1 Axes>"
      ]
     },
     "metadata": {
      "needs_background": "light"
     },
     "output_type": "display_data"
    },
    {
     "data": {
      "text/plain": [
       "{'n': array([ 8., 16.,  6.]),\n",
       " 'frequencies': [0.267, 0.533, 0.2],\n",
       " 'enthropy': 1.009844494799268,\n",
       " 'inertia': 22.96601618606468}"
      ]
     },
     "execution_count": 89,
     "metadata": {},
     "output_type": "execute_result"
    }
   ],
   "source": [
    "list_of = list_of_texts\n",
    "param_opt= param_opt_texts\n",
    "\n",
    "# apply optimized parameters\n",
    "tfidf_opt , km_opt=my_clustering(list_of, **param_opt)\n",
    "\n",
    "# keep cluster assignment in X df\n",
    "X['cluster']=pd.DataFrame(km_opt.labels_)\n",
    "\n",
    "# output silhouette score and barchart\n",
    "V = tfidf_opt.fit_transform(list_of)\n",
    "print('Silhouette Coefficient: ', metrics.silhouette_score(V, km_opt.labels_, sample_size=1000))\n",
    "ml.evaluate_cluster(km_opt)"
   ]
  },
  {
   "cell_type": "markdown",
   "metadata": {},
   "source": [
    "### how stuff works, the small things ..."
   ]
  },
  {
   "cell_type": "code",
   "execution_count": 21,
   "metadata": {},
   "outputs": [
    {
     "data": {
      "text/plain": [
       "WordList(['ich', 'meinern', 'mir', 'mich', 'hallo', 'hier', 'sein', 'ein', 'baum', 'oder', 'oder', 'oder', 'bzw', 'zwölf', 'laufen', 'laufen', 'laufen'])"
      ]
     },
     "execution_count": 21,
     "metadata": {},
     "output_type": "execute_result"
    }
   ],
   "source": [
    "# how preprocessing works\n",
    "ml.preprocess('Ich, meiner, mir, mich. Hallo hier ist ein Baum. %§/$. Oder 8 oder 9 oder 77 bzw. zwölf?? Läuft lief gelaufen')"
   ]
  },
  {
   "cell_type": "code",
   "execution_count": 23,
   "metadata": {},
   "outputs": [
    {
     "data": {
      "text/plain": [
       "['scheel rechnet mit baldig entscheidung über berlin volksbegehren',\n",
       " 'retourkutschen zum zwinger',\n",
       " 'die kunst geld zu verdienen',\n",
       " 'wie gefährlich ist die afrikanisch schweinepest',\n",
       " 'die hässlich mausgrau revolution']"
      ]
     },
     "execution_count": 23,
     "metadata": {},
     "output_type": "execute_result"
    }
   ],
   "source": [
    "# the list of titles\n",
    "[' '.join(ml.preprocess(t)) for t in X['title'].head()]"
   ]
  },
  {
   "cell_type": "code",
   "execution_count": null,
   "metadata": {},
   "outputs": [],
   "source": []
  },
  {
   "cell_type": "markdown",
   "metadata": {},
   "source": [
    "## Word cloud representation for cluster\n",
    "\n",
    "Collect all text from a specified cluster and create its wordcloud."
   ]
  },
  {
   "cell_type": "markdown",
   "metadata": {},
   "source": [
    "Some stopwords are features."
   ]
  },
  {
   "cell_type": "markdown",
   "metadata": {},
   "source": [
    "For each cluster save the articles belonging to the cluster in a csv file.\n",
    "\n",
    "For each cluster create a wordcloud from all article titles to represent the cluster.\n"
   ]
  },
  {
   "cell_type": "code",
   "execution_count": 59,
   "metadata": {},
   "outputs": [],
   "source": [
    "#!pip install wordcloud\n",
    "\n",
    "from wordcloud import WordCloud\n"
   ]
  },
  {
   "cell_type": "code",
   "execution_count": 117,
   "metadata": {},
   "outputs": [
    {
     "name": "stdout",
     "output_type": "stream",
     "text": [
      "Cluster articles into 8 clusters\n"
     ]
    }
   ],
   "source": [
    "# word cloud from titles of clustered articles, does not matter if they were clustered wrt title or full text.\n",
    "# But K has to be set accordingly.\n",
    "# Also write csv files needed to present the articles in selected clusters (in html presentation)\n",
    "\n",
    "clustered_by = 'titles'\n",
    "\n",
    "if clustered_by == 'texts':\n",
    "    K = param_opt_texts['n_clusters']\n",
    "elif clustered_by == 'titles':\n",
    "    K = param_opt_titles['n_clusters']\n",
    "else:\n",
    "    print('Set K as the number of clusters.')\n",
    "    K=5\n",
    "    \n",
    "print('Cluster articles into ' + str(K) +' clusters')    \n",
    "    \n",
    "for k in range(K):\n",
    "    Xcl = X.loc[X['cluster']==k]\n",
    "    if clustered_by == 'titles':\n",
    "        # join all titles in cluster, then preprocess the new string.\n",
    "        feed_into_wc = ml.preprocess(' '.join(Xcl['title']), my_stopper)\n",
    "    elif clustered_by == 'texts':\n",
    "        feed_into_wc = ml.preprocess(' '.join(Xcl['text']), my_stopper) #this may become very / too large\n",
    "    else:\n",
    "        print('Now what?? How do you want to build the word cloud?')\n",
    "        feed_into_wc = 'cluster '+str(k)\n",
    "        \n",
    "    if len(feed_into_wc)==0:\n",
    "        feed_into_wc='empty'\n",
    "        \n",
    "    # write articles in this cluster to csv file\n",
    "    ## needed later to display headlines and text from the (externally running) Flask server\n",
    "    \n",
    "    filename = 'html_pres/static/articles_cluster'+str(k)+'.csv'\n",
    "    Y=Xcl.drop(columns=['text']) # text not needed anymore\n",
    "    Y.to_csv(filename, sep=';', encoding='utf-8', header=True)\n",
    "    \n",
    "    wordcloud = WordCloud().generate(feed_into_wc)\n",
    "    wordcloud.to_file('html_pres/static/image_cluster'+str(k)+'.png')"
   ]
  },
  {
   "cell_type": "markdown",
   "metadata": {},
   "source": [
    "## presentation as html , website\n",
    "\n",
    "* call an external python script to start the server (Flask)\n",
    "* go to 127.0.0.0:5005 to interact with the website"
   ]
  },
  {
   "cell_type": "code",
   "execution_count": null,
   "metadata": {},
   "outputs": [
    {
     "name": "stdout",
     "output_type": "stream",
     "text": [
      " * Serving Flask app \"app\" (lazy loading)\n",
      " * Environment: production\n",
      "\u001b[31m   WARNING: This is a development server. Do not use it in a production deployment.\u001b[0m\n",
      "\u001b[2m   Use a production WSGI server instead.\u001b[0m\n",
      " * Debug mode: on\n",
      " * Running on http://127.0.0.1:5000/ (Press CTRL+C to quit)\n",
      " * Restarting with stat\n",
      " * Debugger is active!\n",
      " * Debugger PIN: 255-048-271\n",
      "127.0.0.1 - - [14/Sep/2020 17:35:13] \"GET / HTTP/1.1\" 200 -\n",
      "127.0.0.1 - - [14/Sep/2020 17:35:24] \"GET /readmore/7 HTTP/1.1\" 200 -\n",
      "127.0.0.1 - - [14/Sep/2020 17:35:53] \"GET /readmore/7 HTTP/1.1\" 200 -\n",
      "127.0.0.1 - - [14/Sep/2020 17:36:01] \"GET /readmore/1 HTTP/1.1\" 200 -\n",
      "127.0.0.1 - - [14/Sep/2020 17:37:42] \"GET / HTTP/1.1\" 200 -\n"
     ]
    }
   ],
   "source": [
    "# clustered titles\n",
    "#!python html_pres/app.py $param_opt_titles['n_clusters']\n",
    "if clustered_by == 'texts':\n",
    "    K=param_opt_texts['n_clusters']\n",
    "elif clustered_by == 'titles':\n",
    "    K=param_opt_titles['n_clusters']\n",
    "else:\n",
    "    K=2\n",
    "    \n",
    "!python html_pres/app.py $K"
   ]
  },
  {
   "cell_type": "code",
   "execution_count": null,
   "metadata": {},
   "outputs": [],
   "source": []
  }
 ],
 "metadata": {
  "kernelspec": {
   "display_name": "Python 3",
   "language": "python",
   "name": "python3"
  },
  "language_info": {
   "codemirror_mode": {
    "name": "ipython",
    "version": 3
   },
   "file_extension": ".py",
   "mimetype": "text/x-python",
   "name": "python",
   "nbconvert_exporter": "python",
   "pygments_lexer": "ipython3",
   "version": "3.7.3"
  }
 },
 "nbformat": 4,
 "nbformat_minor": 2
}
