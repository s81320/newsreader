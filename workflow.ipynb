{
 "cells": [
  {
   "cell_type": "markdown",
   "metadata": {},
   "source": [
    "# overall workflow"
   ]
  },
  {
   "cell_type": "markdown",
   "metadata": {},
   "source": [
    "## data acquisition\n",
    "We scrape data from Tagesspiegel, a Berlin based newspaper covering local, national and international topics."
   ]
  },
  {
   "cell_type": "code",
   "execution_count": 1,
   "metadata": {},
   "outputs": [],
   "source": [
    "from datetime import date\n",
    "from data_acquisition import scrape_tsp as st"
   ]
  },
  {
   "cell_type": "code",
   "execution_count": 2,
   "metadata": {},
   "outputs": [
    {
     "data": {
      "text/plain": [
       "'2020-09-09'"
      ]
     },
     "execution_count": 2,
     "metadata": {},
     "output_type": "execute_result"
    }
   ],
   "source": [
    "str(date.today())"
   ]
  },
  {
   "cell_type": "code",
   "execution_count": 3,
   "metadata": {},
   "outputs": [
    {
     "name": "stdout",
     "output_type": "stream",
     "text": [
      "<Response [200]>\n"
     ]
    },
    {
     "data": {
      "text/plain": [
       "'wrote 170 links to data_acquisition/links-tsp-2020-09-09.txt'"
      ]
     },
     "execution_count": 3,
     "metadata": {},
     "output_type": "execute_result"
    }
   ],
   "source": [
    "st.get_links()"
   ]
  },
  {
   "cell_type": "code",
   "execution_count": 15,
   "metadata": {},
   "outputs": [],
   "source": []
  },
  {
   "cell_type": "code",
   "execution_count": 5,
   "metadata": {},
   "outputs": [],
   "source": [
    "scraped_file = 'data_acquisition/links-tsp-' + str(date.today()) + '.txt'\n",
    "st.select_new_links(scraped_file)"
   ]
  },
  {
   "cell_type": "markdown",
   "metadata": {},
   "source": [
    "Before running the next cell, update the integer number in st.get_content( .. , int , ...)\n",
    "\n",
    "Should be updated to the numer that was returned the last time the cell ran."
   ]
  },
  {
   "cell_type": "code",
   "execution_count": 6,
   "metadata": {},
   "outputs": [
    {
     "data": {
      "text/plain": [
       "1511"
      ]
     },
     "execution_count": 6,
     "metadata": {},
     "output_type": "execute_result"
    }
   ],
   "source": [
    "#%run 'data-acquisition/get-content-02.py'\n",
    "#from data_acquisition import get_content_tsp_03\n",
    "\n",
    "import os\n",
    "\n",
    "path_to_link_file= 'data_acquisition/links-tsp-'+str(date.today())+'-new.txt'\n",
    "path_to_output_folder='tagesspiegel-'+str(date.today())\n",
    "\n",
    "_, dirs, _ = next(os.walk(os.getcwd()))\n",
    "\n",
    "if path_to_output_folder in dirs:\n",
    "    print(\"** folder exists **\")\n",
    "else:\n",
    "    os.mkdir(path_to_output_folder, mode=0o744) \n",
    "\n",
    "#print(path_to_output_folder)\n",
    "st.get_content(path_to_link_file,1382,path_to_output_folder)"
   ]
  },
  {
   "cell_type": "markdown",
   "metadata": {},
   "source": [
    "When articles are downloaded, add new links to 'bestand'\n",
    "in unix: cat file_with_new_links >> bestands_file"
   ]
  },
  {
   "cell_type": "code",
   "execution_count": null,
   "metadata": {},
   "outputs": [],
   "source": [
    "# use cat in unix or copy paste by hand"
   ]
  },
  {
   "cell_type": "markdown",
   "metadata": {},
   "source": [
    "## data cleaning\n",
    " 1. We check for advertisement in the articles' text. Ad text is included in brackets [...]\n",
    " 2. We check for empty authors. \n",
    " 3. We check for missing date of publication\n",
    " 4. We check for press releases\n",
    " 5. remove content from plus.tagesspiegel.de (advertising, infotainment, Kundenbindung)\n",
    " \n",
    "ad 2: An empty list of authors is replaced by the name of the paper: Tagesspiegel.\n",
    "\n",
    "ad 4: An article that is a press release has closing characters (tsp) or (tsp,dpa) or similar. We remove the parenthesis and the enclosed text."
   ]
  },
  {
   "cell_type": "code",
   "execution_count": 7,
   "metadata": {},
   "outputs": [],
   "source": [
    "from data_cleaning import clean_tsp as ct"
   ]
  },
  {
   "cell_type": "code",
   "execution_count": 8,
   "metadata": {},
   "outputs": [
    {
     "data": {
      "text/plain": [
       "{'files inspected': 0,\n",
       " 'files with ads': 63,\n",
       " 'ads removed': 96,\n",
       " 'files not clean': 8,\n",
       " 'files bot clean reasons': ['too short',\n",
       "  'content from plus.tagesspiegel.de (url)',\n",
       "  'content from plus.tagesspiegel.de (url)',\n",
       "  'content from plus.tagesspiegel.de (url)',\n",
       "  'content from plus.tagesspiegel.de (url)',\n",
       "  'content from plus.tagesspiegel.de (url)',\n",
       "  'content from plus.tagesspiegel.de (url)',\n",
       "  'content from plus.tagesspiegel.de (url)'],\n",
       " 'dates imputed': 0}"
      ]
     },
     "execution_count": 8,
     "metadata": {},
     "output_type": "execute_result"
    }
   ],
   "source": [
    "ct.clean_up('tagesspiegel-2020-09-09','2020-09-09')"
   ]
  },
  {
   "cell_type": "code",
   "execution_count": 5,
   "metadata": {},
   "outputs": [
    {
     "name": "stdout",
     "output_type": "stream",
     "text": [
      "tagesspiegel-2020-08-02/00843.json\n",
      "tagesspiegel-2020-08-02/00859.json\n",
      "tagesspiegel-2020-08-02/00878.json\n",
      "tagesspiegel-2020-08-02/00840.json\n"
     ]
    },
    {
     "data": {
      "text/plain": [
       "{'files inspected': 78,\n",
       " 'files with ads': 43,\n",
       " 'ads removed': 64,\n",
       " 'files removed': 4,\n",
       " 'files removed reasons': ['wrong type: author',\n",
       "  'wrong type: imagegallery',\n",
       "  'too short',\n",
       "  'too short'],\n",
       " 'dates imputed': 6}"
      ]
     },
     "execution_count": 5,
     "metadata": {},
     "output_type": "execute_result"
    }
   ],
   "source": [
    "ct.clean_up('tagesspiegel-2020-08-02','2020-08-02')"
   ]
  },
  {
   "cell_type": "code",
   "execution_count": 3,
   "metadata": {},
   "outputs": [
    {
     "name": "stdout",
     "output_type": "stream",
     "text": [
      "tagesspiegel-2020-09-04/01126.json\n",
      "tagesspiegel-2020-09-04/01045.json\n",
      "tagesspiegel-2020-09-04/01048.json\n"
     ]
    },
    {
     "data": {
      "text/plain": [
       "{'files inspected': 138,\n",
       " 'files with ads': 61,\n",
       " 'ads removed': 81,\n",
       " 'files removed': 3,\n",
       " 'files removed reasons': ['wrong type: imagegallery',\n",
       "  'wrong type: imagegallery',\n",
       "  'wrong type: imagegallery'],\n",
       " 'dates imputed': 9}"
      ]
     },
     "execution_count": 3,
     "metadata": {},
     "output_type": "execute_result"
    }
   ],
   "source": [
    "ct.clean_up('tagesspiegel-2020-09-04','2020-09-04')"
   ]
  },
  {
   "cell_type": "code",
   "execution_count": 4,
   "metadata": {},
   "outputs": [
    {
     "name": "stdout",
     "output_type": "stream",
     "text": [
      "tagesspiegel-2020-08-04/00973.json\n",
      "tagesspiegel-2020-08-04/01016.json\n",
      "tagesspiegel-2020-08-04/00914.json\n"
     ]
    },
    {
     "data": {
      "text/plain": [
       "{'files inspected': 118,\n",
       " 'files with ads': 60,\n",
       " 'ads removed': 74,\n",
       " 'files removed': 3,\n",
       " 'files removed reasons': ['too short',\n",
       "  'wrong type: imagegallery',\n",
       "  'too short'],\n",
       " 'dates imputed': 6}"
      ]
     },
     "execution_count": 4,
     "metadata": {},
     "output_type": "execute_result"
    }
   ],
   "source": [
    "ct.clean_up('tagesspiegel-2020-08-04','2020-08-04')"
   ]
  },
  {
   "cell_type": "code",
   "execution_count": 8,
   "metadata": {},
   "outputs": [
    {
     "name": "stdout",
     "output_type": "stream",
     "text": [
      "tagesspiegel-2020-09-05/01239.json\n"
     ]
    },
    {
     "data": {
      "text/plain": [
       "{'files inspected': 89,\n",
       " 'files with ads': 40,\n",
       " 'ads removed': 51,\n",
       " 'files removed': 1,\n",
       " 'files removed reasons': ['too short'],\n",
       " 'dates imputed': 7}"
      ]
     },
     "execution_count": 8,
     "metadata": {},
     "output_type": "execute_result"
    }
   ],
   "source": [
    "ct.clean_up('tagesspiegel-2020-09-05','2020-09-05')"
   ]
  },
  {
   "cell_type": "markdown",
   "metadata": {},
   "source": [
    "## ml task"
   ]
  },
  {
   "cell_type": "code",
   "execution_count": null,
   "metadata": {},
   "outputs": [],
   "source": []
  },
  {
   "cell_type": "code",
   "execution_count": 5,
   "metadata": {},
   "outputs": [],
   "source": [
    "import os\n",
    "\n",
    "from sklearn.pipeline import Pipeline\n",
    "from sklearn.feature_extraction.text import TfidfVectorizer\n",
    "from sklearn.feature_extraction.text import CountVectorizer\n",
    "from sklearn.cluster import KMeans\n",
    "\n",
    "import re\n",
    "\n",
    "from textblob_de import TextBlobDE \n",
    "\n",
    "import glob\n",
    "import pandas as pd\n",
    "import numpy as np\n",
    "\n",
    "import matplotlib.pyplot as plt\n",
    "\n",
    "import math\n",
    "\n",
    "import json\n",
    "\n",
    "\n",
    "def preprocess(text):\n",
    "    #print(text)\n",
    "    a = text.lower() # lower cases only\n",
    "    b = re.sub(\"(\\\\W|\\\\d)\",\" \",a) #remove non-ascii and digits\n",
    "    blob = TextBlobDE(b)\n",
    "    return(blob.words.lemmatize()) # lemmatize for german\n",
    "\n",
    "\n",
    "def read_articles_transform_to_df (path_to_text_files='../tagesspiegel/*.txt', debug=False):\n",
    "\n",
    "\tfile_list=glob.glob(path_to_text_files)\n",
    "\t#file_list = glob.glob(\"../tagesspiegel/*.txt\")\n",
    "\t#print(file_list)\n",
    "\n",
    "\tn = len(file_list)\n",
    "\tprint(n , \"files to work with.\")\n",
    "\tif debug==True:\n",
    "\t\tn_restrict = 10\n",
    "\t\tprint('debug mode, working with a subset of ' + str(n_restrict) + ' files.')\n",
    "\t\tn = n_restrict\n",
    "        \n",
    "\t#list_of_articles = []\n",
    "\tX = pd.DataFrame(columns=['file','title','text','description','date','image'])\n",
    "\n",
    "\tfor i in range(n):\n",
    "\t\t#print(i, ' of ', n)\n",
    "\t\twith open (file_list[i]) as file:\n",
    "\t\t\tarticle = json.loads(file.read())\n",
    "\t\t\tprint(file_list[i])\n",
    "\t\t\tX=X.append({'file':file_list[i] , 'text':article['text'], 'title':article['title'], 'description':article['description'], 'date':article['publish-date'], 'image':article['image']}, ignore_index=True)\n",
    "\t#print(X.shape)\n",
    "\treturn(X)\n",
    "\n",
    "def enthropy(pv):\n",
    "\t# should check, that all values are positive and sum to (about) 1\n",
    "\treturn(-sum([pv[i]*math.log(pv[i]) for i in range(len(pv))]))\n",
    "\n",
    "def evaluate_cluster(km_object):\n",
    "\tn, bins, patches = plt.hist(km_object.labels_, km_object.n_clusters, facecolor='blue', alpha=0.5)\n",
    "\tplt.title('sizes of clusters')\n",
    "\tplt.ylabel('nr. of articles')\n",
    "\tplt.show()\n",
    "\n",
    "\trel_fq = [round(ni/sum(n),3) for ni in n] \n",
    "#\t\tprint('elements in bins: ' , n)\n",
    "#\t\tprint('relative size of bins: ', rel_fq)\n",
    "#\t\tprint('enthropy: ', enthropy(rel_fq))\n",
    "\n",
    "\treturn({'n': n , 'frequencies': rel_fq , 'enthropy': enthropy(rel_fq), 'inertia':km_object.inertia_})"
   ]
  },
  {
   "cell_type": "markdown",
   "metadata": {},
   "source": [
    "preprocessing does some basic transfomation of a text into a wordlist:\n",
    "\n",
    "Remove non ascii symbols and numbers / digits.\n",
    "\n",
    "Remove punctuation. Lemmatize."
   ]
  },
  {
   "cell_type": "code",
   "execution_count": 51,
   "metadata": {},
   "outputs": [
    {
     "data": {
      "text/plain": [
       "WordList(['ich', 'meinern', 'mir', 'mich', 'hallo', 'hier', 'sein', 'ein', 'baum', 'oder', 'oder', 'oder', 'bzw', 'zwölf', 'laufen', 'laufen', 'laufen'])"
      ]
     },
     "execution_count": 51,
     "metadata": {},
     "output_type": "execute_result"
    }
   ],
   "source": [
    "preprocess('Ich, meiner, mir, mich. Hallo hier ist ein Baum. %§/$. Oder 8 oder 9 oder 77 bzw. zwölf?? Läuft lief gelaufen')"
   ]
  },
  {
   "cell_type": "code",
   "execution_count": 6,
   "metadata": {},
   "outputs": [
    {
     "name": "stdout",
     "output_type": "stream",
     "text": [
      "736 files to work with.\n",
      "debug mode, working with a subset of 10 files.\n",
      "tagesspiegel_01/00946-clean.json\n"
     ]
    },
    {
     "ename": "KeyError",
     "evalue": "'image'",
     "output_type": "error",
     "traceback": [
      "\u001b[0;31m---------------------------------------------------------------------------\u001b[0m",
      "\u001b[0;31mKeyError\u001b[0m                                  Traceback (most recent call last)",
      "\u001b[0;32m<ipython-input-6-7569e69caf81>\u001b[0m in \u001b[0;36m<module>\u001b[0;34m\u001b[0m\n\u001b[0;32m----> 1\u001b[0;31m \u001b[0mX\u001b[0m \u001b[0;34m=\u001b[0m \u001b[0mread_articles_transform_to_df\u001b[0m\u001b[0;34m(\u001b[0m\u001b[0;34m'tagesspiegel_01/*clean.json'\u001b[0m\u001b[0;34m,\u001b[0m\u001b[0mdebug\u001b[0m\u001b[0;34m=\u001b[0m\u001b[0;32mTrue\u001b[0m\u001b[0;34m)\u001b[0m\u001b[0;34m\u001b[0m\u001b[0;34m\u001b[0m\u001b[0m\n\u001b[0m\u001b[1;32m      2\u001b[0m \u001b[0;31m#X['text'][0] # to check what we work with: Umlaute are correct, Data cleaning should have removed advertising text ...\u001b[0m\u001b[0;34m\u001b[0m\u001b[0;34m\u001b[0m\u001b[0;34m\u001b[0m\u001b[0m\n",
      "\u001b[0;32m<ipython-input-5-5523ccf01ce5>\u001b[0m in \u001b[0;36mread_articles_transform_to_df\u001b[0;34m(path_to_text_files, debug)\u001b[0m\n\u001b[1;32m     50\u001b[0m                         \u001b[0marticle\u001b[0m \u001b[0;34m=\u001b[0m \u001b[0mjson\u001b[0m\u001b[0;34m.\u001b[0m\u001b[0mloads\u001b[0m\u001b[0;34m(\u001b[0m\u001b[0mfile\u001b[0m\u001b[0;34m.\u001b[0m\u001b[0mread\u001b[0m\u001b[0;34m(\u001b[0m\u001b[0;34m)\u001b[0m\u001b[0;34m)\u001b[0m\u001b[0;34m\u001b[0m\u001b[0;34m\u001b[0m\u001b[0m\n\u001b[1;32m     51\u001b[0m                         \u001b[0mprint\u001b[0m\u001b[0;34m(\u001b[0m\u001b[0mfile_list\u001b[0m\u001b[0;34m[\u001b[0m\u001b[0mi\u001b[0m\u001b[0;34m]\u001b[0m\u001b[0;34m)\u001b[0m\u001b[0;34m\u001b[0m\u001b[0;34m\u001b[0m\u001b[0m\n\u001b[0;32m---> 52\u001b[0;31m                         \u001b[0mX\u001b[0m\u001b[0;34m=\u001b[0m\u001b[0mX\u001b[0m\u001b[0;34m.\u001b[0m\u001b[0mappend\u001b[0m\u001b[0;34m(\u001b[0m\u001b[0;34m{\u001b[0m\u001b[0;34m'file'\u001b[0m\u001b[0;34m:\u001b[0m\u001b[0mfile_list\u001b[0m\u001b[0;34m[\u001b[0m\u001b[0mi\u001b[0m\u001b[0;34m]\u001b[0m \u001b[0;34m,\u001b[0m \u001b[0;34m'text'\u001b[0m\u001b[0;34m:\u001b[0m\u001b[0marticle\u001b[0m\u001b[0;34m[\u001b[0m\u001b[0;34m'text'\u001b[0m\u001b[0;34m]\u001b[0m\u001b[0;34m,\u001b[0m \u001b[0;34m'title'\u001b[0m\u001b[0;34m:\u001b[0m\u001b[0marticle\u001b[0m\u001b[0;34m[\u001b[0m\u001b[0;34m'title'\u001b[0m\u001b[0;34m]\u001b[0m\u001b[0;34m,\u001b[0m \u001b[0;34m'description'\u001b[0m\u001b[0;34m:\u001b[0m\u001b[0marticle\u001b[0m\u001b[0;34m[\u001b[0m\u001b[0;34m'description'\u001b[0m\u001b[0;34m]\u001b[0m\u001b[0;34m,\u001b[0m \u001b[0;34m'date'\u001b[0m\u001b[0;34m:\u001b[0m\u001b[0marticle\u001b[0m\u001b[0;34m[\u001b[0m\u001b[0;34m'publish-date'\u001b[0m\u001b[0;34m]\u001b[0m\u001b[0;34m,\u001b[0m \u001b[0;34m'image'\u001b[0m\u001b[0;34m:\u001b[0m\u001b[0marticle\u001b[0m\u001b[0;34m[\u001b[0m\u001b[0;34m'image'\u001b[0m\u001b[0;34m]\u001b[0m\u001b[0;34m}\u001b[0m\u001b[0;34m,\u001b[0m \u001b[0mignore_index\u001b[0m\u001b[0;34m=\u001b[0m\u001b[0;32mTrue\u001b[0m\u001b[0;34m)\u001b[0m\u001b[0;34m\u001b[0m\u001b[0;34m\u001b[0m\u001b[0m\n\u001b[0m\u001b[1;32m     53\u001b[0m         \u001b[0;31m#print(X.shape)\u001b[0m\u001b[0;34m\u001b[0m\u001b[0;34m\u001b[0m\u001b[0;34m\u001b[0m\u001b[0m\n\u001b[1;32m     54\u001b[0m         \u001b[0;32mreturn\u001b[0m\u001b[0;34m(\u001b[0m\u001b[0mX\u001b[0m\u001b[0;34m)\u001b[0m\u001b[0;34m\u001b[0m\u001b[0;34m\u001b[0m\u001b[0m\n",
      "\u001b[0;31mKeyError\u001b[0m: 'image'"
     ]
    }
   ],
   "source": [
    "X = read_articles_transform_to_df('tagesspiegel_01/*clean.json',debug=True)\n",
    "#X['text'][0] # to check what we work with: Umlaute are correct, Data cleaning should have removed advertising text ..."
   ]
  },
  {
   "cell_type": "code",
   "execution_count": 76,
   "metadata": {},
   "outputs": [
    {
     "data": {
      "text/plain": [
       "WordList(['Schüler', 'in', 'nrw', 'müssen', 'auch', 'im', 'unterricht', 'maske', 'tragen'])"
      ]
     },
     "execution_count": 76,
     "metadata": {},
     "output_type": "execute_result"
    }
   ],
   "source": [
    "preprocess(X.iloc[8]['title'])"
   ]
  },
  {
   "cell_type": "code",
   "execution_count": 55,
   "metadata": {},
   "outputs": [
    {
     "data": {
      "text/plain": [
       "<bound method NDFrame.head of 0                                         Der Tonretter\n",
       "1            Leugnen, Kleinreden, Verschwörungstheorien\n",
       "2     Der Schmerzensmann – zum Tod des Schauspielers...\n",
       "3     Polizeipräsidentin verurteilt „martialische“ S...\n",
       "4     Mit Index.hu ist „Ungarns Startseite“ dem Syst...\n",
       "5     Die Fachbegriffe der Corona-Pandemie und was s...\n",
       "6     Wie eine Krankheit meine Freundin verschwinden...\n",
       "7     Hertha-Investor Lars Windhorst lässt nicht locker\n",
       "8     Schüler in NRW müssen auch im Unterricht Maske...\n",
       "9     Weltmeister André Schürrle beendet mit nur 29 ...\n",
       "10                          Dating-Seiten im Überblick*\n",
       "11         Hertha BSC und die Probleme in der Offensive\n",
       "12            Die kulinarischen Höhepunkte im September\n",
       "13    Streit übers Klima stürzt Berliner Koalition i...\n",
       "14             Warum Jörg Sartor die SPD aufgegeben hat\n",
       "15    Als nächstes möchten sie das Grundgesetz absch...\n",
       "16    „Der Brand in Moria ist eine Katastrophe mit A...\n",
       "17    Bushido vergleicht Beziehung zu Clanchef Abou-...\n",
       "18               Seehofer gegen „nationale Alleingänge“\n",
       "19     „Taz“-Kolumne ist kein Verstoß gegen Pressekodex\n",
       "Name: title, dtype: object>"
      ]
     },
     "execution_count": 55,
     "metadata": {},
     "output_type": "execute_result"
    }
   ],
   "source": [
    "type(X) , X.shape\n",
    "X['title'].head"
   ]
  },
  {
   "cell_type": "code",
   "execution_count": 58,
   "metadata": {},
   "outputs": [
    {
     "data": {
      "text/plain": [
       "['der tonretter',\n",
       " 'leugnen kleinred verschwörungstheorien',\n",
       " 'der schmerzensmann zum tod des schauspielers birol ünel',\n",
       " 'polizeipräsidentin verurteilt martialisch sprüche bei aufnahmeritual',\n",
       " 'mit index hu sein ungarns startseite dem system orbán zum opfer gefallen',\n",
       " 'die fachbegriffe der corona pandemie und was sie bedeuten',\n",
       " 'wie ein krankheit meine freundin verschwinden lassen',\n",
       " 'hertha investor lars windhorst lassen nicht lock',\n",
       " 'Schüler in nrw müssen auch im unterricht maske tragen',\n",
       " 'weltmeister andré schürrle beendet mit nur jahren seine karriere',\n",
       " 'dating seiten im überblick',\n",
       " 'hertha bsc und die probleme in der offensive',\n",
       " 'die kulinarisch höhepunkte im september',\n",
       " 'streit übers klima stürzt berlin koalition in die krise',\n",
       " 'warum jörg sartor die spd aufgeben haben',\n",
       " 'als nächst möcht sie das grundgesetz abschaffen',\n",
       " 'der brand in moria sein ein katastrophe mit ansage',\n",
       " 'bushido vergleichen beziehung zu clanchef abou chaker mit zwangsheirat',\n",
       " 'Seehofer gegen national alleingänge',\n",
       " 'taz kolumne sein kein verstoss gegen pressekodex']"
      ]
     },
     "execution_count": 58,
     "metadata": {},
     "output_type": "execute_result"
    }
   ],
   "source": [
    "[' '.join(preprocess(t)) for t in X['title']]"
   ]
  },
  {
   "cell_type": "code",
   "execution_count": null,
   "metadata": {},
   "outputs": [],
   "source": []
  },
  {
   "cell_type": "code",
   "execution_count": 79,
   "metadata": {},
   "outputs": [
    {
     "name": "stdout",
     "output_type": "stream",
     "text": [
      "['der tonretter', 'leugnen kleinred verschwörungstheorien', 'der schmerzensmann zum tod des schauspielers birol ünel', 'polizeipräsidentin verurteilt martialisch sprüche bei aufnahmeritual', 'mit index hu sein ungarns startseite dem system orbán zum opfer gefallen', 'die fachbegriffe der corona pandemie und was sie bedeuten', 'wie ein krankheit meine freundin verschwinden lassen', 'hertha investor lars windhorst lassen nicht lock', 'Schüler in nrw müssen auch im unterricht maske tragen', 'weltmeister andré schürrle beendet mit nur jahren seine karriere', 'dating seiten im überblick', 'hertha bsc und die probleme in der offensive', 'die kulinarisch höhepunkte im september', 'streit übers klima stürzt berlin koalition in die krise', 'warum jörg sartor die spd aufgeben haben', 'als nächst möcht sie das grundgesetz abschaffen', 'der brand in moria sein ein katastrophe mit ansage', 'bushido vergleichen beziehung zu clanchef abou chaker mit zwangsheirat', 'Seehofer gegen national alleingänge', 'taz kolumne sein kein verstoss gegen pressekodex']\n"
     ]
    }
   ],
   "source": [
    "list_of_titles = [' '.join(preprocess(t)) for t in X['title']]\n",
    "print(list_of_titles)\n",
    "\n",
    "cv = TfidfVectorizer(max_df=0.8 , min_df =2)\n",
    "#print('cv: ' , dir(cv))\n",
    "km =  KMeans(init='k-means++', n_clusters=5, n_init=10)\n",
    "\n",
    "text_cluster = Pipeline([('vect', cv), ('cluster', km) ])\n",
    "\n",
    "#text_cluster.fit(list_of_titles[0:100])\n",
    "text_cluster.fit(list_of_titles)\n",
    "\n",
    "#labels_as_column = pd.DataFrame(km.labels_)\n",
    "#print(type(labels_as_column), labels_as_column.shape)\n",
    "\n",
    "X['cluster'] = pd.DataFrame(km.labels_) # contains labels\n",
    "#print(X)"
   ]
  },
  {
   "cell_type": "code",
   "execution_count": null,
   "metadata": {},
   "outputs": [],
   "source": []
  },
  {
   "cell_type": "code",
   "execution_count": 61,
   "metadata": {},
   "outputs": [
    {
     "data": {
      "image/png": "[encoded data removed]",
      "text/plain": [
       "<Figure size 432x288 with 1 Axes>"
      ]
     },
     "metadata": {
      "needs_background": "light"
     },
     "output_type": "display_data"
    },
    {
     "data": {
      "text/plain": [
       "{'n': array([2., 4., 9., 3., 2.]),\n",
       " 'frequencies': [0.1, 0.2, 0.45, 0.15, 0.1],\n",
       " 'enthropy': 1.4263010621165084,\n",
       " 'inertia': 7.69579025609874}"
      ]
     },
     "execution_count": 61,
     "metadata": {},
     "output_type": "execute_result"
    }
   ],
   "source": [
    "evaluate_cluster(km)\n",
    "#cv.get_feature_names()[0:10]"
   ]
  },
  {
   "cell_type": "markdown",
   "metadata": {},
   "source": [
    "## Word cloud representation for cluster\n",
    "\n",
    "Collect all text from a specified cluster and create its wordcloud."
   ]
  },
  {
   "cell_type": "markdown",
   "metadata": {},
   "source": [
    "Some stopwords are features."
   ]
  },
  {
   "cell_type": "code",
   "execution_count": 114,
   "metadata": {},
   "outputs": [
    {
     "data": {
      "text/plain": [
       "True"
      ]
     },
     "execution_count": 114,
     "metadata": {},
     "output_type": "execute_result"
    }
   ],
   "source": [
    "my_stopper = ['nur','sein','seine','deine','meine','am','sie','bei','durch','noch','sich','in','im','ihr','ihre','vor','zur','seit','es','zu','werden','haben','sein','von','jedoch','auch','des','dies','als','wie','dem','den','um','mit','sein','auf','der','die','das','und','ein','aus','kein','wir','ihr','er','dass','du','ich','mein','mich','dein','dir','dich']\n",
    "'meine' in my_stopper\n",
    "# [w in cv.get_feature_names() for w in my_stopper]"
   ]
  },
  {
   "cell_type": "markdown",
   "metadata": {},
   "source": [
    "For each cluster save the articles belonging to the cluster in a csv file.\n",
    "\n",
    "For each cluster create a wordcloud from all article titles to represent the cluster.\n"
   ]
  },
  {
   "cell_type": "code",
   "execution_count": 116,
   "metadata": {},
   "outputs": [],
   "source": [
    "#!pip install wordcloud\n",
    "\n",
    "K=km.n_clusters\n",
    "for k in range(K):\n",
    "    Xcl = X.loc[X['cluster']==k]\n",
    "    \n",
    "    # write articles in this cluster to csv file\n",
    "    ## needed later to display headlines and text from the (externally running) Flask server\n",
    "    \n",
    "    filename = 'article_clustered'+str(k)+'.csv'\n",
    "    Xcl.to_csv(filename, sep=';', encoding='utf-8', header=True)\n",
    "    \n",
    "    # all words of all titles in one string, preprocessed and without stopp words\n",
    "    t1 = [' '.join(preprocess(t)) for t in Xcl['title']]\n",
    "    t2 = ' '.join(t1)\n",
    "    text = [w for w in t2.split() if w not in my_stopper]\n",
    "    \n",
    "    wordcloud = WordCloud().generate(' '.join(text))\n",
    "    wordcloud.to_file('cluster'+str(k)+'.png')"
   ]
  },
  {
   "cell_type": "code",
   "execution_count": null,
   "metadata": {},
   "outputs": [],
   "source": []
  },
  {
   "cell_type": "code",
   "execution_count": null,
   "metadata": {},
   "outputs": [],
   "source": []
  },
  {
   "cell_type": "markdown",
   "metadata": {},
   "source": [
    "## presentation as html , website\n",
    "\n",
    "* call an external python script to start the server (Flask)\n",
    "* go to 127.0.0.0:5005 to interact with the website"
   ]
  },
  {
   "cell_type": "code",
   "execution_count": 9,
   "metadata": {},
   "outputs": [
    {
     "data": {
      "text/html": [
       "<div>\n",
       "<style scoped>\n",
       "    .dataframe tbody tr th:only-of-type {\n",
       "        vertical-align: middle;\n",
       "    }\n",
       "\n",
       "    .dataframe tbody tr th {\n",
       "        vertical-align: top;\n",
       "    }\n",
       "\n",
       "    .dataframe thead th {\n",
       "        text-align: right;\n",
       "    }\n",
       "</style>\n",
       "<table border=\"1\" class=\"dataframe\">\n",
       "  <thead>\n",
       "    <tr style=\"text-align: right;\">\n",
       "      <th></th>\n",
       "      <th>file</th>\n",
       "      <th>text</th>\n",
       "      <th>headline</th>\n",
       "      <th>cluster</th>\n",
       "    </tr>\n",
       "  </thead>\n",
       "  <tbody>\n",
       "    <tr>\n",
       "      <th>0</th>\n",
       "      <td>tagesspiegel_01/00946-clean.json</td>\n",
       "      <td>dass australien heuen ein weinexportnation sei...</td>\n",
       "      <td>Der Tonretter</td>\n",
       "      <td>4</td>\n",
       "    </tr>\n",
       "    <tr>\n",
       "      <th>1</th>\n",
       "      <td>tagesspiegel_01/00971-clean.json</td>\n",
       "      <td>am sonntag versprüht zum ersen mal ein lastwag...</td>\n",
       "      <td>Leugnen, Kleinreden, Verschwörungstheorien</td>\n",
       "      <td>1</td>\n",
       "    </tr>\n",
       "    <tr>\n",
       "      <th>2</th>\n",
       "      <td>tagesspiegel_01/01081-clean.json</td>\n",
       "      <td>er machen ein angst und bange so wie er sich v...</td>\n",
       "      <td>Der Schmerzensmann – zum Tod des Schauspielers...</td>\n",
       "      <td>3</td>\n",
       "    </tr>\n",
       "    <tr>\n",
       "      <th>3</th>\n",
       "      <td>tagesspiegel_01/00782-clean.json</td>\n",
       "      <td>die berliner polizei müssen sich erneuen mit f...</td>\n",
       "      <td>Polizeipräsidentin verurteilt „martialische“ S...</td>\n",
       "      <td>4</td>\n",
       "    </tr>\n",
       "    <tr>\n",
       "      <th>4</th>\n",
       "      <td>tagesspiegel_01/00852-clean.json</td>\n",
       "      <td>es sein ein stumm prozession nur das geschnatt...</td>\n",
       "      <td>Mit Index.hu ist „Ungarns Startseite“ dem Syst...</td>\n",
       "      <td>1</td>\n",
       "    </tr>\n",
       "    <tr>\n",
       "      <th>5</th>\n",
       "      <td>tagesspiegel_01/00696-clean.json</td>\n",
       "      <td>auf der pressekonferenz des robert koch instit...</td>\n",
       "      <td>Die Fachbegriffe der Corona-Pandemie und was s...</td>\n",
       "      <td>1</td>\n",
       "    </tr>\n",
       "    <tr>\n",
       "      <th>6</th>\n",
       "      <td>tagesspiegel_01/00865-clean.json</td>\n",
       "      <td>meinen freundin sein verschwund seit monaten z...</td>\n",
       "      <td>Wie eine Krankheit meine Freundin verschwinden...</td>\n",
       "      <td>1</td>\n",
       "    </tr>\n",
       "    <tr>\n",
       "      <th>7</th>\n",
       "      <td>tagesspiegel_01/00924-clean.json</td>\n",
       "      <td>immer wieder lars windhorst der hertha investo...</td>\n",
       "      <td>Hertha-Investor Lars Windhorst lässt nicht locker</td>\n",
       "      <td>2</td>\n",
       "    </tr>\n",
       "    <tr>\n",
       "      <th>8</th>\n",
       "      <td>tagesspiegel_01/00913-clean.json</td>\n",
       "      <td>Nordrhein westfal führen ein weitgehend masken...</td>\n",
       "      <td>Schüler in NRW müssen auch im Unterricht Maske...</td>\n",
       "      <td>0</td>\n",
       "    </tr>\n",
       "    <tr>\n",
       "      <th>9</th>\n",
       "      <td>tagesspiegel_01/00830-clean.json</td>\n",
       "      <td>andré schürrle reden offen über einsamkeit übe...</td>\n",
       "      <td>Weltmeister André Schürrle beendet mit nur 29 ...</td>\n",
       "      <td>2</td>\n",
       "    </tr>\n",
       "  </tbody>\n",
       "</table>\n",
       "</div>"
      ],
      "text/plain": [
       "                               file  \\\n",
       "0  tagesspiegel_01/00946-clean.json   \n",
       "1  tagesspiegel_01/00971-clean.json   \n",
       "2  tagesspiegel_01/01081-clean.json   \n",
       "3  tagesspiegel_01/00782-clean.json   \n",
       "4  tagesspiegel_01/00852-clean.json   \n",
       "5  tagesspiegel_01/00696-clean.json   \n",
       "6  tagesspiegel_01/00865-clean.json   \n",
       "7  tagesspiegel_01/00924-clean.json   \n",
       "8  tagesspiegel_01/00913-clean.json   \n",
       "9  tagesspiegel_01/00830-clean.json   \n",
       "\n",
       "                                                text  \\\n",
       "0  dass australien heuen ein weinexportnation sei...   \n",
       "1  am sonntag versprüht zum ersen mal ein lastwag...   \n",
       "2  er machen ein angst und bange so wie er sich v...   \n",
       "3  die berliner polizei müssen sich erneuen mit f...   \n",
       "4  es sein ein stumm prozession nur das geschnatt...   \n",
       "5  auf der pressekonferenz des robert koch instit...   \n",
       "6  meinen freundin sein verschwund seit monaten z...   \n",
       "7  immer wieder lars windhorst der hertha investo...   \n",
       "8  Nordrhein westfal führen ein weitgehend masken...   \n",
       "9  andré schürrle reden offen über einsamkeit übe...   \n",
       "\n",
       "                                            headline  cluster  \n",
       "0                                      Der Tonretter        4  \n",
       "1         Leugnen, Kleinreden, Verschwörungstheorien        1  \n",
       "2  Der Schmerzensmann – zum Tod des Schauspielers...        3  \n",
       "3  Polizeipräsidentin verurteilt „martialische“ S...        4  \n",
       "4  Mit Index.hu ist „Ungarns Startseite“ dem Syst...        1  \n",
       "5  Die Fachbegriffe der Corona-Pandemie und was s...        1  \n",
       "6  Wie eine Krankheit meine Freundin verschwinden...        1  \n",
       "7  Hertha-Investor Lars Windhorst lässt nicht locker        2  \n",
       "8  Schüler in NRW müssen auch im Unterricht Maske...        0  \n",
       "9  Weltmeister André Schürrle beendet mit nur 29 ...        2  "
      ]
     },
     "execution_count": 9,
     "metadata": {},
     "output_type": "execute_result"
    }
   ],
   "source": []
  },
  {
   "cell_type": "code",
   "execution_count": null,
   "metadata": {},
   "outputs": [],
   "source": []
  },
  {
   "cell_type": "code",
   "execution_count": null,
   "metadata": {},
   "outputs": [],
   "source": [
    "\n"
   ]
  },
  {
   "cell_type": "code",
   "execution_count": null,
   "metadata": {},
   "outputs": [],
   "source": []
  },
  {
   "cell_type": "code",
   "execution_count": null,
   "metadata": {},
   "outputs": [],
   "source": []
  }
 ],
 "metadata": {
  "kernelspec": {
   "display_name": "Python 3",
   "language": "python",
   "name": "python3"
  },
  "language_info": {
   "codemirror_mode": {
    "name": "ipython",
    "version": 3
   },
   "file_extension": ".py",
   "mimetype": "text/x-python",
   "name": "python",
   "nbconvert_exporter": "python",
   "pygments_lexer": "ipython3",
   "version": "3.7.3"
  }
 },
 "nbformat": 4,
 "nbformat_minor": 2
}
