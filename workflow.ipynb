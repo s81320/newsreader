{
 "cells": [
  {
   "cell_type": "markdown",
   "metadata": {},
   "source": [
    "# overall workflow"
   ]
  },
  {
   "cell_type": "markdown",
   "metadata": {},
   "source": [
    "## data acquisition\n",
    "We scrape data from Tagesspiegel, a Berlin based newspaper covering local, national and international topics."
   ]
  },
  {
   "cell_type": "code",
   "execution_count": 1,
   "metadata": {},
   "outputs": [],
   "source": [
    "from datetime import date\n",
    "from data_acquisition import scrape_tsp as st"
   ]
  },
  {
   "cell_type": "code",
   "execution_count": 2,
   "metadata": {},
   "outputs": [
    {
     "data": {
      "text/plain": [
       "'2020-09-12'"
      ]
     },
     "execution_count": 2,
     "metadata": {},
     "output_type": "execute_result"
    }
   ],
   "source": [
    "str(date.today())"
   ]
  },
  {
   "cell_type": "code",
   "execution_count": 3,
   "metadata": {},
   "outputs": [
    {
     "name": "stdout",
     "output_type": "stream",
     "text": [
      "<Response [200]>\n"
     ]
    },
    {
     "data": {
      "text/plain": [
       "'wrote 161 links to data_acquisition/links-tsp-2020-09-12.txt'"
      ]
     },
     "execution_count": 3,
     "metadata": {},
     "output_type": "execute_result"
    }
   ],
   "source": [
    "st.get_links()"
   ]
  },
  {
   "cell_type": "code",
   "execution_count": 4,
   "metadata": {},
   "outputs": [
    {
     "name": "stdout",
     "output_type": "stream",
     "text": [
      "got 161 links. \n",
      "wrote 1 links to data_acquisition/links-tsp-2020-09-12-new.txt\n"
     ]
    }
   ],
   "source": [
    "scraped_file = 'data_acquisition/links-tsp-' + str(date.today()) + '.txt'\n",
    "st.select_new_links(scraped_file)"
   ]
  },
  {
   "cell_type": "markdown",
   "metadata": {},
   "source": [
    "Before running the next cell, update the integer number in st.get_content( .. , int , ...)\n",
    "\n",
    "Should be updated to the number that was returned the last time the cell ran."
   ]
  },
  {
   "cell_type": "code",
   "execution_count": 54,
   "metadata": {},
   "outputs": [
    {
     "data": {
      "text/plain": [
       "1573"
      ]
     },
     "execution_count": 54,
     "metadata": {},
     "output_type": "execute_result"
    }
   ],
   "source": [
    "import os\n",
    "\n",
    "path_to_link_file= 'data_acquisition/links-tsp-'+str(date.today())+'-new.txt'\n",
    "path_to_output_folder='data_acquisition/tagesspiegel-'+str(date.today())\n",
    "\n",
    "_, dirs, _ = next(os.walk('data_acquisition'))\n",
    "#print(dirs)\n",
    "if 'tagesspiegel-'+str(date.today()) in dirs:\n",
    "    print(\"** folder exists **\")\n",
    "else:\n",
    "    os.mkdir(path_to_output_folder, mode=0o744) \n",
    "\n",
    "#print(path_to_output_folder)\n",
    "st.get_content(path_to_link_file,1478,path_to_output_folder)"
   ]
  },
  {
   "cell_type": "markdown",
   "metadata": {},
   "source": [
    "When articles are downloaded, add new links to 'bestand' (this file is needed to check for already downloaded articles, articles that are scraped on more than one occasion)"
   ]
  },
  {
   "cell_type": "code",
   "execution_count": 55,
   "metadata": {},
   "outputs": [],
   "source": [
    "!cat $path_to_link_file >> 'data_acquisition/links-tsp-bestand.txt'"
   ]
  },
  {
   "cell_type": "markdown",
   "metadata": {},
   "source": [
    "## data cleaning\n",
    " 1. We check for advertisement in the articles' text. Ad text is included in brackets [...]\n",
    " 2. We check for empty authors. \n",
    " 3. We check for missing date of publication\n",
    " 4. We check for press releases\n",
    " 5. remove content from plus.tagesspiegel.de (advertising, infotainment, Kundenbindung)\n",
    " \n",
    "ad 2: An empty list of authors is replaced by the name of the paper: Tagesspiegel.\n",
    "\n",
    "ad 4: An article that is a press release has closing characters (tsp) or (tsp,dpa) or similar. We remove the parenthesis and the enclosed text."
   ]
  },
  {
   "cell_type": "code",
   "execution_count": 1,
   "metadata": {},
   "outputs": [],
   "source": [
    "from data_cleaning import clean_tsp as ct"
   ]
  },
  {
   "cell_type": "code",
   "execution_count": 84,
   "metadata": {},
   "outputs": [
    {
     "data": {
      "text/plain": [
       "{'files inspected': 0,\n",
       " 'files with ads': 44,\n",
       " 'ads removed': 58,\n",
       " 'files not clean': 5,\n",
       " 'files not clean reasons': ['content from plus.tagesspiegel.de (url)',\n",
       "  'content from plus.tagesspiegel.de (url)',\n",
       "  'content from plus.tagesspiegel.de (url)',\n",
       "  'content from plus.tagesspiegel.de (url)',\n",
       "  'too short'],\n",
       " 'dates imputed': 0}"
      ]
     },
     "execution_count": 84,
     "metadata": {},
     "output_type": "execute_result"
    }
   ],
   "source": [
    "ct.clean_up('data_acquisition/tagesspiegel-2020-09-12','2020-09-12')"
   ]
  },
  {
   "cell_type": "code",
   "execution_count": 86,
   "metadata": {},
   "outputs": [],
   "source": [
    "# move clean files to where they will be picked up downstream in our workflow\n",
    "!mv data_acquisition/tagesspiegel-2020-09-12/*clean.json articles_02"
   ]
  },
  {
   "cell_type": "code",
   "execution_count": 2,
   "metadata": {},
   "outputs": [],
   "source": [
    "ct.impute_description('articles_02')"
   ]
  },
  {
   "cell_type": "code",
   "execution_count": 33,
   "metadata": {},
   "outputs": [],
   "source": [
    "_, _, file = next(os.walk('articles_02'))\n",
    "#print(dirs)\n",
    "#print(file)\n",
    "for f in file:\n",
    "    #print(f)\n",
    "    with open('articles_02/'+f,'r') as ff:\n",
    "        a1 = ff.read()\n",
    "        a2 = json.loads(a1)\n",
    "#        print(a2['text-link'], list(a2.keys()))\n",
    "        if 'description' not in list(a2.keys()):\n",
    "            print(f)\n",
    "  #          a2['description']=a2['title']\n",
    "   #         print(a2)\n",
    "    #        a3 = json.dumps(a2, indent=4) # dumps , before used dump\n",
    "     #       with open('articles_02/'+f,'w') as fff:\n",
    "      #          fff.write(a3)"
   ]
  },
  {
   "cell_type": "code",
   "execution_count": null,
   "metadata": {},
   "outputs": [],
   "source": []
  },
  {
   "cell_type": "code",
   "execution_count": null,
   "metadata": {},
   "outputs": [],
   "source": []
  },
  {
   "cell_type": "markdown",
   "metadata": {},
   "source": [
    "### protocols from previous cleanings"
   ]
  },
  {
   "cell_type": "code",
   "execution_count": 8,
   "metadata": {},
   "outputs": [
    {
     "data": {
      "text/plain": [
       "{'files inspected': 0,\n",
       " 'files with ads': 63,\n",
       " 'ads removed': 96,\n",
       " 'files not clean': 8,\n",
       " 'files bot clean reasons': ['too short',\n",
       "  'content from plus.tagesspiegel.de (url)',\n",
       "  'content from plus.tagesspiegel.de (url)',\n",
       "  'content from plus.tagesspiegel.de (url)',\n",
       "  'content from plus.tagesspiegel.de (url)',\n",
       "  'content from plus.tagesspiegel.de (url)',\n",
       "  'content from plus.tagesspiegel.de (url)',\n",
       "  'content from plus.tagesspiegel.de (url)'],\n",
       " 'dates imputed': 0}"
      ]
     },
     "execution_count": 8,
     "metadata": {},
     "output_type": "execute_result"
    }
   ],
   "source": [
    "ct.clean_up('data_acquisition/tagesspiegel-2020-09-09','2020-09-09')"
   ]
  },
  {
   "cell_type": "code",
   "execution_count": 5,
   "metadata": {},
   "outputs": [
    {
     "name": "stdout",
     "output_type": "stream",
     "text": [
      "tagesspiegel-2020-08-02/00843.json\n",
      "tagesspiegel-2020-08-02/00859.json\n",
      "tagesspiegel-2020-08-02/00878.json\n",
      "tagesspiegel-2020-08-02/00840.json\n"
     ]
    },
    {
     "data": {
      "text/plain": [
       "{'files inspected': 78,\n",
       " 'files with ads': 43,\n",
       " 'ads removed': 64,\n",
       " 'files removed': 4,\n",
       " 'files removed reasons': ['wrong type: author',\n",
       "  'wrong type: imagegallery',\n",
       "  'too short',\n",
       "  'too short'],\n",
       " 'dates imputed': 6}"
      ]
     },
     "execution_count": 5,
     "metadata": {},
     "output_type": "execute_result"
    }
   ],
   "source": [
    "ct.clean_up('tagesspiegel-2020-08-02','2020-08-02')"
   ]
  },
  {
   "cell_type": "code",
   "execution_count": 3,
   "metadata": {},
   "outputs": [
    {
     "name": "stdout",
     "output_type": "stream",
     "text": [
      "tagesspiegel-2020-09-04/01126.json\n",
      "tagesspiegel-2020-09-04/01045.json\n",
      "tagesspiegel-2020-09-04/01048.json\n"
     ]
    },
    {
     "data": {
      "text/plain": [
       "{'files inspected': 138,\n",
       " 'files with ads': 61,\n",
       " 'ads removed': 81,\n",
       " 'files removed': 3,\n",
       " 'files removed reasons': ['wrong type: imagegallery',\n",
       "  'wrong type: imagegallery',\n",
       "  'wrong type: imagegallery'],\n",
       " 'dates imputed': 9}"
      ]
     },
     "execution_count": 3,
     "metadata": {},
     "output_type": "execute_result"
    }
   ],
   "source": [
    "ct.clean_up('tagesspiegel-2020-09-04','2020-09-04')"
   ]
  },
  {
   "cell_type": "code",
   "execution_count": 4,
   "metadata": {},
   "outputs": [
    {
     "name": "stdout",
     "output_type": "stream",
     "text": [
      "tagesspiegel-2020-08-04/00973.json\n",
      "tagesspiegel-2020-08-04/01016.json\n",
      "tagesspiegel-2020-08-04/00914.json\n"
     ]
    },
    {
     "data": {
      "text/plain": [
       "{'files inspected': 118,\n",
       " 'files with ads': 60,\n",
       " 'ads removed': 74,\n",
       " 'files removed': 3,\n",
       " 'files removed reasons': ['too short',\n",
       "  'wrong type: imagegallery',\n",
       "  'too short'],\n",
       " 'dates imputed': 6}"
      ]
     },
     "execution_count": 4,
     "metadata": {},
     "output_type": "execute_result"
    }
   ],
   "source": [
    "ct.clean_up('tagesspiegel-2020-08-04','2020-08-04')"
   ]
  },
  {
   "cell_type": "code",
   "execution_count": 8,
   "metadata": {},
   "outputs": [
    {
     "name": "stdout",
     "output_type": "stream",
     "text": [
      "tagesspiegel-2020-09-05/01239.json\n"
     ]
    },
    {
     "data": {
      "text/plain": [
       "{'files inspected': 89,\n",
       " 'files with ads': 40,\n",
       " 'ads removed': 51,\n",
       " 'files removed': 1,\n",
       " 'files removed reasons': ['too short'],\n",
       " 'dates imputed': 7}"
      ]
     },
     "execution_count": 8,
     "metadata": {},
     "output_type": "execute_result"
    }
   ],
   "source": [
    "ct.clean_up('tagesspiegel-2020-09-05','2020-09-05')"
   ]
  },
  {
   "cell_type": "markdown",
   "metadata": {},
   "source": [
    "## ml task"
   ]
  },
  {
   "cell_type": "code",
   "execution_count": 34,
   "metadata": {},
   "outputs": [],
   "source": [
    "from ml_task import non_triv_ml as ml\n",
    "# my code"
   ]
  },
  {
   "cell_type": "markdown",
   "metadata": {},
   "source": [
    "ml.preprocess does some basic transfomation of a (German) text into a wordlist:\n",
    "\n",
    "* Remove non ascii symbols and numbers / digits.\n",
    "* Remove punctuation. \n",
    "* Lemmatize (for German language)."
   ]
  },
  {
   "cell_type": "code",
   "execution_count": 35,
   "metadata": {},
   "outputs": [],
   "source": [
    "from sklearn.pipeline import Pipeline\n",
    "from sklearn.feature_extraction.text import TfidfVectorizer\n",
    "from sklearn.feature_extraction.text import CountVectorizer\n",
    "from sklearn.cluster import KMeans, MiniBatchKMeans\n",
    "from sklearn import metrics"
   ]
  },
  {
   "cell_type": "code",
   "execution_count": 36,
   "metadata": {},
   "outputs": [
    {
     "name": "stdout",
     "output_type": "stream",
     "text": [
      "175 files to work with.\n"
     ]
    }
   ],
   "source": [
    "X = ml.read_articles_transform_to_df('articles_02/*clean.json',debug=False)\n",
    "#X['text'][0] # to check what we work with: Umlaute are correct, Data cleaning should have removed advertising text ..."
   ]
  },
  {
   "cell_type": "code",
   "execution_count": 41,
   "metadata": {},
   "outputs": [
    {
     "data": {
      "text/html": [
       "<div>\n",
       "<style scoped>\n",
       "    .dataframe tbody tr th:only-of-type {\n",
       "        vertical-align: middle;\n",
       "    }\n",
       "\n",
       "    .dataframe tbody tr th {\n",
       "        vertical-align: top;\n",
       "    }\n",
       "\n",
       "    .dataframe thead th {\n",
       "        text-align: right;\n",
       "    }\n",
       "</style>\n",
       "<table border=\"1\" class=\"dataframe\">\n",
       "  <thead>\n",
       "    <tr style=\"text-align: right;\">\n",
       "      <th></th>\n",
       "      <th>file</th>\n",
       "      <th>file_name</th>\n",
       "      <th>title</th>\n",
       "      <th>text</th>\n",
       "      <th>description</th>\n",
       "      <th>date</th>\n",
       "      <th>image</th>\n",
       "    </tr>\n",
       "  </thead>\n",
       "  <tbody>\n",
       "    <tr>\n",
       "      <th>0</th>\n",
       "      <td>articles_02/01417-clean.json</td>\n",
       "      <td>01417</td>\n",
       "      <td>Scheel rechnet mit baldiger Entscheidung über ...</td>\n",
       "      <td>Berlins Stadtentwicklungssenator Sebastian Sch...</td>\n",
       "      <td>Seit mehr als einem Jahr steht die Initiative ...</td>\n",
       "      <td>2020-09-11 09:16:28+02:00</td>\n",
       "      <td>https://www.tagesspiegel.de/images/deutsche-wo...</td>\n",
       "    </tr>\n",
       "    <tr>\n",
       "      <th>1</th>\n",
       "      <td>articles_02/01420-clean.json</td>\n",
       "      <td>01420</td>\n",
       "      <td>Retourkutsche zum Zwinger</td>\n",
       "      <td>Barocke Feste, da denkt man zuerst natürlich a...</td>\n",
       "      <td>Deutsches Versailles: Dresden feiert die Fürst...</td>\n",
       "      <td>2019-06-25 09:14:36+02:00</td>\n",
       "      <td>https://www.tagesspiegel.de/images/heprodimage...</td>\n",
       "    </tr>\n",
       "    <tr>\n",
       "      <th>2</th>\n",
       "      <td>articles_02/01442-clean.json</td>\n",
       "      <td>01442</td>\n",
       "      <td>Bundeswehr verteilt Rosen am Brandenburger Tor</td>\n",
       "      <td>Die Bundeswehr wirbt zum Internationalen Fraue...</td>\n",
       "      <td>Die deutschen Streitkräfte wollen zum Weltfrau...</td>\n",
       "      <td>2019-03-07 08:09:30+01:00</td>\n",
       "      <td>https://www.tagesspiegel.de/images/fruehlingsw...</td>\n",
       "    </tr>\n",
       "    <tr>\n",
       "      <th>3</th>\n",
       "      <td>articles_02/01396-clean.json</td>\n",
       "      <td>01396</td>\n",
       "      <td>Laschet sucht Erfolg als „Merkel 2.0“</td>\n",
       "      <td>Die Kommunalwahlen in Nordrhein-Westfalen steh...</td>\n",
       "      <td>Die Stimmung wendet sich: Laschets Kurs in der...</td>\n",
       "      <td>2020-09-05 19:51:14+02:00</td>\n",
       "      <td>https://www.tagesspiegel.de/images/armin-lasch...</td>\n",
       "    </tr>\n",
       "    <tr>\n",
       "      <th>4</th>\n",
       "      <td>articles_02/01469-clean.json</td>\n",
       "      <td>01469</td>\n",
       "      <td>War's schlimm und eng? - Nö!</td>\n",
       "      <td>Sein Vater ist früh gestorben, er ist früh ges...</td>\n",
       "      <td>Lehrer wollte er werden. Und kam in die DDR. D...</td>\n",
       "      <td>2020-09-11 10:34:35+02:00</td>\n",
       "      <td>https://www.tagesspiegel.de/images/maungue/261...</td>\n",
       "    </tr>\n",
       "  </tbody>\n",
       "</table>\n",
       "</div>"
      ],
      "text/plain": [
       "                           file file_name  \\\n",
       "0  articles_02/01417-clean.json     01417   \n",
       "1  articles_02/01420-clean.json     01420   \n",
       "2  articles_02/01442-clean.json     01442   \n",
       "3  articles_02/01396-clean.json     01396   \n",
       "4  articles_02/01469-clean.json     01469   \n",
       "\n",
       "                                               title  \\\n",
       "0  Scheel rechnet mit baldiger Entscheidung über ...   \n",
       "1                          Retourkutsche zum Zwinger   \n",
       "2     Bundeswehr verteilt Rosen am Brandenburger Tor   \n",
       "3              Laschet sucht Erfolg als „Merkel 2.0“   \n",
       "4                       War's schlimm und eng? - Nö!   \n",
       "\n",
       "                                                text  \\\n",
       "0  Berlins Stadtentwicklungssenator Sebastian Sch...   \n",
       "1  Barocke Feste, da denkt man zuerst natürlich a...   \n",
       "2  Die Bundeswehr wirbt zum Internationalen Fraue...   \n",
       "3  Die Kommunalwahlen in Nordrhein-Westfalen steh...   \n",
       "4  Sein Vater ist früh gestorben, er ist früh ges...   \n",
       "\n",
       "                                         description  \\\n",
       "0  Seit mehr als einem Jahr steht die Initiative ...   \n",
       "1  Deutsches Versailles: Dresden feiert die Fürst...   \n",
       "2  Die deutschen Streitkräfte wollen zum Weltfrau...   \n",
       "3  Die Stimmung wendet sich: Laschets Kurs in der...   \n",
       "4  Lehrer wollte er werden. Und kam in die DDR. D...   \n",
       "\n",
       "                        date  \\\n",
       "0  2020-09-11 09:16:28+02:00   \n",
       "1  2019-06-25 09:14:36+02:00   \n",
       "2  2019-03-07 08:09:30+01:00   \n",
       "3  2020-09-05 19:51:14+02:00   \n",
       "4  2020-09-11 10:34:35+02:00   \n",
       "\n",
       "                                               image  \n",
       "0  https://www.tagesspiegel.de/images/deutsche-wo...  \n",
       "1  https://www.tagesspiegel.de/images/heprodimage...  \n",
       "2  https://www.tagesspiegel.de/images/fruehlingsw...  \n",
       "3  https://www.tagesspiegel.de/images/armin-lasch...  \n",
       "4  https://www.tagesspiegel.de/images/maungue/261...  "
      ]
     },
     "execution_count": 41,
     "metadata": {},
     "output_type": "execute_result"
    }
   ],
   "source": [
    "# check result of read articles and transform to df:\n",
    "X.head()"
   ]
  },
  {
   "cell_type": "markdown",
   "metadata": {},
   "source": [
    "### compare : cluster titles (short, fast) or cluster text (long, slow)\n",
    "\n",
    "Is it better to cluster by applying K-means to to titles or to the full text of the article? Since titles are short, clustering them is faster. But is the quality of clustering the full texts higher?\n",
    "\n",
    "How do the resulting clusters differ?"
   ]
  },
  {
   "cell_type": "code",
   "execution_count": 107,
   "metadata": {},
   "outputs": [],
   "source": [
    "def my_clustering(list_of_strings, max_df , min_df , n_clusters):\n",
    "\n",
    "    tfidf = TfidfVectorizer(max_df=max_df , min_df =min_df)\n",
    "    km =  KMeans(init='k-means++', n_clusters=n_clusters, n_init=10)\n",
    "\n",
    "    my_pipe = Pipeline([('vect', tfidf), ('cluster', km) ])\n",
    "\n",
    "    my_pipe.fit(list_of_strings)\n",
    "\n",
    "    return(tfidf,km)"
   ]
  },
  {
   "cell_type": "code",
   "execution_count": 101,
   "metadata": {},
   "outputs": [],
   "source": [
    "list_of_titles=[' '.join(ml.preprocess(t)) for t in X['title']]\n",
    "tfidf_titles , km_titles=my_clustering(list_of_titles, max_df=0.8 , min_df=3, n_clusters=5)\n",
    "X['cluster']=pd.DataFrame(km_titles.labels_)"
   ]
  },
  {
   "cell_type": "code",
   "execution_count": null,
   "metadata": {},
   "outputs": [],
   "source": [
    "# it could be good to cluster on the basis of title / headline and description.\n",
    "# there are more words and it is easier to find overlaps.\n",
    "\n",
    "# another approach would be to use word embeddings, either pretrained.\n",
    "# Or: train the word embeddings on the articles' text and then use it only for the titles."
   ]
  },
  {
   "cell_type": "code",
   "execution_count": 103,
   "metadata": {},
   "outputs": [
    {
     "name": "stdout",
     "output_type": "stream",
     "text": [
      "Silhouette Coefficient:  0.08074051166047755\n"
     ]
    },
    {
     "data": {
      "image/png": "[encoded data removed]",
      "text/plain": [
       "<Figure size 432x288 with 1 Axes>"
      ]
     },
     "metadata": {
      "needs_background": "light"
     },
     "output_type": "display_data"
    },
    {
     "data": {
      "text/plain": [
       "{'n': array([ 9., 18., 21., 99., 28.]),\n",
       " 'frequencies': [0.051, 0.103, 0.12, 0.566, 0.16],\n",
       " 'enthropy': 1.2556840180912845,\n",
       " 'inertia': 130.44505664844732}"
      ]
     },
     "execution_count": 103,
     "metadata": {},
     "output_type": "execute_result"
    }
   ],
   "source": [
    "V = tfidf_titles.fit_transform(list_of_titles)\n",
    "print('Silhouette Coefficient: ', metrics.silhouette_score(V, km_titles.labels_, sample_size=1000))\n",
    "\n",
    "ml.evaluate_cluster(km_titles)\n",
    "#cv.get_feature_names()[0:10]"
   ]
  },
  {
   "cell_type": "markdown",
   "metadata": {},
   "source": [
    "mediocre results:\n",
    "* small positive silhouette coefficient\n",
    "* largest cluster comprising around 50%\n",
    "* smallest cluster comprising around 5%"
   ]
  },
  {
   "cell_type": "code",
   "execution_count": 105,
   "metadata": {},
   "outputs": [],
   "source": [
    "list_of_texts = [' '.join(ml.preprocess(t)) for t in X['text']]\n",
    "tfidf_texts, km_texts=my_clustering(list_of_texts, max_df=0.8 , min_df=3, n_clusters=5)\n",
    "X['cluster']=pd.DataFrame(km_texts.labels_)"
   ]
  },
  {
   "cell_type": "code",
   "execution_count": 106,
   "metadata": {},
   "outputs": [
    {
     "name": "stdout",
     "output_type": "stream",
     "text": [
      "Silhouette Coefficient:  0.0117038570015271\n"
     ]
    },
    {
     "data": {
      "image/png": "[encoded data removed]",
      "text/plain": [
       "<Figure size 432x288 with 1 Axes>"
      ]
     },
     "metadata": {
      "needs_background": "light"
     },
     "output_type": "display_data"
    },
    {
     "data": {
      "text/plain": [
       "{'n': array([18., 40., 18., 19., 80.]),\n",
       " 'frequencies': [0.103, 0.229, 0.103, 0.109, 0.457],\n",
       " 'enthropy': 1.405249295070265,\n",
       " 'inertia': 152.89770877144858}"
      ]
     },
     "execution_count": 106,
     "metadata": {},
     "output_type": "execute_result"
    }
   ],
   "source": [
    "V = tfidf_texts.fit_transform(list_of_texts)\n",
    "print('Silhouette Coefficient: ', metrics.silhouette_score(V, km_texts.labels_, sample_size=1000))\n",
    "\n",
    "ml.evaluate_cluster(km_texts)"
   ]
  },
  {
   "cell_type": "markdown",
   "metadata": {},
   "source": [
    "The clustering wrt the full text at least has a positive silhouette..."
   ]
  },
  {
   "cell_type": "markdown",
   "metadata": {},
   "source": [
    "### Result: Clustering wrt to titles or full text is not that different when looking at their statistics / scores.\n",
    "\n",
    "The silouhette coefficient is around zero and inertia high in both cases. Relative differences are not high: Smaller inertia / higher inertia > 90% , difference in silhouette scores / range of scores < 10%\n",
    "\n",
    "Enthropy is completely independent of our datas dimension, and about the same for both clustering methods: smaller enthropy / larger enthropy > 90%.\n",
    "\n",
    "### Result: for the newsreader we prefer clustering wrt the full text\n",
    "\n",
    "since cluster sizes are closer do a uniform distribtion (cluster sizer more evenly distributed).\n"
   ]
  },
  {
   "cell_type": "markdown",
   "metadata": {},
   "source": [
    "## HPO: Hyper parameter optimization"
   ]
  },
  {
   "cell_type": "code",
   "execution_count": 129,
   "metadata": {},
   "outputs": [
    {
     "name": "stdout",
     "output_type": "stream",
     "text": [
      "Fitting 5 folds for each of 18 candidates, totalling 90 fits\n",
      "[CV] cluster__n_clusters=5, vect__max_df=0.7, vect__min_df=2 .........\n"
     ]
    },
    {
     "name": "stderr",
     "output_type": "stream",
     "text": [
      "[Parallel(n_jobs=1)]: Using backend SequentialBackend with 1 concurrent workers.\n"
     ]
    },
    {
     "name": "stdout",
     "output_type": "stream",
     "text": [
      "[CV]  cluster__n_clusters=5, vect__max_df=0.7, vect__min_df=2, total=   2.0s\n",
      "[CV] cluster__n_clusters=5, vect__max_df=0.7, vect__min_df=2 .........\n"
     ]
    },
    {
     "name": "stderr",
     "output_type": "stream",
     "text": [
      "[Parallel(n_jobs=1)]: Done   1 out of   1 | elapsed:    2.0s remaining:    0.0s\n"
     ]
    },
    {
     "name": "stdout",
     "output_type": "stream",
     "text": [
      "[CV]  cluster__n_clusters=5, vect__max_df=0.7, vect__min_df=2, total=   2.2s\n",
      "[CV] cluster__n_clusters=5, vect__max_df=0.7, vect__min_df=2 .........\n",
      "[CV]  cluster__n_clusters=5, vect__max_df=0.7, vect__min_df=2, total=   3.6s\n",
      "[CV] cluster__n_clusters=5, vect__max_df=0.7, vect__min_df=2 .........\n",
      "[CV]  cluster__n_clusters=5, vect__max_df=0.7, vect__min_df=2, total=   2.1s\n",
      "[CV] cluster__n_clusters=5, vect__max_df=0.7, vect__min_df=2 .........\n",
      "[CV]  cluster__n_clusters=5, vect__max_df=0.7, vect__min_df=2, total=   2.0s\n",
      "[CV] cluster__n_clusters=5, vect__max_df=0.7, vect__min_df=3 .........\n",
      "[CV]  cluster__n_clusters=5, vect__max_df=0.7, vect__min_df=3, total=   1.6s\n",
      "[CV] cluster__n_clusters=5, vect__max_df=0.7, vect__min_df=3 .........\n",
      "[CV]  cluster__n_clusters=5, vect__max_df=0.7, vect__min_df=3, total=   2.1s\n",
      "[CV] cluster__n_clusters=5, vect__max_df=0.7, vect__min_df=3 .........\n",
      "[CV]  cluster__n_clusters=5, vect__max_df=0.7, vect__min_df=3, total=   2.0s\n",
      "[CV] cluster__n_clusters=5, vect__max_df=0.7, vect__min_df=3 .........\n",
      "[CV]  cluster__n_clusters=5, vect__max_df=0.7, vect__min_df=3, total=   2.0s\n",
      "[CV] cluster__n_clusters=5, vect__max_df=0.7, vect__min_df=3 .........\n",
      "[CV]  cluster__n_clusters=5, vect__max_df=0.7, vect__min_df=3, total=   3.0s\n",
      "[CV] cluster__n_clusters=5, vect__max_df=0.8, vect__min_df=2 .........\n",
      "[CV]  cluster__n_clusters=5, vect__max_df=0.8, vect__min_df=2, total=   1.9s\n",
      "[CV] cluster__n_clusters=5, vect__max_df=0.8, vect__min_df=2 .........\n",
      "[CV]  cluster__n_clusters=5, vect__max_df=0.8, vect__min_df=2, total=   2.1s\n",
      "[CV] cluster__n_clusters=5, vect__max_df=0.8, vect__min_df=2 .........\n",
      "[CV]  cluster__n_clusters=5, vect__max_df=0.8, vect__min_df=2, total=   2.4s\n",
      "[CV] cluster__n_clusters=5, vect__max_df=0.8, vect__min_df=2 .........\n",
      "[CV]  cluster__n_clusters=5, vect__max_df=0.8, vect__min_df=2, total=   2.0s\n",
      "[CV] cluster__n_clusters=5, vect__max_df=0.8, vect__min_df=2 .........\n",
      "[CV]  cluster__n_clusters=5, vect__max_df=0.8, vect__min_df=2, total=   4.6s\n",
      "[CV] cluster__n_clusters=5, vect__max_df=0.8, vect__min_df=3 .........\n",
      "[CV]  cluster__n_clusters=5, vect__max_df=0.8, vect__min_df=3, total=   1.8s\n",
      "[CV] cluster__n_clusters=5, vect__max_df=0.8, vect__min_df=3 .........\n",
      "[CV]  cluster__n_clusters=5, vect__max_df=0.8, vect__min_df=3, total=   1.7s\n",
      "[CV] cluster__n_clusters=5, vect__max_df=0.8, vect__min_df=3 .........\n",
      "[CV]  cluster__n_clusters=5, vect__max_df=0.8, vect__min_df=3, total=   1.8s\n",
      "[CV] cluster__n_clusters=5, vect__max_df=0.8, vect__min_df=3 .........\n",
      "[CV]  cluster__n_clusters=5, vect__max_df=0.8, vect__min_df=3, total=   2.0s\n",
      "[CV] cluster__n_clusters=5, vect__max_df=0.8, vect__min_df=3 .........\n",
      "[CV]  cluster__n_clusters=5, vect__max_df=0.8, vect__min_df=3, total=   2.3s\n",
      "[CV] cluster__n_clusters=5, vect__max_df=0.9, vect__min_df=2 .........\n",
      "[CV]  cluster__n_clusters=5, vect__max_df=0.9, vect__min_df=2, total=   1.6s\n",
      "[CV] cluster__n_clusters=5, vect__max_df=0.9, vect__min_df=2 .........\n",
      "[CV]  cluster__n_clusters=5, vect__max_df=0.9, vect__min_df=2, total=   2.0s\n",
      "[CV] cluster__n_clusters=5, vect__max_df=0.9, vect__min_df=2 .........\n",
      "[CV]  cluster__n_clusters=5, vect__max_df=0.9, vect__min_df=2, total=   2.3s\n",
      "[CV] cluster__n_clusters=5, vect__max_df=0.9, vect__min_df=2 .........\n",
      "[CV]  cluster__n_clusters=5, vect__max_df=0.9, vect__min_df=2, total=   2.0s\n",
      "[CV] cluster__n_clusters=5, vect__max_df=0.9, vect__min_df=2 .........\n",
      "[CV]  cluster__n_clusters=5, vect__max_df=0.9, vect__min_df=2, total=   2.0s\n",
      "[CV] cluster__n_clusters=5, vect__max_df=0.9, vect__min_df=3 .........\n",
      "[CV]  cluster__n_clusters=5, vect__max_df=0.9, vect__min_df=3, total=   1.7s\n",
      "[CV] cluster__n_clusters=5, vect__max_df=0.9, vect__min_df=3 .........\n",
      "[CV]  cluster__n_clusters=5, vect__max_df=0.9, vect__min_df=3, total=   1.8s\n",
      "[CV] cluster__n_clusters=5, vect__max_df=0.9, vect__min_df=3 .........\n",
      "[CV]  cluster__n_clusters=5, vect__max_df=0.9, vect__min_df=3, total=   2.6s\n",
      "[CV] cluster__n_clusters=5, vect__max_df=0.9, vect__min_df=3 .........\n",
      "[CV]  cluster__n_clusters=5, vect__max_df=0.9, vect__min_df=3, total=   2.0s\n",
      "[CV] cluster__n_clusters=5, vect__max_df=0.9, vect__min_df=3 .........\n",
      "[CV]  cluster__n_clusters=5, vect__max_df=0.9, vect__min_df=3, total=   2.3s\n",
      "[CV] cluster__n_clusters=10, vect__max_df=0.7, vect__min_df=2 ........\n",
      "[CV]  cluster__n_clusters=10, vect__max_df=0.7, vect__min_df=2, total=   1.5s\n",
      "[CV] cluster__n_clusters=10, vect__max_df=0.7, vect__min_df=2 ........\n",
      "[CV]  cluster__n_clusters=10, vect__max_df=0.7, vect__min_df=2, total=   1.8s\n",
      "[CV] cluster__n_clusters=10, vect__max_df=0.7, vect__min_df=2 ........\n",
      "[CV]  cluster__n_clusters=10, vect__max_df=0.7, vect__min_df=2, total=   1.7s\n",
      "[CV] cluster__n_clusters=10, vect__max_df=0.7, vect__min_df=2 ........\n",
      "[CV]  cluster__n_clusters=10, vect__max_df=0.7, vect__min_df=2, total=   1.7s\n",
      "[CV] cluster__n_clusters=10, vect__max_df=0.7, vect__min_df=2 ........\n",
      "[CV]  cluster__n_clusters=10, vect__max_df=0.7, vect__min_df=2, total=   2.0s\n",
      "[CV] cluster__n_clusters=10, vect__max_df=0.7, vect__min_df=3 ........\n",
      "[CV]  cluster__n_clusters=10, vect__max_df=0.7, vect__min_df=3, total=   1.7s\n",
      "[CV] cluster__n_clusters=10, vect__max_df=0.7, vect__min_df=3 ........\n",
      "[CV]  cluster__n_clusters=10, vect__max_df=0.7, vect__min_df=3, total=   1.8s\n",
      "[CV] cluster__n_clusters=10, vect__max_df=0.7, vect__min_df=3 ........\n",
      "[CV]  cluster__n_clusters=10, vect__max_df=0.7, vect__min_df=3, total=   1.7s\n",
      "[CV] cluster__n_clusters=10, vect__max_df=0.7, vect__min_df=3 ........\n",
      "[CV]  cluster__n_clusters=10, vect__max_df=0.7, vect__min_df=3, total=   1.5s\n",
      "[CV] cluster__n_clusters=10, vect__max_df=0.7, vect__min_df=3 ........\n",
      "[CV]  cluster__n_clusters=10, vect__max_df=0.7, vect__min_df=3, total=   1.7s\n",
      "[CV] cluster__n_clusters=10, vect__max_df=0.8, vect__min_df=2 ........\n",
      "[CV]  cluster__n_clusters=10, vect__max_df=0.8, vect__min_df=2, total=   1.7s\n",
      "[CV] cluster__n_clusters=10, vect__max_df=0.8, vect__min_df=2 ........\n",
      "[CV]  cluster__n_clusters=10, vect__max_df=0.8, vect__min_df=2, total=   1.9s\n",
      "[CV] cluster__n_clusters=10, vect__max_df=0.8, vect__min_df=2 ........\n",
      "[CV]  cluster__n_clusters=10, vect__max_df=0.8, vect__min_df=2, total=   1.9s\n",
      "[CV] cluster__n_clusters=10, vect__max_df=0.8, vect__min_df=2 ........\n",
      "[CV]  cluster__n_clusters=10, vect__max_df=0.8, vect__min_df=2, total=   1.9s\n",
      "[CV] cluster__n_clusters=10, vect__max_df=0.8, vect__min_df=2 ........\n",
      "[CV]  cluster__n_clusters=10, vect__max_df=0.8, vect__min_df=2, total=   2.3s\n",
      "[CV] cluster__n_clusters=10, vect__max_df=0.8, vect__min_df=3 ........\n",
      "[CV]  cluster__n_clusters=10, vect__max_df=0.8, vect__min_df=3, total=   1.6s\n",
      "[CV] cluster__n_clusters=10, vect__max_df=0.8, vect__min_df=3 ........\n",
      "[CV]  cluster__n_clusters=10, vect__max_df=0.8, vect__min_df=3, total=   2.3s\n",
      "[CV] cluster__n_clusters=10, vect__max_df=0.8, vect__min_df=3 ........\n",
      "[CV]  cluster__n_clusters=10, vect__max_df=0.8, vect__min_df=3, total=   2.2s\n",
      "[CV] cluster__n_clusters=10, vect__max_df=0.8, vect__min_df=3 ........\n",
      "[CV]  cluster__n_clusters=10, vect__max_df=0.8, vect__min_df=3, total=   2.0s\n",
      "[CV] cluster__n_clusters=10, vect__max_df=0.8, vect__min_df=3 ........\n",
      "[CV]  cluster__n_clusters=10, vect__max_df=0.8, vect__min_df=3, total=   2.0s\n",
      "[CV] cluster__n_clusters=10, vect__max_df=0.9, vect__min_df=2 ........\n",
      "[CV]  cluster__n_clusters=10, vect__max_df=0.9, vect__min_df=2, total=   1.9s\n",
      "[CV] cluster__n_clusters=10, vect__max_df=0.9, vect__min_df=2 ........\n",
      "[CV]  cluster__n_clusters=10, vect__max_df=0.9, vect__min_df=2, total=   2.2s\n",
      "[CV] cluster__n_clusters=10, vect__max_df=0.9, vect__min_df=2 ........\n",
      "[CV]  cluster__n_clusters=10, vect__max_df=0.9, vect__min_df=2, total=   2.0s\n",
      "[CV] cluster__n_clusters=10, vect__max_df=0.9, vect__min_df=2 ........\n",
      "[CV]  cluster__n_clusters=10, vect__max_df=0.9, vect__min_df=2, total=   1.9s\n",
      "[CV] cluster__n_clusters=10, vect__max_df=0.9, vect__min_df=2 ........\n",
      "[CV]  cluster__n_clusters=10, vect__max_df=0.9, vect__min_df=2, total=   2.3s\n",
      "[CV] cluster__n_clusters=10, vect__max_df=0.9, vect__min_df=3 ........\n",
      "[CV]  cluster__n_clusters=10, vect__max_df=0.9, vect__min_df=3, total=   1.9s\n",
      "[CV] cluster__n_clusters=10, vect__max_df=0.9, vect__min_df=3 ........\n",
      "[CV]  cluster__n_clusters=10, vect__max_df=0.9, vect__min_df=3, total=   1.7s\n",
      "[CV] cluster__n_clusters=10, vect__max_df=0.9, vect__min_df=3 ........\n"
     ]
    },
    {
     "name": "stdout",
     "output_type": "stream",
     "text": [
      "[CV]  cluster__n_clusters=10, vect__max_df=0.9, vect__min_df=3, total=   1.9s\n",
      "[CV] cluster__n_clusters=10, vect__max_df=0.9, vect__min_df=3 ........\n",
      "[CV]  cluster__n_clusters=10, vect__max_df=0.9, vect__min_df=3, total=   1.8s\n",
      "[CV] cluster__n_clusters=10, vect__max_df=0.9, vect__min_df=3 ........\n",
      "[CV]  cluster__n_clusters=10, vect__max_df=0.9, vect__min_df=3, total=   2.0s\n",
      "[CV] cluster__n_clusters=15, vect__max_df=0.7, vect__min_df=2 ........\n",
      "[CV]  cluster__n_clusters=15, vect__max_df=0.7, vect__min_df=2, total=   1.8s\n",
      "[CV] cluster__n_clusters=15, vect__max_df=0.7, vect__min_df=2 ........\n",
      "[CV]  cluster__n_clusters=15, vect__max_df=0.7, vect__min_df=2, total=   1.8s\n",
      "[CV] cluster__n_clusters=15, vect__max_df=0.7, vect__min_df=2 ........\n",
      "[CV]  cluster__n_clusters=15, vect__max_df=0.7, vect__min_df=2, total=   1.9s\n",
      "[CV] cluster__n_clusters=15, vect__max_df=0.7, vect__min_df=2 ........\n",
      "[CV]  cluster__n_clusters=15, vect__max_df=0.7, vect__min_df=2, total=   2.0s\n",
      "[CV] cluster__n_clusters=15, vect__max_df=0.7, vect__min_df=2 ........\n",
      "[CV]  cluster__n_clusters=15, vect__max_df=0.7, vect__min_df=2, total=   1.8s\n",
      "[CV] cluster__n_clusters=15, vect__max_df=0.7, vect__min_df=3 ........\n",
      "[CV]  cluster__n_clusters=15, vect__max_df=0.7, vect__min_df=3, total=   1.5s\n",
      "[CV] cluster__n_clusters=15, vect__max_df=0.7, vect__min_df=3 ........\n",
      "[CV]  cluster__n_clusters=15, vect__max_df=0.7, vect__min_df=3, total=   1.7s\n",
      "[CV] cluster__n_clusters=15, vect__max_df=0.7, vect__min_df=3 ........\n",
      "[CV]  cluster__n_clusters=15, vect__max_df=0.7, vect__min_df=3, total=   1.7s\n",
      "[CV] cluster__n_clusters=15, vect__max_df=0.7, vect__min_df=3 ........\n",
      "[CV]  cluster__n_clusters=15, vect__max_df=0.7, vect__min_df=3, total=   1.6s\n",
      "[CV] cluster__n_clusters=15, vect__max_df=0.7, vect__min_df=3 ........\n",
      "[CV]  cluster__n_clusters=15, vect__max_df=0.7, vect__min_df=3, total=   1.7s\n",
      "[CV] cluster__n_clusters=15, vect__max_df=0.8, vect__min_df=2 ........\n",
      "[CV]  cluster__n_clusters=15, vect__max_df=0.8, vect__min_df=2, total=   2.0s\n",
      "[CV] cluster__n_clusters=15, vect__max_df=0.8, vect__min_df=2 ........\n",
      "[CV]  cluster__n_clusters=15, vect__max_df=0.8, vect__min_df=2, total=   2.1s\n",
      "[CV] cluster__n_clusters=15, vect__max_df=0.8, vect__min_df=2 ........\n",
      "[CV]  cluster__n_clusters=15, vect__max_df=0.8, vect__min_df=2, total=   2.3s\n",
      "[CV] cluster__n_clusters=15, vect__max_df=0.8, vect__min_df=2 ........\n",
      "[CV]  cluster__n_clusters=15, vect__max_df=0.8, vect__min_df=2, total=   1.7s\n",
      "[CV] cluster__n_clusters=15, vect__max_df=0.8, vect__min_df=2 ........\n",
      "[CV]  cluster__n_clusters=15, vect__max_df=0.8, vect__min_df=2, total=   1.9s\n",
      "[CV] cluster__n_clusters=15, vect__max_df=0.8, vect__min_df=3 ........\n",
      "[CV]  cluster__n_clusters=15, vect__max_df=0.8, vect__min_df=3, total=   1.7s\n",
      "[CV] cluster__n_clusters=15, vect__max_df=0.8, vect__min_df=3 ........\n",
      "[CV]  cluster__n_clusters=15, vect__max_df=0.8, vect__min_df=3, total=   2.3s\n",
      "[CV] cluster__n_clusters=15, vect__max_df=0.8, vect__min_df=3 ........\n",
      "[CV]  cluster__n_clusters=15, vect__max_df=0.8, vect__min_df=3, total=   2.2s\n",
      "[CV] cluster__n_clusters=15, vect__max_df=0.8, vect__min_df=3 ........\n",
      "[CV]  cluster__n_clusters=15, vect__max_df=0.8, vect__min_df=3, total=   1.9s\n",
      "[CV] cluster__n_clusters=15, vect__max_df=0.8, vect__min_df=3 ........\n",
      "[CV]  cluster__n_clusters=15, vect__max_df=0.8, vect__min_df=3, total=   2.0s\n",
      "[CV] cluster__n_clusters=15, vect__max_df=0.9, vect__min_df=2 ........\n",
      "[CV]  cluster__n_clusters=15, vect__max_df=0.9, vect__min_df=2, total=   2.1s\n",
      "[CV] cluster__n_clusters=15, vect__max_df=0.9, vect__min_df=2 ........\n",
      "[CV]  cluster__n_clusters=15, vect__max_df=0.9, vect__min_df=2, total=   2.2s\n",
      "[CV] cluster__n_clusters=15, vect__max_df=0.9, vect__min_df=2 ........\n",
      "[CV]  cluster__n_clusters=15, vect__max_df=0.9, vect__min_df=2, total=   2.0s\n",
      "[CV] cluster__n_clusters=15, vect__max_df=0.9, vect__min_df=2 ........\n",
      "[CV]  cluster__n_clusters=15, vect__max_df=0.9, vect__min_df=2, total=   1.9s\n",
      "[CV] cluster__n_clusters=15, vect__max_df=0.9, vect__min_df=2 ........\n",
      "[CV]  cluster__n_clusters=15, vect__max_df=0.9, vect__min_df=2, total=   2.1s\n",
      "[CV] cluster__n_clusters=15, vect__max_df=0.9, vect__min_df=3 ........\n",
      "[CV]  cluster__n_clusters=15, vect__max_df=0.9, vect__min_df=3, total=   1.6s\n",
      "[CV] cluster__n_clusters=15, vect__max_df=0.9, vect__min_df=3 ........\n",
      "[CV]  cluster__n_clusters=15, vect__max_df=0.9, vect__min_df=3, total=   1.9s\n",
      "[CV] cluster__n_clusters=15, vect__max_df=0.9, vect__min_df=3 ........\n",
      "[CV]  cluster__n_clusters=15, vect__max_df=0.9, vect__min_df=3, total=   1.7s\n",
      "[CV] cluster__n_clusters=15, vect__max_df=0.9, vect__min_df=3 ........\n",
      "[CV]  cluster__n_clusters=15, vect__max_df=0.9, vect__min_df=3, total=   1.9s\n",
      "[CV] cluster__n_clusters=15, vect__max_df=0.9, vect__min_df=3 ........\n",
      "[CV]  cluster__n_clusters=15, vect__max_df=0.9, vect__min_df=3, total=   1.8s\n"
     ]
    },
    {
     "name": "stderr",
     "output_type": "stream",
     "text": [
      "[Parallel(n_jobs=1)]: Done  90 out of  90 | elapsed:  3.0min finished\n"
     ]
    },
    {
     "name": "stdout",
     "output_type": "stream",
     "text": [
      "GridSearchCV(cv=5, error_score='raise-deprecating',\n",
      "             estimator=Pipeline(memory=None,\n",
      "                                steps=[('vect',\n",
      "                                        TfidfVectorizer(analyzer='word',\n",
      "                                                        binary=False,\n",
      "                                                        decode_error='strict',\n",
      "                                                        dtype=<class 'numpy.float64'>,\n",
      "                                                        encoding='utf-8',\n",
      "                                                        input='content',\n",
      "                                                        lowercase=True,\n",
      "                                                        max_df=1.0,\n",
      "                                                        max_features=None,\n",
      "                                                        min_df=1,\n",
      "                                                        ngram_range=(1, 1),\n",
      "                                                        norm='l2',\n",
      "                                                        preprocessor=None,\n",
      "                                                        smooth_idf=True,\n",
      "                                                        stop_words...\n",
      "                                               init='k-means++', max_iter=300,\n",
      "                                               n_clusters=8, n_init=10,\n",
      "                                               n_jobs=None,\n",
      "                                               precompute_distances='auto',\n",
      "                                               random_state=None, tol=0.0001,\n",
      "                                               verbose=0))],\n",
      "                                verbose=False),\n",
      "             iid='warn', n_jobs=None,\n",
      "             param_grid={'cluster__n_clusters': [5, 10, 15],\n",
      "                         'vect__max_df': [0.7, 0.8, 0.9],\n",
      "                         'vect__min_df': [2, 3]},\n",
      "             pre_dispatch='2*n_jobs', refit=True, return_train_score=False,\n",
      "             scoring=None, verbose=2)\n",
      "****\n",
      "Pipeline(memory=None,\n",
      "         steps=[('vect',\n",
      "                 TfidfVectorizer(analyzer='word', binary=False,\n",
      "                                 decode_error='strict',\n",
      "                                 dtype=<class 'numpy.float64'>,\n",
      "                                 encoding='utf-8', input='content',\n",
      "                                 lowercase=True, max_df=0.9, max_features=None,\n",
      "                                 min_df=3, ngram_range=(1, 1), norm='l2',\n",
      "                                 preprocessor=None, smooth_idf=True,\n",
      "                                 stop_words=None, strip_accents=None,\n",
      "                                 sublinear_tf=False,\n",
      "                                 token_pattern='(?u)\\\\b\\\\w\\\\w+\\\\b',\n",
      "                                 tokenizer=None, use_idf=True,\n",
      "                                 vocabulary=None)),\n",
      "                ('cluster',\n",
      "                 KMeans(algorithm='auto', copy_x=True, init='k-means++',\n",
      "                        max_iter=300, n_clusters=15, n_init=10, n_jobs=None,\n",
      "                        precompute_distances='auto', random_state=None,\n",
      "                        tol=0.0001, verbose=0))],\n",
      "         verbose=False)\n"
     ]
    }
   ],
   "source": [
    "from sklearn.model_selection import GridSearchCV\n",
    "# my pipeline is text_cluster\n",
    "\n",
    "#parameters: min_df , max_df in vect , n_cluster in cluster\n",
    "\n",
    "param_grid = dict(vect__min_df=[2,3],\n",
    "                vect__max_df=[0.7,0.8,0.9],\n",
    "                 cluster__n_clusters=[5,10,15])\n",
    "\n",
    "tfidf = TfidfVectorizer()\n",
    "km =  KMeans()\n",
    "pipe = Pipeline([('vect', tfidf), ('cluster', km) ])\n",
    "\n",
    "# Gridsearch arguments: cv=5 for 5-fold cross validation\n",
    "    # verbose = 2: not so much output, verbose = 0: no messages during search\n",
    "grid_search=GridSearchCV(pipe, param_grid=param_grid, cv=5, verbose=2)\n",
    "grid_result=grid_search.fit(list_of_texts)\n",
    "print(grid_result)\n",
    "print('****')\n",
    "print(grid_search.best_estimator_)"
   ]
  },
  {
   "cell_type": "code",
   "execution_count": 76,
   "metadata": {},
   "outputs": [],
   "source": [
    "# report of grid sech: \n",
    "# grid_search.cv_results_"
   ]
  },
  {
   "cell_type": "markdown",
   "metadata": {},
   "source": [
    "### Best parameters obtained from HPO"
   ]
  },
  {
   "cell_type": "code",
   "execution_count": 112,
   "metadata": {},
   "outputs": [
    {
     "name": "stdout",
     "output_type": "stream",
     "text": [
      "Best parameters set:\n"
     ]
    },
    {
     "data": {
      "text/plain": [
       "(TfidfVectorizer(analyzer='word', binary=False, decode_error='strict',\n",
       "                 dtype=<class 'numpy.float64'>, encoding='utf-8',\n",
       "                 input='content', lowercase=True, max_df=0.9, max_features=None,\n",
       "                 min_df=3, ngram_range=(1, 1), norm='l2', preprocessor=None,\n",
       "                 smooth_idf=True, stop_words=None, strip_accents=None,\n",
       "                 sublinear_tf=False, token_pattern='(?u)\\\\b\\\\w\\\\w+\\\\b',\n",
       "                 tokenizer=None, use_idf=True, vocabulary=None),\n",
       " KMeans(algorithm='auto', copy_x=True, init='k-means++', max_iter=300,\n",
       "        n_clusters=15, n_init=10, n_jobs=None, precompute_distances='auto',\n",
       "        random_state=None, tol=0.0001, verbose=0))"
      ]
     },
     "execution_count": 112,
     "metadata": {},
     "output_type": "execute_result"
    }
   ],
   "source": [
    "# to see the best prameters from HPO:\n",
    "print(\"Best parameters set:\")\n",
    "best_parameters = grid_search.best_estimator_.get_params()\n",
    "best_parameters['vect'] , best_parameters['cluster']"
   ]
  },
  {
   "cell_type": "code",
   "execution_count": 114,
   "metadata": {},
   "outputs": [],
   "source": [
    "# use them to cluster wrt full texts of articles\n",
    "list_of_texts=[' '.join(ml.preprocess(t)) for t in X['text']]\n",
    "tfidf_texts , km_texts=my_clustering(list_of_texts, max_df=0.9 , min_df=3, n_clusters=15)\n",
    "X['cluster']=pd.DataFrame(km_texts.labels_)"
   ]
  },
  {
   "cell_type": "code",
   "execution_count": 115,
   "metadata": {},
   "outputs": [
    {
     "name": "stdout",
     "output_type": "stream",
     "text": [
      "Silhouette Coefficient:  0.04101046848003908\n"
     ]
    },
    {
     "data": {
      "image/png": "[encoded data removed]",
      "text/plain": [
       "<Figure size 432x288 with 1 Axes>"
      ]
     },
     "metadata": {
      "needs_background": "light"
     },
     "output_type": "display_data"
    },
    {
     "data": {
      "text/plain": [
       "{'n': array([ 4.,  5., 21., 29.,  6.,  5., 16., 38.,  3.,  7.,  7.,  7.,  8.,\n",
       "         4., 15.]),\n",
       " 'frequencies': [0.023,\n",
       "  0.029,\n",
       "  0.12,\n",
       "  0.166,\n",
       "  0.034,\n",
       "  0.029,\n",
       "  0.091,\n",
       "  0.217,\n",
       "  0.017,\n",
       "  0.04,\n",
       "  0.04,\n",
       "  0.04,\n",
       "  0.046,\n",
       "  0.023,\n",
       "  0.086],\n",
       " 'enthropy': 2.4041944284809404,\n",
       " 'inertia': 131.4626918356964}"
      ]
     },
     "execution_count": 115,
     "metadata": {},
     "output_type": "execute_result"
    }
   ],
   "source": [
    "V = tfidf_texts.fit_transform(list_of_texts)\n",
    "print('Silhouette Coefficient: ', metrics.silhouette_score(V, km_texts.labels_, sample_size=1000))\n",
    "ml.evaluate_cluster(km_texts)"
   ]
  },
  {
   "cell_type": "code",
   "execution_count": 126,
   "metadata": {},
   "outputs": [
    {
     "data": {
      "text/plain": [
       "Pipeline(memory=None,\n",
       "         steps=[('vect',\n",
       "                 TfidfVectorizer(analyzer='word', binary=False,\n",
       "                                 decode_error='strict',\n",
       "                                 dtype=<class 'numpy.float64'>,\n",
       "                                 encoding='utf-8', input='content',\n",
       "                                 lowercase=True, max_df=0.9, max_features=None,\n",
       "                                 min_df=3, ngram_range=(1, 1), norm='l2',\n",
       "                                 preprocessor=None, smooth_idf=True,\n",
       "                                 stop_words=None, strip_accents=None,\n",
       "                                 sublinear_tf=False,\n",
       "                                 token_pattern='(?u)\\\\b\\\\w\\\\w+\\\\b',\n",
       "                                 tokenizer=None, use_idf=True,\n",
       "                                 vocabulary=None)),\n",
       "                ('cluster',\n",
       "                 KMeans(algorithm='auto', copy_x=True, init='k-means++',\n",
       "                        max_iter=300, n_clusters=15, n_init=10, n_jobs=None,\n",
       "                        precompute_distances='auto', random_state=None,\n",
       "                        tol=0.0001, verbose=0))],\n",
       "         verbose=False)"
      ]
     },
     "execution_count": 126,
     "metadata": {},
     "output_type": "execute_result"
    }
   ],
   "source": [
    "# to run the best clustering without looking at the best parameters from HPO\n",
    "pipe.set_params(**grid_search.best_estimator_.get_params())\n",
    "pipe.fit(list_of_texts)\n",
    "#pipe.get_params()\n",
    "#ml.evaluate_cluster(km)"
   ]
  },
  {
   "cell_type": "code",
   "execution_count": null,
   "metadata": {},
   "outputs": [],
   "source": []
  },
  {
   "cell_type": "code",
   "execution_count": 121,
   "metadata": {},
   "outputs": [
    {
     "data": {
      "text/plain": [
       "Pipeline(memory=None,\n",
       "         steps=[('vect',\n",
       "                 TfidfVectorizer(analyzer='word', binary=False,\n",
       "                                 decode_error='strict',\n",
       "                                 dtype=<class 'numpy.float64'>,\n",
       "                                 encoding='utf-8', input='content',\n",
       "                                 lowercase=True, max_df=0.9, max_features=None,\n",
       "                                 min_df=3, ngram_range=(1, 1), norm='l2',\n",
       "                                 preprocessor=None, smooth_idf=True,\n",
       "                                 stop_words=None, strip_accents=None,\n",
       "                                 sublinear_tf=False,\n",
       "                                 token_pattern='(?u)\\\\b\\\\w\\\\w+\\\\b',\n",
       "                                 tokenizer=None, use_idf=True,\n",
       "                                 vocabulary=None)),\n",
       "                ('cluster',\n",
       "                 KMeans(algorithm='auto', copy_x=True, init='k-means++',\n",
       "                        max_iter=300, n_clusters=15, n_init=10, n_jobs=None,\n",
       "                        precompute_distances='auto', random_state=None,\n",
       "                        tol=0.0001, verbose=0))],\n",
       "         verbose=False)"
      ]
     },
     "execution_count": 121,
     "metadata": {},
     "output_type": "execute_result"
    }
   ],
   "source": [
    "pipe"
   ]
  },
  {
   "cell_type": "code",
   "execution_count": 111,
   "metadata": {},
   "outputs": [
    {
     "data": {
      "text/plain": [
       "KMeans(algorithm='auto', copy_x=True, init='k-means++', max_iter=300,\n",
       "       n_clusters=8, n_init=10, n_jobs=None, precompute_distances='auto',\n",
       "       random_state=None, tol=0.0001, verbose=0)"
      ]
     },
     "execution_count": 111,
     "metadata": {},
     "output_type": "execute_result"
    }
   ],
   "source": [
    "km"
   ]
  },
  {
   "cell_type": "markdown",
   "metadata": {},
   "source": [
    "### how stuff works, the small things ..."
   ]
  },
  {
   "cell_type": "code",
   "execution_count": 5,
   "metadata": {},
   "outputs": [
    {
     "data": {
      "text/plain": [
       "WordList(['ich', 'meinern', 'mir', 'mich', 'hallo', 'hier', 'sein', 'ein', 'baum', 'oder', 'oder', 'oder', 'bzw', 'zwölf', 'laufen', 'laufen', 'laufen'])"
      ]
     },
     "execution_count": 5,
     "metadata": {},
     "output_type": "execute_result"
    }
   ],
   "source": [
    "# how preprocessing works\n",
    "preprocess('Ich, meiner, mir, mich. Hallo hier ist ein Baum. %§/$. Oder 8 oder 9 oder 77 bzw. zwölf?? Läuft lief gelaufen')"
   ]
  },
  {
   "cell_type": "code",
   "execution_count": 69,
   "metadata": {},
   "outputs": [
    {
     "data": {
      "text/plain": [
       "['scheel rechnet mit baldig entscheidung über berlin volksbegehren',\n",
       " 'retourkutschen zum zwinger',\n",
       " 'Bundeswehr verteilen rosen am brandenburger tor',\n",
       " 'laschet suchen erfolg als merkel',\n",
       " 'sein s schlimm und eng nö',\n",
       " 'wie wir über den erst corona winter kommen entscheidet sich jetzt',\n",
       " 'der run der wall street auf das vermögen der neu mittelschicht',\n",
       " 'wieder grossfeuer im hafengebiet von beirut',\n",
       " 'der aufklärer assange als unperson',\n",
       " 'lothar corona der fc',\n",
       " 'horst seehofer der buhmann',\n",
       " 'bei ein mann werden man sagen wow haben der mumm',\n",
       " 'die chefin mit neu kollegen',\n",
       " 'an dies schulen werden neu corona fälle bekannt',\n",
       " 'die stadt ist wild als du denkst und freundlich als du glaubst',\n",
       " 'die chinesisch international dienstleistungsmesse wurde erfolgreich abgeschlossen',\n",
       " 'Warnstreiks bei der post in berlin',\n",
       " 'trump vergleichen sich mit churchill',\n",
       " 'patricia schlesinger vor wiederwahl',\n",
       " 'michael rother für mich sein das kein nostalgi trip']"
      ]
     },
     "execution_count": 69,
     "metadata": {},
     "output_type": "execute_result"
    }
   ],
   "source": [
    "# the list of titles\n",
    "[' '.join(preprocess(t)) for t in X['title']]"
   ]
  },
  {
   "cell_type": "code",
   "execution_count": null,
   "metadata": {},
   "outputs": [],
   "source": []
  },
  {
   "cell_type": "markdown",
   "metadata": {},
   "source": [
    "## Word cloud representation for cluster\n",
    "\n",
    "Collect all text from a specified cluster and create its wordcloud."
   ]
  },
  {
   "cell_type": "markdown",
   "metadata": {},
   "source": [
    "Some stopwords are features."
   ]
  },
  {
   "cell_type": "code",
   "execution_count": 77,
   "metadata": {},
   "outputs": [
    {
     "data": {
      "text/plain": [
       "True"
      ]
     },
     "execution_count": 77,
     "metadata": {},
     "output_type": "execute_result"
    }
   ],
   "source": [
    "my_stopper = ['ist','nur','sein','seine','deine','meine','am','sie','bei','durch','noch','sich','in','im','ihr','ihre','vor','zur','seit','es','zu','werden','haben','sein','von','jedoch','auch','des','dies','als','wie','dem','den','um','mit','sein','auf','der','die','das','und','ein','aus','kein','wir','ihr','er','dass','du','ich','mein','mich','dein','dir','dich']\n",
    "'ist' in my_stopper\n",
    "# [w in cv.get_feature_names() for w in my_stopper]"
   ]
  },
  {
   "cell_type": "markdown",
   "metadata": {},
   "source": [
    "For each cluster save the articles belonging to the cluster in a csv file.\n",
    "\n",
    "For each cluster create a wordcloud from all article titles to represent the cluster.\n"
   ]
  },
  {
   "cell_type": "code",
   "execution_count": 79,
   "metadata": {},
   "outputs": [],
   "source": [
    "#!pip install wordcloud\n",
    "from wordcloud import WordCloud\n",
    "\n",
    "K=km.n_clusters\n",
    "for k in range(K):\n",
    "    Xcl = X.loc[X['cluster']==k]\n",
    "    \n",
    "    # write articles in this cluster to csv file\n",
    "    ## needed later to display headlines and text from the (externally running) Flask server\n",
    "    \n",
    "    filename = 'html_pres/static/articles_cluster'+str(k)+'.csv'\n",
    "    Xcl.to_csv(filename, sep=';', encoding='utf-8', header=True)\n",
    "    \n",
    "    # all words of all titles in one string, preprocessed and without stopp words\n",
    "    t1 = [' '.join(ml.preprocess(t)) for t in Xcl['title']]\n",
    "    t2 = ' '.join(t1)\n",
    "    text = [w for w in t2.split() if w not in my_stopper]\n",
    "    \n",
    "    wordcloud = WordCloud().generate(' '.join(text))\n",
    "    wordcloud.to_file('html_pres/static/image_cluster'+str(k)+'.png')"
   ]
  },
  {
   "cell_type": "code",
   "execution_count": null,
   "metadata": {},
   "outputs": [],
   "source": []
  },
  {
   "cell_type": "markdown",
   "metadata": {},
   "source": [
    "## presentation as html , website\n",
    "\n",
    "* call an external python script to start the server (Flask)\n",
    "* go to 127.0.0.0:5005 to interact with the website"
   ]
  },
  {
   "cell_type": "code",
   "execution_count": 150,
   "metadata": {},
   "outputs": [
    {
     "name": "stdout",
     "output_type": "stream",
     "text": [
      " * Serving Flask app \"app\" (lazy loading)\n",
      " * Environment: production\n",
      "\u001b[31m   WARNING: This is a development server. Do not use it in a production deployment.\u001b[0m\n",
      "\u001b[2m   Use a production WSGI server instead.\u001b[0m\n",
      " * Debug mode: on\n",
      " * Running on http://127.0.0.1:5000/ (Press CTRL+C to quit)\n",
      " * Restarting with stat\n",
      " * Debugger is active!\n",
      " * Debugger PIN: 255-048-271\n",
      "range(0, 5)\n",
      "127.0.0.1 - - [13/Sep/2020 22:20:40] \"GET / HTTP/1.1\" 200 -\n",
      "^C\n"
     ]
    }
   ],
   "source": [
    "!python html_pres/app.py $K"
   ]
  },
  {
   "cell_type": "code",
   "execution_count": 143,
   "metadata": {},
   "outputs": [
    {
     "data": {
      "text/plain": [
       "[(0, 'image_cluster0.png'),\n",
       " (1, 'image_cluster1.png'),\n",
       " (2, 'image_cluster2.png'),\n",
       " (3, 'image_cluster3.png'),\n",
       " (4, 'image_cluster4.png')]"
      ]
     },
     "execution_count": 143,
     "metadata": {},
     "output_type": "execute_result"
    }
   ],
   "source": [
    "K=5\n",
    "[[k,'image_cluster'+str(k)+'.png'] for k in range(K)]"
   ]
  },
  {
   "cell_type": "code",
   "execution_count": 56,
   "metadata": {},
   "outputs": [],
   "source": [
    "# to be deleted\n",
    "list_of_titles = [' '.join(ml.preprocess(t)) for t in X['title']]\n",
    "\n",
    "cv = TfidfVectorizer(max_df=0.8 , min_df =2)\n",
    "km =  KMeans(init='k-means++', n_clusters=5, n_init=10)\n",
    "\n",
    "title_cluster = Pipeline([('vect', cv), ('cluster', km) ])\n",
    "\n",
    "#text_cluster.fit(list_of_titles[0:100])\n",
    "title_cluster.fit(list_of_titles)\n",
    "\n",
    "X['cluster'] = pd.DataFrame(km.labels_) # contains labels"
   ]
  }
 ],
 "metadata": {
  "kernelspec": {
   "display_name": "Python 3",
   "language": "python",
   "name": "python3"
  },
  "language_info": {
   "codemirror_mode": {
    "name": "ipython",
    "version": 3
   },
   "file_extension": ".py",
   "mimetype": "text/x-python",
   "name": "python",
   "nbconvert_exporter": "python",
   "pygments_lexer": "ipython3",
   "version": "3.7.3"
  }
 },
 "nbformat": 4,
 "nbformat_minor": 2
}
