{
 "cells": [
  {
   "cell_type": "markdown",
   "metadata": {},
   "source": [
    "# overall workflow"
   ]
  },
  {
   "cell_type": "markdown",
   "metadata": {},
   "source": [
    "## data acquisition\n",
    "We scrape data from Tagesspiegel, a Berlin based newspaper covering local, national and international topics."
   ]
  },
  {
   "cell_type": "code",
   "execution_count": 9,
   "metadata": {},
   "outputs": [],
   "source": [
    "from datetime import date\n",
    "from data_acquisition import scrape_tsp as st"
   ]
  },
  {
   "cell_type": "code",
   "execution_count": 10,
   "metadata": {},
   "outputs": [
    {
     "data": {
      "text/plain": [
       "'2020-09-11'"
      ]
     },
     "execution_count": 10,
     "metadata": {},
     "output_type": "execute_result"
    }
   ],
   "source": [
    "str(date.today())"
   ]
  },
  {
   "cell_type": "code",
   "execution_count": 11,
   "metadata": {},
   "outputs": [
    {
     "name": "stdout",
     "output_type": "stream",
     "text": [
      "<Response [200]>\n"
     ]
    },
    {
     "data": {
      "text/plain": [
       "'wrote 164 links to data_acquisition/links-tsp-2020-09-11.txt'"
      ]
     },
     "execution_count": 11,
     "metadata": {},
     "output_type": "execute_result"
    }
   ],
   "source": [
    "st.get_links()"
   ]
  },
  {
   "cell_type": "code",
   "execution_count": 15,
   "metadata": {},
   "outputs": [],
   "source": []
  },
  {
   "cell_type": "code",
   "execution_count": 12,
   "metadata": {},
   "outputs": [],
   "source": [
    "scraped_file = 'data_acquisition/links-tsp-' + str(date.today()) + '.txt'\n",
    "st.select_new_links(scraped_file)"
   ]
  },
  {
   "cell_type": "markdown",
   "metadata": {},
   "source": [
    "Before running the next cell, update the integer number in st.get_content( .. , int , ...)\n",
    "\n",
    "Should be updated to the numer that was returned the last time the cell ran."
   ]
  },
  {
   "cell_type": "code",
   "execution_count": 13,
   "metadata": {},
   "outputs": [
    {
     "data": {
      "text/plain": [
       "1489"
      ]
     },
     "execution_count": 13,
     "metadata": {},
     "output_type": "execute_result"
    }
   ],
   "source": [
    "#%run 'data-acquisition/get-content-02.py'\n",
    "#from data_acquisition import get_content_tsp_03\n",
    "\n",
    "import os\n",
    "\n",
    "path_to_link_file= 'data_acquisition/links-tsp-'+str(date.today())+'-new.txt'\n",
    "path_to_output_folder='data_acquisition/tagesspiegel-'+str(date.today())\n",
    "\n",
    "_, dirs, _ = next(os.walk(os.getcwd()))\n",
    "\n",
    "if path_to_output_folder in dirs:\n",
    "    print(\"** folder exists **\")\n",
    "else:\n",
    "    os.mkdir(path_to_output_folder, mode=0o744) \n",
    "\n",
    "#print(path_to_output_folder)\n",
    "st.get_content(path_to_link_file,1382,path_to_output_folder)"
   ]
  },
  {
   "cell_type": "markdown",
   "metadata": {},
   "source": [
    "When articles are downloaded, add new links to 'bestand' (this file is needed to check for already downloaded articles, articles that are scraped on more than one occasion)\n",
    "\n",
    "Note that the 'bestand's-file is hard coded."
   ]
  },
  {
   "cell_type": "code",
   "execution_count": 16,
   "metadata": {},
   "outputs": [],
   "source": [
    "!cat $path_to_link_file >> 'data_acquisition/links-tsp-bestand.txt'"
   ]
  },
  {
   "cell_type": "markdown",
   "metadata": {},
   "source": [
    "## data cleaning\n",
    " 1. We check for advertisement in the articles' text. Ad text is included in brackets [...]\n",
    " 2. We check for empty authors. \n",
    " 3. We check for missing date of publication\n",
    " 4. We check for press releases\n",
    " 5. remove content from plus.tagesspiegel.de (advertising, infotainment, Kundenbindung)\n",
    " \n",
    "ad 2: An empty list of authors is replaced by the name of the paper: Tagesspiegel.\n",
    "\n",
    "ad 4: An article that is a press release has closing characters (tsp) or (tsp,dpa) or similar. We remove the parenthesis and the enclosed text."
   ]
  },
  {
   "cell_type": "code",
   "execution_count": 18,
   "metadata": {},
   "outputs": [],
   "source": [
    "from data_cleaning import clean_tsp as ct"
   ]
  },
  {
   "cell_type": "code",
   "execution_count": 19,
   "metadata": {},
   "outputs": [
    {
     "data": {
      "text/plain": [
       "{'files inspected': 0,\n",
       " 'files with ads': 33,\n",
       " 'ads removed': 44,\n",
       " 'files not clean': 9,\n",
       " 'files bot clean reasons': ['content from plus.tagesspiegel.de (url)',\n",
       "  'content from plus.tagesspiegel.de (url)',\n",
       "  'content from plus.tagesspiegel.de (url)',\n",
       "  'too short',\n",
       "  'content from plus.tagesspiegel.de (url)',\n",
       "  'content from plus.tagesspiegel.de (url)',\n",
       "  'content from plus.tagesspiegel.de (url)',\n",
       "  'content from plus.tagesspiegel.de (url)',\n",
       "  'content from plus.tagesspiegel.de (url)'],\n",
       " 'dates imputed': 0}"
      ]
     },
     "execution_count": 19,
     "metadata": {},
     "output_type": "execute_result"
    }
   ],
   "source": [
    "ct.clean_up('data_acquisition/tagesspiegel-2020-09-11','2020-09-11')"
   ]
  },
  {
   "cell_type": "code",
   "execution_count": 22,
   "metadata": {},
   "outputs": [],
   "source": [
    "# move clean files to where they will be picked up downstream in our workflow\n",
    "!mv data_acquisition/tagesspiegel-2020-09-11/*clean.json articles_02"
   ]
  },
  {
   "cell_type": "markdown",
   "metadata": {},
   "source": [
    "### protocols from previous cleanings"
   ]
  },
  {
   "cell_type": "code",
   "execution_count": 8,
   "metadata": {},
   "outputs": [
    {
     "data": {
      "text/plain": [
       "{'files inspected': 0,\n",
       " 'files with ads': 63,\n",
       " 'ads removed': 96,\n",
       " 'files not clean': 8,\n",
       " 'files bot clean reasons': ['too short',\n",
       "  'content from plus.tagesspiegel.de (url)',\n",
       "  'content from plus.tagesspiegel.de (url)',\n",
       "  'content from plus.tagesspiegel.de (url)',\n",
       "  'content from plus.tagesspiegel.de (url)',\n",
       "  'content from plus.tagesspiegel.de (url)',\n",
       "  'content from plus.tagesspiegel.de (url)',\n",
       "  'content from plus.tagesspiegel.de (url)'],\n",
       " 'dates imputed': 0}"
      ]
     },
     "execution_count": 8,
     "metadata": {},
     "output_type": "execute_result"
    }
   ],
   "source": [
    "ct.clean_up('data_acquisition/tagesspiegel-2020-09-09','2020-09-09')"
   ]
  },
  {
   "cell_type": "code",
   "execution_count": 5,
   "metadata": {},
   "outputs": [
    {
     "name": "stdout",
     "output_type": "stream",
     "text": [
      "tagesspiegel-2020-08-02/00843.json\n",
      "tagesspiegel-2020-08-02/00859.json\n",
      "tagesspiegel-2020-08-02/00878.json\n",
      "tagesspiegel-2020-08-02/00840.json\n"
     ]
    },
    {
     "data": {
      "text/plain": [
       "{'files inspected': 78,\n",
       " 'files with ads': 43,\n",
       " 'ads removed': 64,\n",
       " 'files removed': 4,\n",
       " 'files removed reasons': ['wrong type: author',\n",
       "  'wrong type: imagegallery',\n",
       "  'too short',\n",
       "  'too short'],\n",
       " 'dates imputed': 6}"
      ]
     },
     "execution_count": 5,
     "metadata": {},
     "output_type": "execute_result"
    }
   ],
   "source": [
    "ct.clean_up('tagesspiegel-2020-08-02','2020-08-02')"
   ]
  },
  {
   "cell_type": "code",
   "execution_count": 3,
   "metadata": {},
   "outputs": [
    {
     "name": "stdout",
     "output_type": "stream",
     "text": [
      "tagesspiegel-2020-09-04/01126.json\n",
      "tagesspiegel-2020-09-04/01045.json\n",
      "tagesspiegel-2020-09-04/01048.json\n"
     ]
    },
    {
     "data": {
      "text/plain": [
       "{'files inspected': 138,\n",
       " 'files with ads': 61,\n",
       " 'ads removed': 81,\n",
       " 'files removed': 3,\n",
       " 'files removed reasons': ['wrong type: imagegallery',\n",
       "  'wrong type: imagegallery',\n",
       "  'wrong type: imagegallery'],\n",
       " 'dates imputed': 9}"
      ]
     },
     "execution_count": 3,
     "metadata": {},
     "output_type": "execute_result"
    }
   ],
   "source": [
    "ct.clean_up('tagesspiegel-2020-09-04','2020-09-04')"
   ]
  },
  {
   "cell_type": "code",
   "execution_count": 4,
   "metadata": {},
   "outputs": [
    {
     "name": "stdout",
     "output_type": "stream",
     "text": [
      "tagesspiegel-2020-08-04/00973.json\n",
      "tagesspiegel-2020-08-04/01016.json\n",
      "tagesspiegel-2020-08-04/00914.json\n"
     ]
    },
    {
     "data": {
      "text/plain": [
       "{'files inspected': 118,\n",
       " 'files with ads': 60,\n",
       " 'ads removed': 74,\n",
       " 'files removed': 3,\n",
       " 'files removed reasons': ['too short',\n",
       "  'wrong type: imagegallery',\n",
       "  'too short'],\n",
       " 'dates imputed': 6}"
      ]
     },
     "execution_count": 4,
     "metadata": {},
     "output_type": "execute_result"
    }
   ],
   "source": [
    "ct.clean_up('tagesspiegel-2020-08-04','2020-08-04')"
   ]
  },
  {
   "cell_type": "code",
   "execution_count": 8,
   "metadata": {},
   "outputs": [
    {
     "name": "stdout",
     "output_type": "stream",
     "text": [
      "tagesspiegel-2020-09-05/01239.json\n"
     ]
    },
    {
     "data": {
      "text/plain": [
       "{'files inspected': 89,\n",
       " 'files with ads': 40,\n",
       " 'ads removed': 51,\n",
       " 'files removed': 1,\n",
       " 'files removed reasons': ['too short'],\n",
       " 'dates imputed': 7}"
      ]
     },
     "execution_count": 8,
     "metadata": {},
     "output_type": "execute_result"
    }
   ],
   "source": [
    "ct.clean_up('tagesspiegel-2020-09-05','2020-09-05')"
   ]
  },
  {
   "cell_type": "markdown",
   "metadata": {},
   "source": [
    "## ml task"
   ]
  },
  {
   "cell_type": "code",
   "execution_count": null,
   "metadata": {},
   "outputs": [],
   "source": []
  },
  {
   "cell_type": "code",
   "execution_count": 38,
   "metadata": {},
   "outputs": [],
   "source": [
    "import os\n",
    "\n",
    "from sklearn.pipeline import Pipeline\n",
    "from sklearn.feature_extraction.text import TfidfVectorizer\n",
    "from sklearn.feature_extraction.text import CountVectorizer\n",
    "from sklearn.cluster import KMeans\n",
    "\n",
    "import re\n",
    "\n",
    "from textblob_de import TextBlobDE \n",
    "\n",
    "import glob\n",
    "import pandas as pd\n",
    "import numpy as np\n",
    "\n",
    "import matplotlib.pyplot as plt\n",
    "\n",
    "import math\n",
    "\n",
    "import json\n",
    "\n",
    "\n",
    "def preprocess(text):\n",
    "    #print(text)\n",
    "    a = text.lower() # lower cases only\n",
    "    b = re.sub(\"(\\\\W|\\\\d)\",\" \",a) #remove non-ascii and digits\n",
    "    blob = TextBlobDE(b)\n",
    "    return(blob.words.lemmatize()) # lemmatize for german\n",
    "\n",
    "\n",
    "def read_articles_transform_to_df (path_to_text_files='articles_02/*clean.json', debug=False):\n",
    "\n",
    "\tfile_list=glob.glob(path_to_text_files)\n",
    "\t#file_list = glob.glob(\"../tagesspiegel/*.txt\")\n",
    "\t#print(file_list)\n",
    "\n",
    "\tn = len(file_list)\n",
    "\tprint(n , \"files to work with.\")\n",
    "\tif debug==True:\n",
    "\t\tn_restrict = 50\n",
    "\t\tprint('debug mode, working with a subset of ' + str(n_restrict) + ' files.')\n",
    "\t\tn = n_restrict\n",
    "        \n",
    "\t#list_of_articles = []\n",
    "\tX = pd.DataFrame(columns=['file','file_name','title','text','description','date','image'])\n",
    "\n",
    "\tfor i in range(n):\n",
    "\t\tif debug:\n",
    "            print('*** '+str(i)+' ***' + file_list[i])\n",
    "\t\twith open (file_list[i]) as file:\n",
    "\t\t\tarticle = json.loads(file.read())\n",
    "\t\tX=X.append({'file':file_list[i] , 'file_name':article['text-link'], 'text':article['text'], 'title':article['title'], 'description':article['description'], 'date':article['publish-date'], 'image':article['image']}, ignore_index=True)\n",
    "\treturn(X)\n",
    "\n",
    "def enthropy(pv):\n",
    "\t# should check, that all values are positive and sum to (about) 1\n",
    "\treturn(-sum([pv[i]*math.log(pv[i]) for i in range(len(pv))]))\n",
    "\n",
    "def evaluate_cluster(km_object):\n",
    "\tn, bins, patches = plt.hist(km_object.labels_, km_object.n_clusters, facecolor='blue', alpha=0.5)\n",
    "\tplt.title('sizes of clusters')\n",
    "\tplt.ylabel('nr. of articles')\n",
    "\tplt.show()\n",
    "\n",
    "\trel_fq = [round(ni/sum(n),3) for ni in n] \n",
    "#\t\tprint('elements in bins: ' , n)\n",
    "#\t\tprint('relative size of bins: ', rel_fq)\n",
    "#\t\tprint('enthropy: ', enthropy(rel_fq))\n",
    "\n",
    "\treturn({'n': n , 'frequencies': rel_fq , 'enthropy': enthropy(rel_fq), 'inertia':km_object.inertia_})"
   ]
  },
  {
   "cell_type": "markdown",
   "metadata": {},
   "source": [
    "preprocessing does some basic transfomation of a text into a wordlist:\n",
    "\n",
    "Remove non ascii symbols and numbers / digits.\n",
    "\n",
    "Remove punctuation. Lemmatize."
   ]
  },
  {
   "cell_type": "code",
   "execution_count": 40,
   "metadata": {},
   "outputs": [
    {
     "name": "stdout",
     "output_type": "stream",
     "text": [
      "98 files to work with.\n",
      "*** 0 ***articles_02/01417-clean.json\n",
      "*** 1 ***articles_02/01420-clean.json\n",
      "*** 2 ***articles_02/01442-clean.json\n",
      "*** 3 ***articles_02/01396-clean.json\n",
      "*** 4 ***articles_02/01469-clean.json\n",
      "*** 5 ***articles_02/01478-clean.json\n",
      "*** 6 ***articles_02/01387-clean.json\n",
      "*** 7 ***articles_02/01487-clean.json\n",
      "*** 8 ***articles_02/01453-clean.json\n",
      "*** 9 ***articles_02/01464-clean.json\n",
      "*** 10 ***articles_02/01431-clean.json\n",
      "*** 11 ***articles_02/01406-clean.json\n",
      "*** 12 ***articles_02/01482-clean.json\n",
      "*** 13 ***articles_02/01428-clean.json\n",
      "*** 14 ***articles_02/01456-clean.json\n",
      "*** 15 ***articles_02/01403-clean.json\n",
      "*** 16 ***articles_02/01434-clean.json\n",
      "*** 17 ***articles_02/01425-clean.json\n",
      "*** 18 ***articles_02/01412-clean.json\n",
      "*** 19 ***articles_02/01447-clean.json\n",
      "*** 20 ***articles_02/01439-clean.json\n",
      "*** 21 ***articles_02/01393-clean.json\n",
      "*** 22 ***articles_02/01394-clean.json\n",
      "*** 23 ***articles_02/01409-clean.json\n",
      "*** 24 ***articles_02/01488-clean.json\n",
      "*** 25 ***articles_02/01388-clean.json\n",
      "*** 26 ***articles_02/01422-clean.json\n",
      "*** 27 ***articles_02/01440-clean.json\n",
      "*** 28 ***articles_02/01477-clean.json\n",
      "*** 29 ***articles_02/01466-clean.json\n",
      "*** 30 ***articles_02/01451-clean.json\n",
      "*** 31 ***articles_02/01404-clean.json\n",
      "*** 32 ***articles_02/01433-clean.json\n",
      "*** 33 ***articles_02/01399-clean.json\n",
      "*** 34 ***articles_02/01418-clean.json\n",
      "*** 35 ***articles_02/01385-clean.json\n",
      "*** 36 ***articles_02/01485-clean.json\n",
      "*** 37 ***articles_02/01454-clean.json\n",
      "*** 38 ***articles_02/01463-clean.json\n",
      "*** 39 ***articles_02/01436-clean.json\n",
      "*** 40 ***articles_02/01401-clean.json\n",
      "*** 41 ***articles_02/01480-clean.json\n",
      "*** 42 ***articles_02/01448-clean.json\n",
      "*** 43 ***articles_02/01459-clean.json\n",
      "*** 44 ***articles_02/01391-clean.json\n",
      "*** 45 ***articles_02/01410-clean.json\n",
      "*** 46 ***articles_02/01427-clean.json\n",
      "*** 47 ***articles_02/01472-clean.json\n",
      "*** 48 ***articles_02/01445-clean.json\n",
      "*** 49 ***articles_02/01429-clean.json\n",
      "*** 50 ***articles_02/01383-clean.json\n",
      "*** 51 ***articles_02/01483-clean.json\n",
      "*** 52 ***articles_02/01460-clean.json\n",
      "*** 53 ***articles_02/01457-clean.json\n",
      "*** 54 ***articles_02/01402-clean.json\n",
      "*** 55 ***articles_02/01435-clean.json\n",
      "*** 56 ***articles_02/01413-clean.json\n",
      "*** 57 ***articles_02/01446-clean.json\n",
      "*** 58 ***articles_02/01471-clean.json\n",
      "*** 59 ***articles_02/01392-clean.json\n",
      "*** 60 ***articles_02/01438-clean.json\n",
      "*** 61 ***articles_02/01416-clean.json\n",
      "*** 62 ***articles_02/01421-clean.json\n",
      "*** 63 ***articles_02/01474-clean.json\n",
      "*** 64 ***articles_02/01443-clean.json\n",
      "*** 65 ***articles_02/01468-clean.json\n",
      "*** 66 ***articles_02/01397-clean.json\n",
      "*** 67 ***articles_02/01386-clean.json\n",
      "*** 68 ***articles_02/01486-clean.json\n",
      "*** 69 ***articles_02/01479-clean.json\n",
      "*** 70 ***articles_02/01452-clean.json\n",
      "*** 71 ***articles_02/01465-clean.json\n",
      "*** 72 ***articles_02/01430-clean.json\n",
      "*** 73 ***articles_02/01407-clean.json\n",
      "*** 74 ***articles_02/01455-clean.json\n",
      "*** 75 ***articles_02/01462-clean.json\n",
      "*** 76 ***articles_02/01437-clean.json\n",
      "*** 77 ***articles_02/01400-clean.json\n",
      "*** 78 ***articles_02/01449-clean.json\n",
      "*** 79 ***articles_02/01481-clean.json\n",
      "*** 80 ***articles_02/01458-clean.json\n",
      "*** 81 ***articles_02/01426-clean.json\n",
      "*** 82 ***articles_02/01473-clean.json\n",
      "*** 83 ***articles_02/01444-clean.json\n",
      "*** 84 ***articles_02/01408-clean.json\n",
      "*** 85 ***articles_02/01395-clean.json\n",
      "*** 86 ***articles_02/01423-clean.json\n",
      "*** 87 ***articles_02/01414-clean.json\n",
      "*** 88 ***articles_02/01441-clean.json\n",
      "*** 89 ***articles_02/01489-clean.json\n",
      "*** 90 ***articles_02/01389-clean.json\n",
      "*** 91 ***articles_02/01467-clean.json\n",
      "*** 92 ***articles_02/01450-clean.json\n",
      "*** 93 ***articles_02/01405-clean.json\n",
      "*** 94 ***articles_02/01432-clean.json\n",
      "*** 95 ***articles_02/01384-clean.json\n",
      "*** 96 ***articles_02/01484-clean.json\n",
      "*** 97 ***articles_02/01419-clean.json\n"
     ]
    }
   ],
   "source": [
    "X = read_articles_transform_to_df('articles_02/*clean.json',debug=False)\n",
    "#X['text'][0] # to check what we work with: Umlaute are correct, Data cleaning should have removed advertising text ..."
   ]
  },
  {
   "cell_type": "code",
   "execution_count": 41,
   "metadata": {},
   "outputs": [
    {
     "data": {
      "text/html": [
       "<div>\n",
       "<style scoped>\n",
       "    .dataframe tbody tr th:only-of-type {\n",
       "        vertical-align: middle;\n",
       "    }\n",
       "\n",
       "    .dataframe tbody tr th {\n",
       "        vertical-align: top;\n",
       "    }\n",
       "\n",
       "    .dataframe thead th {\n",
       "        text-align: right;\n",
       "    }\n",
       "</style>\n",
       "<table border=\"1\" class=\"dataframe\">\n",
       "  <thead>\n",
       "    <tr style=\"text-align: right;\">\n",
       "      <th></th>\n",
       "      <th>file</th>\n",
       "      <th>file_name</th>\n",
       "      <th>title</th>\n",
       "      <th>text</th>\n",
       "      <th>description</th>\n",
       "      <th>date</th>\n",
       "      <th>image</th>\n",
       "    </tr>\n",
       "  </thead>\n",
       "  <tbody>\n",
       "    <tr>\n",
       "      <th>0</th>\n",
       "      <td>articles_02/01417-clean.json</td>\n",
       "      <td>01417</td>\n",
       "      <td>Scheel rechnet mit baldiger Entscheidung über ...</td>\n",
       "      <td>Berlins Stadtentwicklungssenator Sebastian Sch...</td>\n",
       "      <td>Seit mehr als einem Jahr steht die Initiative ...</td>\n",
       "      <td>2020-09-11 09:16:28+02:00</td>\n",
       "      <td>https://www.tagesspiegel.de/images/deutsche-wo...</td>\n",
       "    </tr>\n",
       "    <tr>\n",
       "      <th>1</th>\n",
       "      <td>articles_02/01420-clean.json</td>\n",
       "      <td>01420</td>\n",
       "      <td>Retourkutsche zum Zwinger</td>\n",
       "      <td>Barocke Feste, da denkt man zuerst natürlich a...</td>\n",
       "      <td>Deutsches Versailles: Dresden feiert die Fürst...</td>\n",
       "      <td>2019-06-25 09:14:36+02:00</td>\n",
       "      <td>https://www.tagesspiegel.de/images/heprodimage...</td>\n",
       "    </tr>\n",
       "    <tr>\n",
       "      <th>2</th>\n",
       "      <td>articles_02/01442-clean.json</td>\n",
       "      <td>01442</td>\n",
       "      <td>Bundeswehr verteilt Rosen am Brandenburger Tor</td>\n",
       "      <td>Die Bundeswehr wirbt zum Internationalen Fraue...</td>\n",
       "      <td>Die deutschen Streitkräfte wollen zum Weltfrau...</td>\n",
       "      <td>2019-03-07 08:09:30+01:00</td>\n",
       "      <td>https://www.tagesspiegel.de/images/fruehlingsw...</td>\n",
       "    </tr>\n",
       "    <tr>\n",
       "      <th>3</th>\n",
       "      <td>articles_02/01396-clean.json</td>\n",
       "      <td>01396</td>\n",
       "      <td>Laschet sucht Erfolg als „Merkel 2.0“</td>\n",
       "      <td>Die Kommunalwahlen in Nordrhein-Westfalen steh...</td>\n",
       "      <td>Die Stimmung wendet sich: Laschets Kurs in der...</td>\n",
       "      <td>2020-09-05 19:51:14+02:00</td>\n",
       "      <td>https://www.tagesspiegel.de/images/armin-lasch...</td>\n",
       "    </tr>\n",
       "    <tr>\n",
       "      <th>4</th>\n",
       "      <td>articles_02/01469-clean.json</td>\n",
       "      <td>01469</td>\n",
       "      <td>War's schlimm und eng? - Nö!</td>\n",
       "      <td>Sein Vater ist früh gestorben, er ist früh ges...</td>\n",
       "      <td>Lehrer wollte er werden. Und kam in die DDR. D...</td>\n",
       "      <td>2020-09-11 10:34:35+02:00</td>\n",
       "      <td>https://www.tagesspiegel.de/images/maungue/261...</td>\n",
       "    </tr>\n",
       "  </tbody>\n",
       "</table>\n",
       "</div>"
      ],
      "text/plain": [
       "                           file file_name  \\\n",
       "0  articles_02/01417-clean.json     01417   \n",
       "1  articles_02/01420-clean.json     01420   \n",
       "2  articles_02/01442-clean.json     01442   \n",
       "3  articles_02/01396-clean.json     01396   \n",
       "4  articles_02/01469-clean.json     01469   \n",
       "\n",
       "                                               title  \\\n",
       "0  Scheel rechnet mit baldiger Entscheidung über ...   \n",
       "1                          Retourkutsche zum Zwinger   \n",
       "2     Bundeswehr verteilt Rosen am Brandenburger Tor   \n",
       "3              Laschet sucht Erfolg als „Merkel 2.0“   \n",
       "4                       War's schlimm und eng? - Nö!   \n",
       "\n",
       "                                                text  \\\n",
       "0  Berlins Stadtentwicklungssenator Sebastian Sch...   \n",
       "1  Barocke Feste, da denkt man zuerst natürlich a...   \n",
       "2  Die Bundeswehr wirbt zum Internationalen Fraue...   \n",
       "3  Die Kommunalwahlen in Nordrhein-Westfalen steh...   \n",
       "4  Sein Vater ist früh gestorben, er ist früh ges...   \n",
       "\n",
       "                                         description  \\\n",
       "0  Seit mehr als einem Jahr steht die Initiative ...   \n",
       "1  Deutsches Versailles: Dresden feiert die Fürst...   \n",
       "2  Die deutschen Streitkräfte wollen zum Weltfrau...   \n",
       "3  Die Stimmung wendet sich: Laschets Kurs in der...   \n",
       "4  Lehrer wollte er werden. Und kam in die DDR. D...   \n",
       "\n",
       "                        date  \\\n",
       "0  2020-09-11 09:16:28+02:00   \n",
       "1  2019-06-25 09:14:36+02:00   \n",
       "2  2019-03-07 08:09:30+01:00   \n",
       "3  2020-09-05 19:51:14+02:00   \n",
       "4  2020-09-11 10:34:35+02:00   \n",
       "\n",
       "                                               image  \n",
       "0  https://www.tagesspiegel.de/images/deutsche-wo...  \n",
       "1  https://www.tagesspiegel.de/images/heprodimage...  \n",
       "2  https://www.tagesspiegel.de/images/fruehlingsw...  \n",
       "3  https://www.tagesspiegel.de/images/armin-lasch...  \n",
       "4  https://www.tagesspiegel.de/images/maungue/261...  "
      ]
     },
     "execution_count": 41,
     "metadata": {},
     "output_type": "execute_result"
    }
   ],
   "source": [
    "# check result of read articles and transform to df:\n",
    "X.head()"
   ]
  },
  {
   "cell_type": "markdown",
   "metadata": {},
   "source": [
    "### compare : cluster titles (short, fast) or cluster text (long, slow)\n",
    "\n",
    "Is it better to cluster by applying K-means to to titles or to the full text of the article? Since titles are short, clustering them is faster. But is the quality of clustering the full texts higher?\n",
    "\n",
    "How do the resulting clusters differ?"
   ]
  },
  {
   "cell_type": "code",
   "execution_count": 42,
   "metadata": {},
   "outputs": [],
   "source": [
    "list_of_titles = [' '.join(preprocess(t)) for t in X['title']]\n",
    "\n",
    "cv = TfidfVectorizer(max_df=0.8 , min_df =2)\n",
    "km =  KMeans(init='k-means++', n_clusters=5, n_init=10)\n",
    "\n",
    "text_cluster = Pipeline([('vect', cv), ('cluster', km) ])\n",
    "\n",
    "#text_cluster.fit(list_of_titles[0:100])\n",
    "text_cluster.fit(list_of_titles)\n",
    "\n",
    "X['cluster'] = pd.DataFrame(km.labels_) # contains labels"
   ]
  },
  {
   "cell_type": "code",
   "execution_count": null,
   "metadata": {},
   "outputs": [],
   "source": [
    "# it could be good to cluster on the basis of title / headline and description.\n",
    "# there are more words and it is easier to find overlaps.\n",
    "\n",
    "# another approach would be to use word embeddings, either pretrained.\n",
    "# Or: train the word embeddings on the articles' text and then use it only for the titles."
   ]
  },
  {
   "cell_type": "code",
   "execution_count": 43,
   "metadata": {},
   "outputs": [
    {
     "data": {
      "image/png": "[encoded data removed]",
      "text/plain": [
       "<Figure size 432x288 with 1 Axes>"
      ]
     },
     "metadata": {
      "needs_background": "light"
     },
     "output_type": "display_data"
    },
    {
     "data": {
      "text/plain": [
       "{'n': array([44., 13., 18.,  7., 16.]),\n",
       " 'frequencies': [0.449, 0.133, 0.184, 0.071, 0.163],\n",
       " 'enthropy': 1.4228058349308825,\n",
       " 'inertia': 76.39021803726573}"
      ]
     },
     "execution_count": 43,
     "metadata": {},
     "output_type": "execute_result"
    }
   ],
   "source": [
    "evaluate_cluster(km)\n",
    "#cv.get_feature_names()[0:10]"
   ]
  },
  {
   "cell_type": "code",
   "execution_count": 44,
   "metadata": {},
   "outputs": [],
   "source": [
    "list_of_articles = [' '.join(preprocess(t)) for t in X['text']]\n",
    "\n",
    "cv = TfidfVectorizer(max_df=0.8 , min_df =2)\n",
    "km =  KMeans(init='k-means++', n_clusters=5, n_init=10)\n",
    "\n",
    "text_cluster = Pipeline([('vect', cv), ('cluster', km) ])\n",
    "\n",
    "#text_cluster.fit(list_of_titles[0:100])\n",
    "text_cluster.fit(list_of_articles)\n",
    "\n",
    "X['cluster'] = pd.DataFrame(km.labels_) # contains labels"
   ]
  },
  {
   "cell_type": "code",
   "execution_count": 45,
   "metadata": {},
   "outputs": [
    {
     "data": {
      "image/png": "[encoded data removed]",
      "text/plain": [
       "<Figure size 432x288 with 1 Axes>"
      ]
     },
     "metadata": {
      "needs_background": "light"
     },
     "output_type": "display_data"
    },
    {
     "data": {
      "text/plain": [
       "{'n': array([ 3.,  8., 46., 35.,  6.]),\n",
       " 'frequencies': [0.031, 0.082, 0.469, 0.357, 0.061],\n",
       " 'enthropy': 1.2062030191562205,\n",
       " 'inertia': 82.89443279246368}"
      ]
     },
     "execution_count": 45,
     "metadata": {},
     "output_type": "execute_result"
    }
   ],
   "source": [
    "evaluate_cluster(km)\n"
   ]
  },
  {
   "cell_type": "markdown",
   "metadata": {},
   "source": [
    "### how stuff works"
   ]
  },
  {
   "cell_type": "code",
   "execution_count": 5,
   "metadata": {},
   "outputs": [
    {
     "data": {
      "text/plain": [
       "WordList(['ich', 'meinern', 'mir', 'mich', 'hallo', 'hier', 'sein', 'ein', 'baum', 'oder', 'oder', 'oder', 'bzw', 'zwölf', 'laufen', 'laufen', 'laufen'])"
      ]
     },
     "execution_count": 5,
     "metadata": {},
     "output_type": "execute_result"
    }
   ],
   "source": [
    "# how preprocessing works\n",
    "preprocess('Ich, meiner, mir, mich. Hallo hier ist ein Baum. %§/$. Oder 8 oder 9 oder 77 bzw. zwölf?? Läuft lief gelaufen')"
   ]
  },
  {
   "cell_type": "code",
   "execution_count": 69,
   "metadata": {},
   "outputs": [
    {
     "data": {
      "text/plain": [
       "['scheel rechnet mit baldig entscheidung über berlin volksbegehren',\n",
       " 'retourkutschen zum zwinger',\n",
       " 'Bundeswehr verteilen rosen am brandenburger tor',\n",
       " 'laschet suchen erfolg als merkel',\n",
       " 'sein s schlimm und eng nö',\n",
       " 'wie wir über den erst corona winter kommen entscheidet sich jetzt',\n",
       " 'der run der wall street auf das vermögen der neu mittelschicht',\n",
       " 'wieder grossfeuer im hafengebiet von beirut',\n",
       " 'der aufklärer assange als unperson',\n",
       " 'lothar corona der fc',\n",
       " 'horst seehofer der buhmann',\n",
       " 'bei ein mann werden man sagen wow haben der mumm',\n",
       " 'die chefin mit neu kollegen',\n",
       " 'an dies schulen werden neu corona fälle bekannt',\n",
       " 'die stadt ist wild als du denkst und freundlich als du glaubst',\n",
       " 'die chinesisch international dienstleistungsmesse wurde erfolgreich abgeschlossen',\n",
       " 'Warnstreiks bei der post in berlin',\n",
       " 'trump vergleichen sich mit churchill',\n",
       " 'patricia schlesinger vor wiederwahl',\n",
       " 'michael rother für mich sein das kein nostalgi trip']"
      ]
     },
     "execution_count": 69,
     "metadata": {},
     "output_type": "execute_result"
    }
   ],
   "source": [
    "# the list of titles\n",
    "[' '.join(preprocess(t)) for t in X['title']]"
   ]
  },
  {
   "cell_type": "code",
   "execution_count": null,
   "metadata": {},
   "outputs": [],
   "source": []
  },
  {
   "cell_type": "markdown",
   "metadata": {},
   "source": [
    "## Word cloud representation for cluster\n",
    "\n",
    "Collect all text from a specified cluster and create its wordcloud."
   ]
  },
  {
   "cell_type": "markdown",
   "metadata": {},
   "source": [
    "Some stopwords are features."
   ]
  },
  {
   "cell_type": "code",
   "execution_count": 52,
   "metadata": {},
   "outputs": [
    {
     "data": {
      "text/plain": [
       "True"
      ]
     },
     "execution_count": 52,
     "metadata": {},
     "output_type": "execute_result"
    }
   ],
   "source": [
    "my_stopper = ['ist','nur','sein','seine','deine','meine','am','sie','bei','durch','noch','sich','in','im','ihr','ihre','vor','zur','seit','es','zu','werden','haben','sein','von','jedoch','auch','des','dies','als','wie','dem','den','um','mit','sein','auf','der','die','das','und','ein','aus','kein','wir','ihr','er','dass','du','ich','mein','mich','dein','dir','dich']\n",
    "'ist' in my_stopper\n",
    "# [w in cv.get_feature_names() for w in my_stopper]"
   ]
  },
  {
   "cell_type": "markdown",
   "metadata": {},
   "source": [
    "For each cluster save the articles belonging to the cluster in a csv file.\n",
    "\n",
    "For each cluster create a wordcloud from all article titles to represent the cluster.\n"
   ]
  },
  {
   "cell_type": "code",
   "execution_count": 53,
   "metadata": {},
   "outputs": [],
   "source": [
    "#!pip install wordcloud\n",
    "from wordcloud import WordCloud\n",
    "\n",
    "K=km.n_clusters\n",
    "for k in range(K):\n",
    "    Xcl = X.loc[X['cluster']==k]\n",
    "    \n",
    "    # write articles in this cluster to csv file\n",
    "    ## needed later to display headlines and text from the (externally running) Flask server\n",
    "    \n",
    "    filename = 'html_pres/static/articles_cluster'+str(k)+'.csv'\n",
    "    Xcl.to_csv(filename, sep=';', encoding='utf-8', header=True)\n",
    "    \n",
    "    # all words of all titles in one string, preprocessed and without stopp words\n",
    "    t1 = [' '.join(preprocess(t)) for t in Xcl['title']]\n",
    "    t2 = ' '.join(t1)\n",
    "    text = [w for w in t2.split() if w not in my_stopper]\n",
    "    \n",
    "    wordcloud = WordCloud().generate(' '.join(text))\n",
    "    wordcloud.to_file('html_pres/static/image_cluster'+str(k)+'.png')"
   ]
  },
  {
   "cell_type": "code",
   "execution_count": null,
   "metadata": {},
   "outputs": [],
   "source": []
  },
  {
   "cell_type": "markdown",
   "metadata": {},
   "source": [
    "## presentation as html , website\n",
    "\n",
    "* call an external python script to start the server (Flask)\n",
    "* go to 127.0.0.0:5005 to interact with the website"
   ]
  },
  {
   "cell_type": "code",
   "execution_count": 31,
   "metadata": {},
   "outputs": [],
   "source": [
    "#!pip install pyttsx3\n",
    "import pyttsx3\n",
    "engine = pyttsx3.init()\n",
    "# available voices / languages\n",
    "#for v in engine.getProperty('voices'): \n",
    "#    print(v.languages, v.id, v.name)"
   ]
  },
  {
   "cell_type": "code",
   "execution_count": 32,
   "metadata": {},
   "outputs": [
    {
     "name": "stdout",
     "output_type": "stream",
     "text": [
      "Berlins Stadtentwicklungssenator Sebastian Scheel (Linke) strebt an, dass der Senat bis zum 22. September über die Zulässigkeit des geplanten Volksbegehrens zur Enteignung großer Wohnungsunternehmen entscheidet.\n",
      "\n",
      "In Erwartung eines positiven Prüfbescheids der Innenverwaltung, der noch nicht vorliege\n",
      "com.apple.speech.synthesis.voice.Alex\n"
     ]
    }
   ],
   "source": [
    "# transform text to speach and save to an mp3 file \n",
    "text=X.iloc[0]['text'][0:300]\n",
    "print(text)\n",
    "engine.setProperty('rate', 140)\n",
    "engine.setProperty('voice', 'com.apple.speech.synthesis.voice.anna')\n",
    "# print(engine.getProperty('voice'))\n",
    "engine.say(text)\n",
    "engine.save_to_file(text, 'read_description.mp3')\n",
    "engine.runAndWait()\n",
    "engine.stop()"
   ]
  },
  {
   "cell_type": "code",
   "execution_count": 28,
   "metadata": {},
   "outputs": [
    {
     "data": {
      "text/plain": [
       "'Berlins Stadtentwicklungssenator Sebastian Scheel (Linke) strebt an, dass der Senat bis zum 22. September über die Zulässigkeit des geplanten Volksbegehrens zur Enteignung großer Wohnungsunternehmen entscheidet.\\n\\nIn Erwartung eines positiven Prüfbescheids der Innenverwaltung, der noch nicht vorliege'"
      ]
     },
     "execution_count": 28,
     "metadata": {},
     "output_type": "execute_result"
    }
   ],
   "source": []
  },
  {
   "cell_type": "code",
   "execution_count": 55,
   "metadata": {},
   "outputs": [
    {
     "name": "stdout",
     "output_type": "stream",
     "text": [
      " * Serving Flask app \"app\" (lazy loading)\n",
      " * Environment: production\n",
      "\u001b[31m   WARNING: This is a development server. Do not use it in a production deployment.\u001b[0m\n",
      "\u001b[2m   Use a production WSGI server instead.\u001b[0m\n",
      " * Debug mode: on\n",
      " * Running on http://127.0.0.1:5000/ (Press CTRL+C to quit)\n",
      " * Restarting with stat\n",
      " * Debugger is active!\n",
      " * Debugger PIN: 255-048-271\n",
      "127.0.0.1 - - [11/Sep/2020 22:47:48] \"GET / HTTP/1.1\" 200 -\n",
      "*******************\n",
      "static/articles_cluster3.csv\n",
      "*******************\n",
      "127.0.0.1 - - [11/Sep/2020 22:47:50] \"GET /readmore/3 HTTP/1.1\" 500 -\n",
      "Traceback (most recent call last):\n",
      "  File \"/anaconda3/lib/python3.7/site-packages/flask/app.py\", line 2328, in __call__\n",
      "    return self.wsgi_app(environ, start_response)\n",
      "  File \"/anaconda3/lib/python3.7/site-packages/flask/app.py\", line 2314, in wsgi_app\n",
      "    response = self.handle_exception(e)\n",
      "  File \"/anaconda3/lib/python3.7/site-packages/flask/app.py\", line 1760, in handle_exception\n",
      "    reraise(exc_type, exc_value, tb)\n",
      "  File \"/anaconda3/lib/python3.7/site-packages/flask/_compat.py\", line 36, in reraise\n",
      "    raise value\n",
      "  File \"/anaconda3/lib/python3.7/site-packages/flask/app.py\", line 2311, in wsgi_app\n",
      "    response = self.full_dispatch_request()\n",
      "  File \"/anaconda3/lib/python3.7/site-packages/flask/app.py\", line 1834, in full_dispatch_request\n",
      "    rv = self.handle_user_exception(e)\n",
      "  File \"/anaconda3/lib/python3.7/site-packages/flask/app.py\", line 1737, in handle_user_exception\n",
      "    reraise(exc_type, exc_value, tb)\n",
      "  File \"/anaconda3/lib/python3.7/site-packages/flask/_compat.py\", line 36, in reraise\n",
      "    raise value\n",
      "  File \"/anaconda3/lib/python3.7/site-packages/flask/app.py\", line 1832, in full_dispatch_request\n",
      "    rv = self.dispatch_request()\n",
      "  File \"/anaconda3/lib/python3.7/site-packages/flask/app.py\", line 1818, in dispatch_request\n",
      "    return self.view_functions[rule.endpoint](**req.view_args)\n",
      "  File \"/Users/silke/Documents/studiumDataScience/semester2/DSW/newsreader/html_pres/app.py\", line 48, in readmore\n",
      "    df = pd.read_csv(file, sep=\";\")\n",
      "  File \"/anaconda3/lib/python3.7/site-packages/pandas/io/parsers.py\", line 702, in parser_f\n",
      "    return _read(filepath_or_buffer, kwds)\n",
      "  File \"/anaconda3/lib/python3.7/site-packages/pandas/io/parsers.py\", line 429, in _read\n",
      "    parser = TextFileReader(filepath_or_buffer, **kwds)\n",
      "  File \"/anaconda3/lib/python3.7/site-packages/pandas/io/parsers.py\", line 895, in __init__\n",
      "    self._make_engine(self.engine)\n",
      "  File \"/anaconda3/lib/python3.7/site-packages/pandas/io/parsers.py\", line 1122, in _make_engine\n",
      "    self._engine = CParserWrapper(self.f, **self.options)\n",
      "  File \"/anaconda3/lib/python3.7/site-packages/pandas/io/parsers.py\", line 1853, in __init__\n",
      "    self._reader = parsers.TextReader(src, **kwds)\n",
      "  File \"pandas/_libs/parsers.pyx\", line 387, in pandas._libs.parsers.TextReader.__cinit__\n",
      "    \n",
      "  File \"pandas/_libs/parsers.pyx\", line 705, in pandas._libs.parsers.TextReader._setup_parser_source\n",
      "    \n",
      "FileNotFoundError: [Errno 2] File b'static/articles_cluster3.csv' does not exist: b'static/articles_cluster3.csv'\n",
      "127.0.0.1 - - [11/Sep/2020 22:47:50] \"GET /readmore/3?__debugger__=yes&cmd=resource&f=style.css HTTP/1.1\" 200 -\n",
      "127.0.0.1 - - [11/Sep/2020 22:47:50] \"GET /readmore/3?__debugger__=yes&cmd=resource&f=debugger.js HTTP/1.1\" 200 -\n",
      "127.0.0.1 - - [11/Sep/2020 22:47:50] \"GET /readmore/3?__debugger__=yes&cmd=resource&f=jquery.js HTTP/1.1\" 200 -\n",
      "127.0.0.1 - - [11/Sep/2020 22:47:50] \"GET /readmore/3?__debugger__=yes&cmd=resource&f=ubuntu.ttf HTTP/1.1\" 200 -\n",
      "127.0.0.1 - - [11/Sep/2020 22:47:50] \"GET /readmore/3?__debugger__=yes&cmd=resource&f=console.png HTTP/1.1\" 200 -\n",
      "127.0.0.1 - - [11/Sep/2020 22:47:50] \"GET /readmore/3?__debugger__=yes&cmd=resource&f=console.png HTTP/1.1\" 200 -\n",
      " * Detected change in '/Users/silke/Documents/studiumDataScience/semester2/DSW/newsreader/html_pres/app.py', reloading\n",
      " * Restarting with stat\n",
      " * Debugger is active!\n",
      " * Debugger PIN: 255-048-271\n",
      "*******************\n",
      "static/articles_cluster0.csv\n",
      "*******************\n",
      "127.0.0.1 - - [11/Sep/2020 22:48:23] \"GET /readmore/0 HTTP/1.1\" 500 -\n",
      "Traceback (most recent call last):\n",
      "  File \"/anaconda3/lib/python3.7/site-packages/flask/app.py\", line 2328, in __call__\n",
      "    return self.wsgi_app(environ, start_response)\n",
      "  File \"/anaconda3/lib/python3.7/site-packages/flask/app.py\", line 2314, in wsgi_app\n",
      "    response = self.handle_exception(e)\n",
      "  File \"/anaconda3/lib/python3.7/site-packages/flask/app.py\", line 1760, in handle_exception\n",
      "    reraise(exc_type, exc_value, tb)\n",
      "  File \"/anaconda3/lib/python3.7/site-packages/flask/_compat.py\", line 36, in reraise\n",
      "    raise value\n",
      "  File \"/anaconda3/lib/python3.7/site-packages/flask/app.py\", line 2311, in wsgi_app\n",
      "    response = self.full_dispatch_request()\n",
      "  File \"/anaconda3/lib/python3.7/site-packages/flask/app.py\", line 1834, in full_dispatch_request\n",
      "    rv = self.handle_user_exception(e)\n",
      "  File \"/anaconda3/lib/python3.7/site-packages/flask/app.py\", line 1737, in handle_user_exception\n",
      "    reraise(exc_type, exc_value, tb)\n",
      "  File \"/anaconda3/lib/python3.7/site-packages/flask/_compat.py\", line 36, in reraise\n",
      "    raise value\n",
      "  File \"/anaconda3/lib/python3.7/site-packages/flask/app.py\", line 1832, in full_dispatch_request\n",
      "    rv = self.dispatch_request()\n",
      "  File \"/anaconda3/lib/python3.7/site-packages/flask/app.py\", line 1818, in dispatch_request\n",
      "    return self.view_functions[rule.endpoint](**req.view_args)\n",
      "  File \"/Users/silke/Documents/studiumDataScience/semester2/DSW/newsreader/html_pres/app.py\", line 48, in readmore\n",
      "    df = pd.read_csv(file, sep=\";\")\n",
      "  File \"/anaconda3/lib/python3.7/site-packages/pandas/io/parsers.py\", line 702, in parser_f\n",
      "    return _read(filepath_or_buffer, kwds)\n",
      "  File \"/anaconda3/lib/python3.7/site-packages/pandas/io/parsers.py\", line 429, in _read\n",
      "    parser = TextFileReader(filepath_or_buffer, **kwds)\n",
      "  File \"/anaconda3/lib/python3.7/site-packages/pandas/io/parsers.py\", line 895, in __init__\n",
      "    self._make_engine(self.engine)\n",
      "  File \"/anaconda3/lib/python3.7/site-packages/pandas/io/parsers.py\", line 1122, in _make_engine\n",
      "    self._engine = CParserWrapper(self.f, **self.options)\n",
      "  File \"/anaconda3/lib/python3.7/site-packages/pandas/io/parsers.py\", line 1853, in __init__\n",
      "    self._reader = parsers.TextReader(src, **kwds)\n",
      "  File \"pandas/_libs/parsers.pyx\", line 387, in pandas._libs.parsers.TextReader.__cinit__\n",
      "    \n",
      "  File \"pandas/_libs/parsers.pyx\", line 705, in pandas._libs.parsers.TextReader._setup_parser_source\n",
      "    \n",
      "FileNotFoundError: [Errno 2] File b'static/articles_cluster0.csv' does not exist: b'static/articles_cluster0.csv'\n",
      "127.0.0.1 - - [11/Sep/2020 22:48:23] \"GET /readmore/0?__debugger__=yes&cmd=resource&f=style.css HTTP/1.1\" 200 -\n",
      "127.0.0.1 - - [11/Sep/2020 22:48:23] \"GET /readmore/0?__debugger__=yes&cmd=resource&f=jquery.js HTTP/1.1\" 200 -\n",
      "127.0.0.1 - - [11/Sep/2020 22:48:23] \"GET /readmore/0?__debugger__=yes&cmd=resource&f=debugger.js HTTP/1.1\" 200 -\n",
      "127.0.0.1 - - [11/Sep/2020 22:48:23] \"GET /readmore/0?__debugger__=yes&cmd=resource&f=ubuntu.ttf HTTP/1.1\" 200 -\n",
      "127.0.0.1 - - [11/Sep/2020 22:48:23] \"GET /readmore/0?__debugger__=yes&cmd=resource&f=console.png HTTP/1.1\" 200 -\n",
      " * Detected change in '/Users/silke/Documents/studiumDataScience/semester2/DSW/newsreader/html_pres/app.py', reloading\n",
      " * Restarting with stat\n",
      " * Debugger is active!\n",
      " * Debugger PIN: 255-048-271\n",
      "*******************\n",
      "static/articles_cluster0.csv\n",
      "*******************\n",
      "127.0.0.1 - - [11/Sep/2020 22:50:01] \"GET /readmore/0 HTTP/1.1\" 500 -\n",
      "Traceback (most recent call last):\n",
      "  File \"/anaconda3/lib/python3.7/site-packages/flask/app.py\", line 2328, in __call__\n",
      "    return self.wsgi_app(environ, start_response)\n",
      "  File \"/anaconda3/lib/python3.7/site-packages/flask/app.py\", line 2314, in wsgi_app\n",
      "    response = self.handle_exception(e)\n",
      "  File \"/anaconda3/lib/python3.7/site-packages/flask/app.py\", line 1760, in handle_exception\n",
      "    reraise(exc_type, exc_value, tb)\n",
      "  File \"/anaconda3/lib/python3.7/site-packages/flask/_compat.py\", line 36, in reraise\n",
      "    raise value\n",
      "  File \"/anaconda3/lib/python3.7/site-packages/flask/app.py\", line 2311, in wsgi_app\n",
      "    response = self.full_dispatch_request()\n",
      "  File \"/anaconda3/lib/python3.7/site-packages/flask/app.py\", line 1834, in full_dispatch_request\n",
      "    rv = self.handle_user_exception(e)\n",
      "  File \"/anaconda3/lib/python3.7/site-packages/flask/app.py\", line 1737, in handle_user_exception\n",
      "    reraise(exc_type, exc_value, tb)\n",
      "  File \"/anaconda3/lib/python3.7/site-packages/flask/_compat.py\", line 36, in reraise\n",
      "    raise value\n",
      "  File \"/anaconda3/lib/python3.7/site-packages/flask/app.py\", line 1832, in full_dispatch_request\n",
      "    rv = self.dispatch_request()\n",
      "  File \"/anaconda3/lib/python3.7/site-packages/flask/app.py\", line 1818, in dispatch_request\n",
      "    return self.view_functions[rule.endpoint](**req.view_args)\n",
      "  File \"/Users/silke/Documents/studiumDataScience/semester2/DSW/newsreader/html_pres/app.py\", line 50, in readmore\n",
      "    df = pd.read_csv(file, sep=\";\")\n",
      "  File \"/anaconda3/lib/python3.7/site-packages/pandas/io/parsers.py\", line 702, in parser_f\n",
      "    return _read(filepath_or_buffer, kwds)\n",
      "  File \"/anaconda3/lib/python3.7/site-packages/pandas/io/parsers.py\", line 429, in _read\n",
      "    parser = TextFileReader(filepath_or_buffer, **kwds)\n",
      "  File \"/anaconda3/lib/python3.7/site-packages/pandas/io/parsers.py\", line 895, in __init__\n",
      "    self._make_engine(self.engine)\n",
      "  File \"/anaconda3/lib/python3.7/site-packages/pandas/io/parsers.py\", line 1122, in _make_engine\n",
      "    self._engine = CParserWrapper(self.f, **self.options)\n",
      "  File \"/anaconda3/lib/python3.7/site-packages/pandas/io/parsers.py\", line 1853, in __init__\n",
      "    self._reader = parsers.TextReader(src, **kwds)\n",
      "  File \"pandas/_libs/parsers.pyx\", line 387, in pandas._libs.parsers.TextReader.__cinit__\n",
      "    \n",
      "  File \"pandas/_libs/parsers.pyx\", line 705, in pandas._libs.parsers.TextReader._setup_parser_source\n",
      "    \n",
      "FileNotFoundError: [Errno 2] File b'static/articles_cluster0.csv' does not exist: b'static/articles_cluster0.csv'\n"
     ]
    },
    {
     "name": "stdout",
     "output_type": "stream",
     "text": [
      "127.0.0.1 - - [11/Sep/2020 22:50:01] \"GET /readmore/0?__debugger__=yes&cmd=resource&f=style.css HTTP/1.1\" 200 -\n",
      "127.0.0.1 - - [11/Sep/2020 22:50:01] \"GET /readmore/0?__debugger__=yes&cmd=resource&f=debugger.js HTTP/1.1\" 200 -\n",
      "127.0.0.1 - - [11/Sep/2020 22:50:01] \"GET /readmore/0?__debugger__=yes&cmd=resource&f=jquery.js HTTP/1.1\" 200 -\n",
      "127.0.0.1 - - [11/Sep/2020 22:50:01] \"GET /readmore/0?__debugger__=yes&cmd=resource&f=console.png HTTP/1.1\" 200 -\n",
      "127.0.0.1 - - [11/Sep/2020 22:50:01] \"GET /readmore/0?__debugger__=yes&cmd=resource&f=ubuntu.ttf HTTP/1.1\" 200 -\n",
      " * Detected change in '/Users/silke/Documents/studiumDataScience/semester2/DSW/newsreader/html_pres/app.py', reloading\n",
      " * Restarting with stat\n",
      " * Debugger is active!\n",
      " * Debugger PIN: 255-048-271\n",
      " * Detected change in '/Users/silke/Documents/studiumDataScience/semester2/DSW/newsreader/html_pres/app.py', reloading\n",
      " * Restarting with stat\n",
      " * Debugger is active!\n",
      " * Debugger PIN: 255-048-271\n",
      "*******************\n",
      "static/articles_cluster2.csv\n",
      "file not found\n",
      "*******************\n",
      "127.0.0.1 - - [11/Sep/2020 22:51:00] \"GET /readmore/2 HTTP/1.1\" 500 -\n",
      "Traceback (most recent call last):\n",
      "  File \"/anaconda3/lib/python3.7/site-packages/flask/app.py\", line 2328, in __call__\n",
      "    return self.wsgi_app(environ, start_response)\n",
      "  File \"/anaconda3/lib/python3.7/site-packages/flask/app.py\", line 2314, in wsgi_app\n",
      "    response = self.handle_exception(e)\n",
      "  File \"/anaconda3/lib/python3.7/site-packages/flask/app.py\", line 1760, in handle_exception\n",
      "    reraise(exc_type, exc_value, tb)\n",
      "  File \"/anaconda3/lib/python3.7/site-packages/flask/_compat.py\", line 36, in reraise\n",
      "    raise value\n",
      "  File \"/anaconda3/lib/python3.7/site-packages/flask/app.py\", line 2311, in wsgi_app\n",
      "    response = self.full_dispatch_request()\n",
      "  File \"/anaconda3/lib/python3.7/site-packages/flask/app.py\", line 1834, in full_dispatch_request\n",
      "    rv = self.handle_user_exception(e)\n",
      "  File \"/anaconda3/lib/python3.7/site-packages/flask/app.py\", line 1737, in handle_user_exception\n",
      "    reraise(exc_type, exc_value, tb)\n",
      "  File \"/anaconda3/lib/python3.7/site-packages/flask/_compat.py\", line 36, in reraise\n",
      "    raise value\n",
      "  File \"/anaconda3/lib/python3.7/site-packages/flask/app.py\", line 1832, in full_dispatch_request\n",
      "    rv = self.dispatch_request()\n",
      "  File \"/anaconda3/lib/python3.7/site-packages/flask/app.py\", line 1818, in dispatch_request\n",
      "    return self.view_functions[rule.endpoint](**req.view_args)\n",
      "  File \"/Users/silke/Documents/studiumDataScience/semester2/DSW/newsreader/html_pres/app.py\", line 52, in readmore\n",
      "    df = pd.read_csv(file, sep=\";\")\n",
      "  File \"/anaconda3/lib/python3.7/site-packages/pandas/io/parsers.py\", line 702, in parser_f\n",
      "    return _read(filepath_or_buffer, kwds)\n",
      "  File \"/anaconda3/lib/python3.7/site-packages/pandas/io/parsers.py\", line 429, in _read\n",
      "    parser = TextFileReader(filepath_or_buffer, **kwds)\n",
      "  File \"/anaconda3/lib/python3.7/site-packages/pandas/io/parsers.py\", line 895, in __init__\n",
      "    self._make_engine(self.engine)\n",
      "  File \"/anaconda3/lib/python3.7/site-packages/pandas/io/parsers.py\", line 1122, in _make_engine\n",
      "    self._engine = CParserWrapper(self.f, **self.options)\n",
      "  File \"/anaconda3/lib/python3.7/site-packages/pandas/io/parsers.py\", line 1853, in __init__\n",
      "    self._reader = parsers.TextReader(src, **kwds)\n",
      "  File \"pandas/_libs/parsers.pyx\", line 387, in pandas._libs.parsers.TextReader.__cinit__\n",
      "    \n",
      "  File \"pandas/_libs/parsers.pyx\", line 705, in pandas._libs.parsers.TextReader._setup_parser_source\n",
      "    \n",
      "FileNotFoundError: [Errno 2] File b'static/articles_cluster2.csv' does not exist: b'static/articles_cluster2.csv'\n",
      "127.0.0.1 - - [11/Sep/2020 22:51:00] \"GET /readmore/2?__debugger__=yes&cmd=resource&f=style.css HTTP/1.1\" 200 -\n",
      "127.0.0.1 - - [11/Sep/2020 22:51:00] \"GET /readmore/2?__debugger__=yes&cmd=resource&f=jquery.js HTTP/1.1\" 200 -\n",
      "127.0.0.1 - - [11/Sep/2020 22:51:00] \"GET /readmore/2?__debugger__=yes&cmd=resource&f=debugger.js HTTP/1.1\" 200 -\n",
      "127.0.0.1 - - [11/Sep/2020 22:51:00] \"GET /readmore/2?__debugger__=yes&cmd=resource&f=console.png HTTP/1.1\" 200 -\n",
      "127.0.0.1 - - [11/Sep/2020 22:51:00] \"GET /readmore/2?__debugger__=yes&cmd=resource&f=ubuntu.ttf HTTP/1.1\" 200 -\n",
      "127.0.0.1 - - [11/Sep/2020 22:51:00] \"GET /readmore/2?__debugger__=yes&cmd=resource&f=console.png HTTP/1.1\" 200 -\n",
      " * Detected change in '/Users/silke/Documents/studiumDataScience/semester2/DSW/newsreader/html_pres/app.py', reloading\n",
      " * Restarting with stat\n",
      " * Debugger is active!\n",
      " * Debugger PIN: 255-048-271\n",
      "*******************\n",
      "static/articles_cluster2.csv\n",
      "127.0.0.1 - - [11/Sep/2020 22:52:24] \"GET /readmore/2 HTTP/1.1\" 500 -\n",
      "Traceback (most recent call last):\n",
      "  File \"/anaconda3/lib/python3.7/site-packages/flask/app.py\", line 2328, in __call__\n",
      "    return self.wsgi_app(environ, start_response)\n",
      "  File \"/anaconda3/lib/python3.7/site-packages/flask/app.py\", line 2314, in wsgi_app\n",
      "    response = self.handle_exception(e)\n",
      "  File \"/anaconda3/lib/python3.7/site-packages/flask/app.py\", line 1760, in handle_exception\n",
      "    reraise(exc_type, exc_value, tb)\n",
      "  File \"/anaconda3/lib/python3.7/site-packages/flask/_compat.py\", line 36, in reraise\n",
      "    raise value\n",
      "  File \"/anaconda3/lib/python3.7/site-packages/flask/app.py\", line 2311, in wsgi_app\n",
      "    response = self.full_dispatch_request()\n",
      "  File \"/anaconda3/lib/python3.7/site-packages/flask/app.py\", line 1834, in full_dispatch_request\n",
      "    rv = self.handle_user_exception(e)\n",
      "  File \"/anaconda3/lib/python3.7/site-packages/flask/app.py\", line 1737, in handle_user_exception\n",
      "    reraise(exc_type, exc_value, tb)\n",
      "  File \"/anaconda3/lib/python3.7/site-packages/flask/_compat.py\", line 36, in reraise\n",
      "    raise value\n",
      "  File \"/anaconda3/lib/python3.7/site-packages/flask/app.py\", line 1832, in full_dispatch_request\n",
      "    rv = self.dispatch_request()\n",
      "  File \"/anaconda3/lib/python3.7/site-packages/flask/app.py\", line 1818, in dispatch_request\n",
      "    return self.view_functions[rule.endpoint](**req.view_args)\n",
      "  File \"/Users/silke/Documents/studiumDataScience/semester2/DSW/newsreader/html_pres/app.py\", line 50, in readmore\n",
      "    print(os.path.getcwd())\n",
      "AttributeError: module 'posixpath' has no attribute 'getcwd'\n",
      "127.0.0.1 - - [11/Sep/2020 22:52:24] \"GET /readmore/2?__debugger__=yes&cmd=resource&f=style.css HTTP/1.1\" 200 -\n",
      "127.0.0.1 - - [11/Sep/2020 22:52:24] \"GET /readmore/2?__debugger__=yes&cmd=resource&f=jquery.js HTTP/1.1\" 200 -\n",
      "127.0.0.1 - - [11/Sep/2020 22:52:24] \"GET /readmore/2?__debugger__=yes&cmd=resource&f=debugger.js HTTP/1.1\" 200 -\n",
      "127.0.0.1 - - [11/Sep/2020 22:52:24] \"GET /readmore/2?__debugger__=yes&cmd=resource&f=ubuntu.ttf HTTP/1.1\" 200 -\n",
      "127.0.0.1 - - [11/Sep/2020 22:52:24] \"GET /readmore/2?__debugger__=yes&cmd=resource&f=console.png HTTP/1.1\" 200 -\n",
      " * Detected change in '/Users/silke/Documents/studiumDataScience/semester2/DSW/newsreader/html_pres/app.py', reloading\n",
      " * Restarting with stat\n",
      " * Debugger is active!\n",
      " * Debugger PIN: 255-048-271\n",
      "*******************\n",
      "static/articles_cluster0.csv\n",
      "/Users/silke/Documents/studiumDataScience/semester2/DSW/newsreader\n",
      "*******************\n",
      "127.0.0.1 - - [11/Sep/2020 22:52:54] \"GET /readmore/0 HTTP/1.1\" 500 -\n",
      "Traceback (most recent call last):\n",
      "  File \"/anaconda3/lib/python3.7/site-packages/flask/app.py\", line 2328, in __call__\n",
      "    return self.wsgi_app(environ, start_response)\n",
      "  File \"/anaconda3/lib/python3.7/site-packages/flask/app.py\", line 2314, in wsgi_app\n",
      "    response = self.handle_exception(e)\n",
      "  File \"/anaconda3/lib/python3.7/site-packages/flask/app.py\", line 1760, in handle_exception\n",
      "    reraise(exc_type, exc_value, tb)\n",
      "  File \"/anaconda3/lib/python3.7/site-packages/flask/_compat.py\", line 36, in reraise\n",
      "    raise value\n",
      "  File \"/anaconda3/lib/python3.7/site-packages/flask/app.py\", line 2311, in wsgi_app\n",
      "    response = self.full_dispatch_request()\n",
      "  File \"/anaconda3/lib/python3.7/site-packages/flask/app.py\", line 1834, in full_dispatch_request\n",
      "    rv = self.handle_user_exception(e)\n",
      "  File \"/anaconda3/lib/python3.7/site-packages/flask/app.py\", line 1737, in handle_user_exception\n",
      "    reraise(exc_type, exc_value, tb)\n",
      "  File \"/anaconda3/lib/python3.7/site-packages/flask/_compat.py\", line 36, in reraise\n",
      "    raise value\n",
      "  File \"/anaconda3/lib/python3.7/site-packages/flask/app.py\", line 1832, in full_dispatch_request\n",
      "    rv = self.dispatch_request()\n",
      "  File \"/anaconda3/lib/python3.7/site-packages/flask/app.py\", line 1818, in dispatch_request\n",
      "    return self.view_functions[rule.endpoint](**req.view_args)\n",
      "  File \"/Users/silke/Documents/studiumDataScience/semester2/DSW/newsreader/html_pres/app.py\", line 52, in readmore\n",
      "    df = pd.read_csv(file, sep=\";\")\n",
      "  File \"/anaconda3/lib/python3.7/site-packages/pandas/io/parsers.py\", line 702, in parser_f\n",
      "    return _read(filepath_or_buffer, kwds)\n",
      "  File \"/anaconda3/lib/python3.7/site-packages/pandas/io/parsers.py\", line 429, in _read\n",
      "    parser = TextFileReader(filepath_or_buffer, **kwds)\n",
      "  File \"/anaconda3/lib/python3.7/site-packages/pandas/io/parsers.py\", line 895, in __init__\n",
      "    self._make_engine(self.engine)\n",
      "  File \"/anaconda3/lib/python3.7/site-packages/pandas/io/parsers.py\", line 1122, in _make_engine\n",
      "    self._engine = CParserWrapper(self.f, **self.options)\n",
      "  File \"/anaconda3/lib/python3.7/site-packages/pandas/io/parsers.py\", line 1853, in __init__\n",
      "    self._reader = parsers.TextReader(src, **kwds)\n",
      "  File \"pandas/_libs/parsers.pyx\", line 387, in pandas._libs.parsers.TextReader.__cinit__\n",
      "    \n",
      "  File \"pandas/_libs/parsers.pyx\", line 705, in pandas._libs.parsers.TextReader._setup_parser_source\n",
      "    \n",
      "FileNotFoundError: [Errno 2] File b'static/articles_cluster0.csv' does not exist: b'static/articles_cluster0.csv'\n"
     ]
    },
    {
     "name": "stdout",
     "output_type": "stream",
     "text": [
      "127.0.0.1 - - [11/Sep/2020 22:52:54] \"GET /readmore/0?__debugger__=yes&cmd=resource&f=style.css HTTP/1.1\" 200 -\n",
      "127.0.0.1 - - [11/Sep/2020 22:52:54] \"GET /readmore/0?__debugger__=yes&cmd=resource&f=jquery.js HTTP/1.1\" 200 -\n",
      "127.0.0.1 - - [11/Sep/2020 22:52:54] \"GET /readmore/0?__debugger__=yes&cmd=resource&f=debugger.js HTTP/1.1\" 200 -\n",
      "127.0.0.1 - - [11/Sep/2020 22:52:54] \"GET /readmore/0?__debugger__=yes&cmd=resource&f=ubuntu.ttf HTTP/1.1\" 200 -\n",
      "127.0.0.1 - - [11/Sep/2020 22:52:54] \"GET /readmore/0?__debugger__=yes&cmd=resource&f=console.png HTTP/1.1\" 200 -\n",
      " * Detected change in '/Users/silke/Documents/studiumDataScience/semester2/DSW/newsreader/html_pres/app.py', reloading\n",
      " * Restarting with stat\n",
      " * Debugger is active!\n",
      " * Debugger PIN: 255-048-271\n",
      "*******************\n",
      "./static/articles_cluster2.csv\n",
      "/Users/silke/Documents/studiumDataScience/semester2/DSW/newsreader\n",
      "*******************\n",
      "127.0.0.1 - - [11/Sep/2020 22:54:28] \"GET /readmore/2 HTTP/1.1\" 500 -\n",
      "Traceback (most recent call last):\n",
      "  File \"/anaconda3/lib/python3.7/site-packages/flask/app.py\", line 2328, in __call__\n",
      "    return self.wsgi_app(environ, start_response)\n",
      "  File \"/anaconda3/lib/python3.7/site-packages/flask/app.py\", line 2314, in wsgi_app\n",
      "    response = self.handle_exception(e)\n",
      "  File \"/anaconda3/lib/python3.7/site-packages/flask/app.py\", line 1760, in handle_exception\n",
      "    reraise(exc_type, exc_value, tb)\n",
      "  File \"/anaconda3/lib/python3.7/site-packages/flask/_compat.py\", line 36, in reraise\n",
      "    raise value\n",
      "  File \"/anaconda3/lib/python3.7/site-packages/flask/app.py\", line 2311, in wsgi_app\n",
      "    response = self.full_dispatch_request()\n",
      "  File \"/anaconda3/lib/python3.7/site-packages/flask/app.py\", line 1834, in full_dispatch_request\n",
      "    rv = self.handle_user_exception(e)\n",
      "  File \"/anaconda3/lib/python3.7/site-packages/flask/app.py\", line 1737, in handle_user_exception\n",
      "    reraise(exc_type, exc_value, tb)\n",
      "  File \"/anaconda3/lib/python3.7/site-packages/flask/_compat.py\", line 36, in reraise\n",
      "    raise value\n",
      "  File \"/anaconda3/lib/python3.7/site-packages/flask/app.py\", line 1832, in full_dispatch_request\n",
      "    rv = self.dispatch_request()\n",
      "  File \"/anaconda3/lib/python3.7/site-packages/flask/app.py\", line 1818, in dispatch_request\n",
      "    return self.view_functions[rule.endpoint](**req.view_args)\n",
      "  File \"/Users/silke/Documents/studiumDataScience/semester2/DSW/newsreader/html_pres/app.py\", line 52, in readmore\n",
      "    df = pd.read_csv(file, sep=\";\")\n",
      "  File \"/anaconda3/lib/python3.7/site-packages/pandas/io/parsers.py\", line 702, in parser_f\n",
      "    return _read(filepath_or_buffer, kwds)\n",
      "  File \"/anaconda3/lib/python3.7/site-packages/pandas/io/parsers.py\", line 429, in _read\n",
      "    parser = TextFileReader(filepath_or_buffer, **kwds)\n",
      "  File \"/anaconda3/lib/python3.7/site-packages/pandas/io/parsers.py\", line 895, in __init__\n",
      "    self._make_engine(self.engine)\n",
      "  File \"/anaconda3/lib/python3.7/site-packages/pandas/io/parsers.py\", line 1122, in _make_engine\n",
      "    self._engine = CParserWrapper(self.f, **self.options)\n",
      "  File \"/anaconda3/lib/python3.7/site-packages/pandas/io/parsers.py\", line 1853, in __init__\n",
      "    self._reader = parsers.TextReader(src, **kwds)\n",
      "  File \"pandas/_libs/parsers.pyx\", line 387, in pandas._libs.parsers.TextReader.__cinit__\n",
      "    \n",
      "  File \"pandas/_libs/parsers.pyx\", line 705, in pandas._libs.parsers.TextReader._setup_parser_source\n",
      "    \n",
      "FileNotFoundError: [Errno 2] File b'./static/articles_cluster2.csv' does not exist: b'./static/articles_cluster2.csv'\n",
      "127.0.0.1 - - [11/Sep/2020 22:54:28] \"GET /readmore/2?__debugger__=yes&cmd=resource&f=style.css HTTP/1.1\" 200 -\n",
      "127.0.0.1 - - [11/Sep/2020 22:54:28] \"GET /readmore/2?__debugger__=yes&cmd=resource&f=jquery.js HTTP/1.1\" 200 -\n",
      "127.0.0.1 - - [11/Sep/2020 22:54:28] \"GET /readmore/2?__debugger__=yes&cmd=resource&f=debugger.js HTTP/1.1\" 200 -\n",
      "127.0.0.1 - - [11/Sep/2020 22:54:28] \"GET /readmore/2?__debugger__=yes&cmd=resource&f=console.png HTTP/1.1\" 200 -\n",
      "127.0.0.1 - - [11/Sep/2020 22:54:28] \"GET /readmore/2?__debugger__=yes&cmd=resource&f=ubuntu.ttf HTTP/1.1\" 200 -\n",
      " * Detected change in '/Users/silke/Documents/studiumDataScience/semester2/DSW/newsreader/html_pres/app.py', reloading\n",
      " * Restarting with stat\n",
      " * Debugger is active!\n",
      " * Debugger PIN: 255-048-271\n",
      "*******************\n",
      "html_pres/static/articles_cluster2.csv\n",
      "File exist\n",
      "*******************\n",
      "*******************\n",
      "Unnamed: 0                                                     0\n",
      "file                                articles_02/01417-clean.json\n",
      "file_name                                                   1417\n",
      "title          Scheel rechnet mit baldiger Entscheidung über ...\n",
      "text           Berlins Stadtentwicklungssenator Sebastian Sch...\n",
      "description    Seit mehr als einem Jahr steht die Initiative ...\n",
      "date                                   2020-09-11 09:16:28+02:00\n",
      "image          https://www.tagesspiegel.de/images/deutsche-wo...\n",
      "cluster                                                        2\n",
      "Name: 0, dtype: object\n",
      "*******************\n",
      "127.0.0.1 - - [11/Sep/2020 22:55:22] \"GET /readmore/2 HTTP/1.1\" 200 -\n",
      "127.0.0.1 - - [11/Sep/2020 22:57:47] \"GET /article/1414 HTTP/1.1\" 500 -\n",
      "Traceback (most recent call last):\n",
      "  File \"/anaconda3/lib/python3.7/site-packages/flask/app.py\", line 2328, in __call__\n",
      "    return self.wsgi_app(environ, start_response)\n",
      "  File \"/anaconda3/lib/python3.7/site-packages/flask/app.py\", line 2314, in wsgi_app\n",
      "    response = self.handle_exception(e)\n",
      "  File \"/anaconda3/lib/python3.7/site-packages/flask/app.py\", line 1760, in handle_exception\n",
      "    reraise(exc_type, exc_value, tb)\n",
      "  File \"/anaconda3/lib/python3.7/site-packages/flask/_compat.py\", line 36, in reraise\n",
      "    raise value\n",
      "  File \"/anaconda3/lib/python3.7/site-packages/flask/app.py\", line 2311, in wsgi_app\n",
      "    response = self.full_dispatch_request()\n",
      "  File \"/anaconda3/lib/python3.7/site-packages/flask/app.py\", line 1834, in full_dispatch_request\n",
      "    rv = self.handle_user_exception(e)\n",
      "  File \"/anaconda3/lib/python3.7/site-packages/flask/app.py\", line 1737, in handle_user_exception\n",
      "    reraise(exc_type, exc_value, tb)\n",
      "  File \"/anaconda3/lib/python3.7/site-packages/flask/_compat.py\", line 36, in reraise\n",
      "    raise value\n",
      "  File \"/anaconda3/lib/python3.7/site-packages/flask/app.py\", line 1832, in full_dispatch_request\n",
      "    rv = self.dispatch_request()\n",
      "  File \"/anaconda3/lib/python3.7/site-packages/flask/app.py\", line 1818, in dispatch_request\n",
      "    return self.view_functions[rule.endpoint](**req.view_args)\n",
      "  File \"/Users/silke/Documents/studiumDataScience/semester2/DSW/newsreader/html_pres/app.py\", line 21, in article\n",
      "    with open( fn1 , 'r') as myfile:\n",
      "FileNotFoundError: [Errno 2] No such file or directory: '../tagesspiegel_02/01414-clean.json'\n",
      "127.0.0.1 - - [11/Sep/2020 22:57:47] \"GET /article/1414?__debugger__=yes&cmd=resource&f=style.css HTTP/1.1\" 200 -\n",
      "127.0.0.1 - - [11/Sep/2020 22:57:47] \"GET /article/1414?__debugger__=yes&cmd=resource&f=debugger.js HTTP/1.1\" 200 -\n",
      "127.0.0.1 - - [11/Sep/2020 22:57:47] \"GET /article/1414?__debugger__=yes&cmd=resource&f=jquery.js HTTP/1.1\" 200 -\n",
      "127.0.0.1 - - [11/Sep/2020 22:57:47] \"GET /article/1414?__debugger__=yes&cmd=resource&f=ubuntu.ttf HTTP/1.1\" 200 -\n",
      "127.0.0.1 - - [11/Sep/2020 22:57:47] \"GET /article/1414?__debugger__=yes&cmd=resource&f=console.png HTTP/1.1\" 200 -\n",
      "127.0.0.1 - - [11/Sep/2020 22:57:48] \"GET /article/1414?__debugger__=yes&cmd=resource&f=console.png HTTP/1.1\" 200 -\n",
      " * Detected change in '/Users/silke/Documents/studiumDataScience/semester2/DSW/newsreader/html_pres/app.py', reloading\n",
      " * Restarting with stat\n",
      " * Debugger is active!\n",
      " * Debugger PIN: 255-048-271\n",
      " * Detected change in '/Users/silke/Documents/studiumDataScience/semester2/DSW/newsreader/html_pres/app.py', reloading\n",
      " * Restarting with stat\n",
      " * Debugger is active!\n",
      " * Debugger PIN: 255-048-271\n",
      " * Detected change in '/Users/silke/Documents/studiumDataScience/semester2/DSW/newsreader/html_pres/app.py', reloading\n",
      " * Restarting with stat\n",
      " * Debugger is active!\n",
      " * Debugger PIN: 255-048-271\n",
      "127.0.0.1 - - [11/Sep/2020 23:02:46] \"GET /readmore/2 HTTP/1.1\" 200 -\n",
      "127.0.0.1 - - [11/Sep/2020 23:02:53] \"GET /article/1414 HTTP/1.1\" 200 -\n",
      "127.0.0.1 - - [11/Sep/2020 23:02:53] \"GET /static/01414.mp3 HTTP/1.1\" 404 -\n",
      " * Detected change in '/Users/silke/Documents/studiumDataScience/semester2/DSW/newsreader/html_pres/app.py', reloading\n"
     ]
    },
    {
     "name": "stdout",
     "output_type": "stream",
     "text": [
      " * Restarting with stat\n",
      " * Debugger is active!\n",
      " * Debugger PIN: 255-048-271\n",
      "127.0.0.1 - - [11/Sep/2020 23:03:53] \"GET /article/1414 HTTP/1.1\" 200 -\n",
      "127.0.0.1 - - [11/Sep/2020 23:03:53] \"GET /static/01414.mp3 HTTP/1.1\" 200 -\n",
      "127.0.0.1 - - [11/Sep/2020 23:04:17] \"GET /article/1417 HTTP/1.1\" 200 -\n",
      "127.0.0.1 - - [11/Sep/2020 23:04:19] \"GET /static/01417.mp3 HTTP/1.1\" 206 -\n",
      "127.0.0.1 - - [11/Sep/2020 23:04:19] \"GET /static/01417.mp3 HTTP/1.1\" 206 -\n",
      "127.0.0.1 - - [11/Sep/2020 23:04:19] \"GET /static/01417.mp3 HTTP/1.1\" 206 -\n",
      "127.0.0.1 - - [11/Sep/2020 23:05:12] \"GET /article/1417 HTTP/1.1\" 200 -\n",
      "127.0.0.1 - - [11/Sep/2020 23:05:18] \"GET /article/1417 HTTP/1.1\" 200 -\n",
      "127.0.0.1 - - [11/Sep/2020 23:05:19] \"GET /static/01417.mp3 HTTP/1.1\" 206 -\n",
      "127.0.0.1 - - [11/Sep/2020 23:05:19] \"GET /static/01417.mp3 HTTP/1.1\" 206 -\n",
      "127.0.0.1 - - [11/Sep/2020 23:05:19] \"GET /static/01417.mp3 HTTP/1.1\" 206 -\n",
      " * Detected change in '/Users/silke/Documents/studiumDataScience/semester2/DSW/newsreader/html_pres/app.py', reloading\n",
      " * Restarting with stat\n",
      " * Debugger is active!\n",
      " * Debugger PIN: 255-048-271\n",
      "File exist\n",
      "127.0.0.1 - - [11/Sep/2020 23:07:31] \"GET /article/1417 HTTP/1.1\" 200 -\n",
      "127.0.0.1 - - [11/Sep/2020 23:07:32] \"GET /static/01417.mp3 HTTP/1.1\" 206 -\n",
      "127.0.0.1 - - [11/Sep/2020 23:07:32] \"GET /static/01417.mp3 HTTP/1.1\" 206 -\n",
      "127.0.0.1 - - [11/Sep/2020 23:07:32] \"GET /static/01417.mp3 HTTP/1.1\" 206 -\n",
      "File exist\n",
      "127.0.0.1 - - [11/Sep/2020 23:07:39] \"GET /article/1420 HTTP/1.1\" 200 -\n",
      "127.0.0.1 - - [11/Sep/2020 23:07:40] \"GET /static/01420.mp3 HTTP/1.1\" 206 -\n",
      "127.0.0.1 - - [11/Sep/2020 23:07:40] \"GET /static/01420.mp3 HTTP/1.1\" 206 -\n",
      "127.0.0.1 - - [11/Sep/2020 23:07:41] \"GET /static/01420.mp3 HTTP/1.1\" 206 -\n",
      "127.0.0.1 - - [11/Sep/2020 23:07:41] \"GET /favicon.ico HTTP/1.1\" 404 -\n",
      "127.0.0.1 - - [11/Sep/2020 23:07:49] \"GET /article/1420 HTTP/1.1\" 200 -\n",
      "127.0.0.1 - - [11/Sep/2020 23:07:51] \"GET /article/1442 HTTP/1.1\" 200 -\n",
      "127.0.0.1 - - [11/Sep/2020 23:07:51] \"GET /static/01442.mp3 HTTP/1.1\" 206 -\n",
      "127.0.0.1 - - [11/Sep/2020 23:07:51] \"GET /static/01442.mp3 HTTP/1.1\" 206 -\n",
      "127.0.0.1 - - [11/Sep/2020 23:07:51] \"GET /static/01442.mp3 HTTP/1.1\" 206 -\n",
      "127.0.0.1 - - [11/Sep/2020 23:07:51] \"GET /favicon.ico HTTP/1.1\" 404 -\n",
      "127.0.0.1 - - [11/Sep/2020 23:08:39] \"GET /readmore/2 HTTP/1.1\" 200 -\n",
      "127.0.0.1 - - [11/Sep/2020 23:08:41] \"GET /favicon.ico HTTP/1.1\" 404 -\n",
      "127.0.0.1 - - [11/Sep/2020 23:08:45] \"GET /readmore/0 HTTP/1.1\" 200 -\n",
      "127.0.0.1 - - [11/Sep/2020 23:09:16] \"GET /readmore/4 HTTP/1.1\" 200 -\n",
      "127.0.0.1 - - [11/Sep/2020 23:09:51] \"GET /favicon.ico HTTP/1.1\" 404 -\n",
      "127.0.0.1 - - [11/Sep/2020 23:10:37] \"GET /readmore/0 HTTP/1.1\" 200 -\n",
      "127.0.0.1 - - [11/Sep/2020 23:10:43] \"GET /readmore/2 HTTP/1.1\" 200 -\n",
      "127.0.0.1 - - [11/Sep/2020 23:10:52] \"GET / HTTP/1.1\" 200 -\n",
      "File exist\n",
      "127.0.0.1 - - [11/Sep/2020 23:15:09] \"GET /article/1414 HTTP/1.1\" 200 -\n",
      "127.0.0.1 - - [11/Sep/2020 23:15:09] \"GET /static/01414.mp3 HTTP/1.1\" 200 -\n",
      "127.0.0.1 - - [11/Sep/2020 23:15:17] \"GET /readmore/2 HTTP/1.1\" 200 -\n",
      "127.0.0.1 - - [11/Sep/2020 23:16:28] \"GET /readmore/2 HTTP/1.1\" 200 -\n",
      "127.0.0.1 - - [11/Sep/2020 23:20:42] \"GET /readmore/0 HTTP/1.1\" 200 -\n",
      "127.0.0.1 - - [11/Sep/2020 23:20:50] \"GET /article/1412 HTTP/1.1\" 200 -\n",
      "127.0.0.1 - - [11/Sep/2020 23:20:51] \"GET /static/01412.mp3 HTTP/1.1\" 206 -\n",
      "127.0.0.1 - - [11/Sep/2020 23:20:51] \"GET /static/01412.mp3 HTTP/1.1\" 206 -\n",
      "127.0.0.1 - - [11/Sep/2020 23:20:51] \"GET /static/01412.mp3 HTTP/1.1\" 206 -\n",
      "127.0.0.1 - - [11/Sep/2020 23:20:51] \"GET /favicon.ico HTTP/1.1\" 404 -\n",
      "File exist\n",
      "127.0.0.1 - - [11/Sep/2020 23:24:51] \"GET /article/1412 HTTP/1.1\" 200 -\n",
      "127.0.0.1 - - [11/Sep/2020 23:24:53] \"GET /static/01412.mp3 HTTP/1.1\" 206 -\n",
      "127.0.0.1 - - [11/Sep/2020 23:24:53] \"GET /static/01412.mp3 HTTP/1.1\" 206 -\n",
      "127.0.0.1 - - [11/Sep/2020 23:24:53] \"GET /static/01412.mp3 HTTP/1.1\" 206 -\n",
      "File exist\n",
      "127.0.0.1 - - [11/Sep/2020 23:25:03] \"GET /article/1412 HTTP/1.1\" 200 -\n",
      "127.0.0.1 - - [11/Sep/2020 23:25:03] \"GET /static/01412.mp3 HTTP/1.1\" 206 -\n",
      "127.0.0.1 - - [11/Sep/2020 23:25:03] \"GET /static/01412.mp3 HTTP/1.1\" 206 -\n",
      "127.0.0.1 - - [11/Sep/2020 23:25:03] \"GET /static/01412.mp3 HTTP/1.1\" 206 -\n",
      "File exist\n",
      "127.0.0.1 - - [11/Sep/2020 23:26:27] \"GET /article/1412 HTTP/1.1\" 200 -\n",
      "127.0.0.1 - - [11/Sep/2020 23:26:29] \"GET /static/01412.mp3 HTTP/1.1\" 206 -\n",
      "127.0.0.1 - - [11/Sep/2020 23:26:29] \"GET /static/01412.mp3 HTTP/1.1\" 206 -\n",
      "127.0.0.1 - - [11/Sep/2020 23:26:29] \"GET /static/01412.mp3 HTTP/1.1\" 206 -\n",
      "^C\n"
     ]
    }
   ],
   "source": [
    "!python html_pres/app.py"
   ]
  },
  {
   "cell_type": "code",
   "execution_count": null,
   "metadata": {},
   "outputs": [],
   "source": []
  }
 ],
 "metadata": {
  "kernelspec": {
   "display_name": "Python 3",
   "language": "python",
   "name": "python3"
  },
  "language_info": {
   "codemirror_mode": {
    "name": "ipython",
    "version": 3
   },
   "file_extension": ".py",
   "mimetype": "text/x-python",
   "name": "python",
   "nbconvert_exporter": "python",
   "pygments_lexer": "ipython3",
   "version": "3.7.3"
  }
 },
 "nbformat": 4,
 "nbformat_minor": 2
}
