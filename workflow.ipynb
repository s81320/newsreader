{
 "cells": [
  {
   "cell_type": "markdown",
   "metadata": {},
   "source": [
    "# overall workflow"
   ]
  },
  {
   "cell_type": "markdown",
   "metadata": {},
   "source": [
    "## data acquisition\n",
    "We scrape data from Tagesspiegel, a Berlin based newspaper covering local, national and international topics."
   ]
  },
  {
   "cell_type": "code",
   "execution_count": 256,
   "metadata": {},
   "outputs": [],
   "source": [
    "from datetime import date\n",
    "from data_acquisition import scrape_tsp as st"
   ]
  },
  {
   "cell_type": "code",
   "execution_count": 257,
   "metadata": {},
   "outputs": [
    {
     "data": {
      "text/plain": [
       "'2020-09-07'"
      ]
     },
     "execution_count": 257,
     "metadata": {},
     "output_type": "execute_result"
    }
   ],
   "source": [
    "str(date.today())"
   ]
  },
  {
   "cell_type": "code",
   "execution_count": 258,
   "metadata": {},
   "outputs": [
    {
     "name": "stdout",
     "output_type": "stream",
     "text": [
      "<Response [200]>\n"
     ]
    },
    {
     "data": {
      "text/plain": [
       "'wrote 158 links to data_acquisition/links-tsp-2020-09-07.txt'"
      ]
     },
     "execution_count": 258,
     "metadata": {},
     "output_type": "execute_result"
    }
   ],
   "source": [
    "st.get_links()"
   ]
  },
  {
   "cell_type": "code",
   "execution_count": 15,
   "metadata": {},
   "outputs": [],
   "source": []
  },
  {
   "cell_type": "code",
   "execution_count": 259,
   "metadata": {},
   "outputs": [],
   "source": [
    "scraped_file = 'data_acquisition/links-tsp-' + str(date.today()) + '.txt'\n",
    "st.select_new_links(scraped_file)"
   ]
  },
  {
   "cell_type": "markdown",
   "metadata": {},
   "source": [
    "Before running the next cell, update the integer number in st.get_content( .. , int , ...)\n",
    "\n",
    "Should be updated to the numer that was returned the last time the cell ran."
   ]
  },
  {
   "cell_type": "code",
   "execution_count": 260,
   "metadata": {},
   "outputs": [
    {
     "data": {
      "text/plain": [
       "1382"
      ]
     },
     "execution_count": 260,
     "metadata": {},
     "output_type": "execute_result"
    }
   ],
   "source": [
    "#%run 'data-acquisition/get-content-02.py'\n",
    "#from data_acquisition import get_content_tsp_03\n",
    "\n",
    "import os\n",
    "\n",
    "path_to_link_file= 'data_acquisition/links-tsp-'+str(date.today())+'-new.txt'\n",
    "path_to_output_folder='tagesspiegel-'+str(date.today())\n",
    "\n",
    "_, dirs, _ = next(os.walk(os.getcwd()))\n",
    "\n",
    "if path_to_output_folder in dirs:\n",
    "    print(\"** folder exists **\")\n",
    "else:\n",
    "    os.mkdir(path_to_output_folder, mode=0o744) \n",
    "\n",
    "#print(path_to_output_folder)\n",
    "st.get_content(path_to_link_file,1257,path_to_output_folder)"
   ]
  },
  {
   "cell_type": "markdown",
   "metadata": {},
   "source": [
    "When articles are downloaded, add new links to 'bestand'\n",
    "in unix: cat file_with_new_links >> bestands_file"
   ]
  },
  {
   "cell_type": "code",
   "execution_count": null,
   "metadata": {},
   "outputs": [],
   "source": [
    "# use cat in unix or copy paste by hand"
   ]
  },
  {
   "cell_type": "markdown",
   "metadata": {},
   "source": [
    "## data cleaning\n",
    " 1. We check for advertisement in the articles' text. Ad text is included in brackets [...]\n",
    " 2. We check for empty authors. \n",
    " 3. We check for missing date of publication\n",
    " 4. We check for press releases\n",
    " 5. remove content from plus.tagesspiegel.de (advertising, infotainment, Kundenbindung)\n",
    " \n",
    "ad 2: An empty list of authors is replaced by the name of the paper: Tagesspiegel.\n",
    "\n",
    "ad 4: An article that is a press release has closing characters (tsp) or (tsp,dpa) or similar. We remove the parenthesis and the enclosed text."
   ]
  },
  {
   "cell_type": "code",
   "execution_count": 7,
   "metadata": {},
   "outputs": [],
   "source": [
    "from data_cleaning import clean_tsp_02 as ct"
   ]
  },
  {
   "cell_type": "code",
   "execution_count": 261,
   "metadata": {},
   "outputs": [
    {
     "name": "stdout",
     "output_type": "stream",
     "text": [
      "tagesspiegel-2020-09-07/01337.json\n",
      "tagesspiegel-2020-09-07/01288.json\n"
     ]
    },
    {
     "data": {
      "text/plain": [
       "{'files inspected': 123,\n",
       " 'files with ads': 65,\n",
       " 'ads removed': 80,\n",
       " 'files removed': 2,\n",
       " 'files removed reasons': ['too short', 'wrong type: imagegallery'],\n",
       " 'dates imputed': 5}"
      ]
     },
     "execution_count": 261,
     "metadata": {},
     "output_type": "execute_result"
    }
   ],
   "source": [
    "ct.clean_up('tagesspiegel-2020-09-07','2020-09-07')"
   ]
  },
  {
   "cell_type": "code",
   "execution_count": 5,
   "metadata": {},
   "outputs": [
    {
     "name": "stdout",
     "output_type": "stream",
     "text": [
      "tagesspiegel-2020-08-02/00843.json\n",
      "tagesspiegel-2020-08-02/00859.json\n",
      "tagesspiegel-2020-08-02/00878.json\n",
      "tagesspiegel-2020-08-02/00840.json\n"
     ]
    },
    {
     "data": {
      "text/plain": [
       "{'files inspected': 78,\n",
       " 'files with ads': 43,\n",
       " 'ads removed': 64,\n",
       " 'files removed': 4,\n",
       " 'files removed reasons': ['wrong type: author',\n",
       "  'wrong type: imagegallery',\n",
       "  'too short',\n",
       "  'too short'],\n",
       " 'dates imputed': 6}"
      ]
     },
     "execution_count": 5,
     "metadata": {},
     "output_type": "execute_result"
    }
   ],
   "source": [
    "ct.clean_up('tagesspiegel-2020-08-02','2020-08-02')"
   ]
  },
  {
   "cell_type": "code",
   "execution_count": 3,
   "metadata": {},
   "outputs": [
    {
     "name": "stdout",
     "output_type": "stream",
     "text": [
      "tagesspiegel-2020-09-04/01126.json\n",
      "tagesspiegel-2020-09-04/01045.json\n",
      "tagesspiegel-2020-09-04/01048.json\n"
     ]
    },
    {
     "data": {
      "text/plain": [
       "{'files inspected': 138,\n",
       " 'files with ads': 61,\n",
       " 'ads removed': 81,\n",
       " 'files removed': 3,\n",
       " 'files removed reasons': ['wrong type: imagegallery',\n",
       "  'wrong type: imagegallery',\n",
       "  'wrong type: imagegallery'],\n",
       " 'dates imputed': 9}"
      ]
     },
     "execution_count": 3,
     "metadata": {},
     "output_type": "execute_result"
    }
   ],
   "source": [
    "ct.clean_up('tagesspiegel-2020-09-04','2020-09-04')"
   ]
  },
  {
   "cell_type": "code",
   "execution_count": 4,
   "metadata": {},
   "outputs": [
    {
     "name": "stdout",
     "output_type": "stream",
     "text": [
      "tagesspiegel-2020-08-04/00973.json\n",
      "tagesspiegel-2020-08-04/01016.json\n",
      "tagesspiegel-2020-08-04/00914.json\n"
     ]
    },
    {
     "data": {
      "text/plain": [
       "{'files inspected': 118,\n",
       " 'files with ads': 60,\n",
       " 'ads removed': 74,\n",
       " 'files removed': 3,\n",
       " 'files removed reasons': ['too short',\n",
       "  'wrong type: imagegallery',\n",
       "  'too short'],\n",
       " 'dates imputed': 6}"
      ]
     },
     "execution_count": 4,
     "metadata": {},
     "output_type": "execute_result"
    }
   ],
   "source": [
    "ct.clean_up('tagesspiegel-2020-08-04','2020-08-04')"
   ]
  },
  {
   "cell_type": "code",
   "execution_count": 8,
   "metadata": {},
   "outputs": [
    {
     "name": "stdout",
     "output_type": "stream",
     "text": [
      "tagesspiegel-2020-09-05/01239.json\n"
     ]
    },
    {
     "data": {
      "text/plain": [
       "{'files inspected': 89,\n",
       " 'files with ads': 40,\n",
       " 'ads removed': 51,\n",
       " 'files removed': 1,\n",
       " 'files removed reasons': ['too short'],\n",
       " 'dates imputed': 7}"
      ]
     },
     "execution_count": 8,
     "metadata": {},
     "output_type": "execute_result"
    }
   ],
   "source": [
    "ct.clean_up('tagesspiegel-2020-09-05','2020-09-05')"
   ]
  },
  {
   "cell_type": "markdown",
   "metadata": {},
   "source": [
    "## ml task"
   ]
  },
  {
   "cell_type": "code",
   "execution_count": null,
   "metadata": {},
   "outputs": [],
   "source": []
  },
  {
   "cell_type": "code",
   "execution_count": 20,
   "metadata": {},
   "outputs": [],
   "source": [
    "import os\n",
    "\n",
    "from sklearn.pipeline import Pipeline\n",
    "from sklearn.feature_extraction.text import TfidfVectorizer\n",
    "from sklearn.feature_extraction.text import CountVectorizer\n",
    "from sklearn.cluster import KMeans\n",
    "\n",
    "import re\n",
    "\n",
    "from textblob_de import TextBlobDE \n",
    "\n",
    "import glob\n",
    "import pandas as pd\n",
    "import numpy as np\n",
    "\n",
    "import matplotlib.pyplot as plt\n",
    "\n",
    "import math\n",
    "\n",
    "import json\n",
    "\n",
    "\n",
    "def preprocessing_02 (text):\n",
    "    #print(text)\n",
    "    a = text.lower() # lower cases only\n",
    "    b = re.sub(\"(\\\\W|\\\\d)\",\" \",a) #remove non-ascii and digits\n",
    "    blob = TextBlobDE(b)\n",
    "    return(blob.words.lemmatize()) # lemmatize for german\n",
    "\n",
    "\n",
    "def read_articles_transform_to_df (path_to_text_files='../tagesspiegel/*.txt'):\n",
    "\n",
    "\tfile_list=glob.glob(path_to_text_files)\n",
    "\t#file_list = glob.glob(\"../tagesspiegel/*.txt\")\n",
    "\t#print(file_list)\n",
    "\n",
    "\tn = len(file_list)\n",
    "\tprint(n , \"files to work with.\")\n",
    "\n",
    "\t#list_of_articles = []\n",
    "\tX = pd.DataFrame(columns=['file','text'])\n",
    "\n",
    "\tfor i in range(n):\n",
    "\t\t#print(i, ' of ', n)\n",
    "\t\twith open (file_list[i]) as file:\n",
    "\t\t\ttext_1 = file.read()\n",
    "\t\t\ttext_2 = json.loads(text_1)\n",
    "\t\t\ttext_3 = text_2['text']\n",
    "\t\t\ttext=' '.join(preprocessing_02(text_3))\n",
    "\t\t\t#print(text)\n",
    "\t\t\tX=X.append({'file':file_list[i] , 'text':text}, ignore_index=True)\n",
    "\t#print(X.shape)\n",
    "\treturn(X)\n",
    "\n",
    "def enthropy(pv):\n",
    "\n",
    "\t# should check, that all values are positive and sum to (about) 1\n",
    "\treturn(-sum([pv[i]*math.log(pv[i]) for i in range(len(pv))]))\n",
    "\n",
    "def evaluate_cluster(km_object):\n",
    "\tn, bins, patches = plt.hist(km_object.labels_, km_object.n_clusters, facecolor='blue', alpha=0.5)\n",
    "\tplt.title('sizes of clusters')\n",
    "\tplt.ylabel('nr. of articles')\n",
    "\tplt.show()\n",
    "\n",
    "\trel_fq = [round(ni/sum(n),3) for ni in n] \n",
    "#\t\tprint('elements in bins: ' , n)\n",
    "#\t\tprint('relative size of bins: ', rel_fq)\n",
    "#\t\tprint('enthropy: ', enthropy(rel_fq))\n",
    "\n",
    "\treturn({'n': n , 'frequencies': rel_fq , 'enthropy': enthropy(rel_fq), 'inertia':km_object.inertia_})"
   ]
  },
  {
   "cell_type": "markdown",
   "metadata": {},
   "source": [
    "preprocessing does some basic transfomation of a text into a wordlist:\n",
    "\n",
    "Remove non ascii symbols and numbers / digits.\n",
    "\n",
    "Remove punctuation. Lemmatize."
   ]
  },
  {
   "cell_type": "code",
   "execution_count": 3,
   "metadata": {},
   "outputs": [
    {
     "data": {
      "text/plain": [
       "WordList(['ich', 'meinern', 'mir', 'mich', 'hallo', 'hier', 'sein', 'ein', 'baum', 'oder', 'oder', 'oder', 'bzw', 'zwölf', 'laufen', 'laufen', 'laufen'])"
      ]
     },
     "execution_count": 3,
     "metadata": {},
     "output_type": "execute_result"
    }
   ],
   "source": [
    "preprocessing_02('Ich, meiner, mir, mich. Hallo hier ist ein Baum. %§/$. Oder 8 oder 9 oder 77 bzw. zwölf?? Läuft lief gelaufen')"
   ]
  },
  {
   "cell_type": "code",
   "execution_count": 21,
   "metadata": {},
   "outputs": [
    {
     "name": "stdout",
     "output_type": "stream",
     "text": [
      "615 files to work with.\n",
      "Empty DataFrame\n",
      "Columns: [file, text]\n",
      "Index: []\n",
      "0\n",
      "1\n",
      "2\n",
      "3\n",
      "4\n",
      "5\n",
      "6\n",
      "7\n",
      "8\n",
      "9\n",
      "10\n",
      "11\n",
      "12\n",
      "13\n",
      "14\n",
      "15\n",
      "16\n",
      "17\n",
      "18\n",
      "19\n",
      "20\n",
      "21\n",
      "22\n",
      "23\n",
      "24\n",
      "25\n",
      "26\n",
      "27\n",
      "28\n",
      "29\n",
      "30\n",
      "31\n",
      "32\n",
      "33\n",
      "34\n",
      "35\n",
      "36\n",
      "37\n",
      "38\n",
      "39\n",
      "40\n",
      "41\n",
      "42\n",
      "43\n",
      "44\n",
      "45\n",
      "46\n",
      "47\n",
      "48\n",
      "49\n",
      "50\n",
      "51\n",
      "52\n",
      "53\n",
      "54\n",
      "55\n",
      "56\n",
      "57\n",
      "58\n",
      "59\n",
      "60\n",
      "61\n",
      "62\n",
      "63\n",
      "64\n",
      "65\n",
      "66\n",
      "67\n",
      "68\n",
      "69\n",
      "70\n",
      "71\n",
      "72\n",
      "73\n",
      "74\n",
      "75\n",
      "76\n",
      "77\n",
      "78\n",
      "79\n",
      "80\n",
      "81\n",
      "82\n",
      "83\n",
      "84\n",
      "85\n",
      "86\n",
      "87\n",
      "88\n",
      "89\n",
      "90\n",
      "91\n",
      "92\n",
      "93\n",
      "94\n",
      "95\n",
      "96\n",
      "97\n",
      "98\n",
      "99\n",
      "100\n",
      "101\n",
      "102\n",
      "103\n",
      "104\n",
      "105\n",
      "106\n",
      "107\n",
      "108\n",
      "109\n",
      "110\n",
      "111\n",
      "112\n",
      "113\n",
      "114\n",
      "115\n",
      "116\n",
      "117\n",
      "118\n",
      "119\n",
      "120\n",
      "121\n",
      "122\n",
      "123\n",
      "124\n",
      "125\n",
      "126\n",
      "127\n",
      "128\n",
      "129\n",
      "130\n",
      "131\n",
      "132\n",
      "133\n",
      "134\n",
      "135\n",
      "136\n",
      "137\n",
      "138\n",
      "139\n",
      "140\n",
      "141\n",
      "142\n",
      "143\n",
      "144\n",
      "145\n",
      "146\n",
      "147\n",
      "148\n",
      "149\n",
      "150\n",
      "151\n",
      "152\n",
      "153\n",
      "154\n",
      "155\n",
      "156\n",
      "157\n",
      "158\n",
      "159\n",
      "160\n",
      "161\n",
      "162\n",
      "163\n",
      "164\n",
      "165\n",
      "166\n",
      "167\n",
      "168\n",
      "169\n",
      "170\n",
      "171\n",
      "172\n",
      "173\n",
      "174\n",
      "175\n",
      "176\n",
      "177\n",
      "178\n",
      "179\n",
      "180\n",
      "181\n",
      "182\n",
      "183\n",
      "184\n",
      "185\n",
      "186\n",
      "187\n",
      "188\n",
      "189\n",
      "190\n",
      "191\n",
      "192\n",
      "193\n",
      "194\n",
      "195\n",
      "196\n",
      "197\n",
      "198\n",
      "199\n",
      "200\n",
      "201\n",
      "202\n",
      "203\n",
      "204\n",
      "205\n",
      "206\n",
      "207\n",
      "208\n",
      "209\n",
      "210\n",
      "211\n",
      "212\n",
      "213\n",
      "214\n",
      "215\n",
      "216\n",
      "217\n",
      "218\n",
      "219\n",
      "220\n",
      "221\n",
      "222\n",
      "223\n",
      "224\n",
      "225\n",
      "226\n",
      "227\n",
      "228\n",
      "229\n",
      "230\n",
      "231\n",
      "232\n",
      "233\n",
      "234\n",
      "235\n",
      "236\n",
      "237\n",
      "238\n",
      "239\n",
      "240\n",
      "241\n",
      "242\n",
      "243\n",
      "244\n",
      "245\n",
      "246\n",
      "247\n",
      "248\n",
      "249\n",
      "250\n",
      "251\n",
      "252\n",
      "253\n",
      "254\n",
      "255\n",
      "256\n",
      "257\n",
      "258\n",
      "259\n",
      "260\n",
      "261\n",
      "262\n",
      "263\n",
      "264\n",
      "265\n",
      "266\n",
      "267\n",
      "268\n",
      "269\n",
      "270\n",
      "271\n",
      "272\n",
      "273\n",
      "274\n",
      "275\n",
      "276\n",
      "277\n",
      "278\n",
      "279\n",
      "280\n",
      "281\n",
      "282\n",
      "283\n",
      "284\n",
      "285\n",
      "286\n",
      "287\n",
      "288\n",
      "289\n",
      "290\n",
      "291\n",
      "292\n",
      "293\n",
      "294\n",
      "295\n",
      "296\n",
      "297\n",
      "298\n",
      "299\n",
      "300\n",
      "301\n",
      "302\n",
      "303\n",
      "304\n",
      "305\n",
      "306\n",
      "307\n",
      "308\n",
      "309\n",
      "310\n",
      "311\n",
      "312\n",
      "313\n",
      "314\n",
      "315\n",
      "316\n",
      "317\n",
      "318\n",
      "319\n",
      "320\n",
      "321\n",
      "322\n",
      "323\n",
      "324\n",
      "325\n",
      "326\n",
      "327\n",
      "328\n",
      "329\n",
      "330\n",
      "331\n",
      "332\n",
      "333\n",
      "334\n",
      "335\n",
      "336\n",
      "337\n",
      "338\n",
      "339\n",
      "340\n",
      "341\n",
      "342\n",
      "343\n",
      "344\n",
      "345\n",
      "346\n",
      "347\n",
      "348\n",
      "349\n",
      "350\n",
      "351\n",
      "352\n",
      "353\n",
      "354\n",
      "355\n",
      "356\n",
      "357\n",
      "358\n",
      "359\n",
      "360\n",
      "361\n",
      "362\n",
      "363\n",
      "364\n",
      "365\n",
      "366\n",
      "367\n",
      "368\n",
      "369\n",
      "370\n",
      "371\n",
      "372\n",
      "373\n",
      "374\n",
      "375\n",
      "376\n",
      "377\n",
      "378\n",
      "379\n",
      "380\n",
      "381\n",
      "382\n",
      "383\n",
      "384\n",
      "385\n",
      "386\n",
      "387\n",
      "388\n",
      "389\n",
      "390\n",
      "391\n",
      "392\n",
      "393\n",
      "394\n",
      "395\n",
      "396\n",
      "397\n",
      "398\n",
      "399\n",
      "400\n",
      "401\n",
      "402\n",
      "403\n",
      "404\n",
      "405\n",
      "406\n",
      "407\n",
      "408\n",
      "409\n",
      "410\n",
      "411\n",
      "412\n",
      "413\n",
      "414\n",
      "415\n",
      "416\n",
      "417\n",
      "418\n",
      "419\n",
      "420\n",
      "421\n",
      "422\n",
      "423\n",
      "424\n",
      "425\n",
      "426\n",
      "427\n",
      "428\n",
      "429\n",
      "430\n",
      "431\n",
      "432\n",
      "433\n",
      "434\n",
      "435\n",
      "436\n",
      "437\n",
      "438\n",
      "439\n",
      "440\n",
      "441\n",
      "442\n",
      "443\n",
      "444\n",
      "445\n",
      "446\n",
      "447\n",
      "448\n",
      "449\n",
      "450\n",
      "451\n",
      "452\n",
      "453\n",
      "454\n",
      "455\n",
      "456\n",
      "457\n",
      "458\n",
      "459\n",
      "460\n",
      "461\n",
      "462\n",
      "463\n",
      "464\n",
      "465\n",
      "466\n",
      "467\n",
      "468\n",
      "469\n",
      "470\n",
      "471\n",
      "472\n",
      "473\n",
      "474\n",
      "475\n",
      "476\n",
      "477\n",
      "478\n",
      "479\n",
      "480\n",
      "481\n",
      "482\n",
      "483\n",
      "484\n",
      "485\n",
      "486\n",
      "487\n",
      "488\n",
      "489\n",
      "490\n",
      "491\n",
      "492\n",
      "493\n",
      "494\n",
      "495\n",
      "496\n",
      "497\n",
      "498\n",
      "499\n",
      "500\n",
      "501\n",
      "502\n",
      "503\n",
      "504\n",
      "505\n",
      "506\n",
      "507\n",
      "508\n",
      "509\n",
      "510\n",
      "511\n",
      "512\n",
      "513\n",
      "514\n",
      "515\n",
      "516\n",
      "517\n",
      "518\n",
      "519\n",
      "520\n",
      "521\n",
      "522\n",
      "523\n",
      "524\n",
      "525\n",
      "526\n",
      "527\n",
      "528\n",
      "529\n",
      "530\n",
      "531\n",
      "532\n",
      "533\n",
      "534\n",
      "535\n",
      "536\n",
      "537\n",
      "538\n",
      "539\n",
      "540\n",
      "541\n",
      "542\n",
      "543\n",
      "544\n",
      "545\n",
      "546\n",
      "547\n",
      "548\n",
      "549\n",
      "550\n",
      "551\n",
      "552\n",
      "553\n",
      "554\n",
      "555\n",
      "556\n",
      "557\n",
      "558\n",
      "559\n",
      "560\n",
      "561\n",
      "562\n",
      "563\n",
      "564\n",
      "565\n",
      "566\n",
      "567\n",
      "568\n",
      "569\n",
      "570\n",
      "571\n",
      "572\n",
      "573\n",
      "574\n",
      "575\n",
      "576\n",
      "577\n",
      "578\n",
      "579\n",
      "580\n",
      "581\n",
      "582\n",
      "583\n",
      "584\n",
      "585\n",
      "586\n",
      "587\n",
      "588\n",
      "589\n",
      "590\n",
      "591\n",
      "592\n",
      "593\n",
      "594\n",
      "595\n",
      "596\n",
      "597\n",
      "598\n",
      "599\n",
      "600\n",
      "601\n",
      "602\n",
      "603\n",
      "604\n",
      "605\n",
      "606\n",
      "607\n",
      "608\n",
      "609\n",
      "610\n",
      "611\n",
      "612\n",
      "613\n",
      "614\n"
     ]
    }
   ],
   "source": [
    "X = read_articles_transform_to_df('tagesspiegel_01/*clean.json')\n",
    "#X['text'][0] # to check what we work with: Umlaute are correct, Data cleaning should have removed advertising text ..."
   ]
  },
  {
   "cell_type": "code",
   "execution_count": 127,
   "metadata": {},
   "outputs": [],
   "source": []
  },
  {
   "cell_type": "code",
   "execution_count": 26,
   "metadata": {},
   "outputs": [],
   "source": [
    "list_of_articles = X['text']\n",
    "\n",
    "cv = TfidfVectorizer(max_df=0.8 , min_df =2)\n",
    "#print('cv: ' , dir(cv))\n",
    "km =  KMeans(init='k-means++', n_clusters=5, n_init=10)\n",
    "\n",
    "text_cluster = Pipeline([('vect', cv), ('cluster', km) ])\n",
    "\n",
    "#text_cluster.fit(list_of_articles[0:100])\n",
    "text_cluster.fit(list_of_articles)\n",
    "\n",
    "#labels_as_column = pd.DataFrame(km.labels_)\n",
    "#print(type(labels_as_column), labels_as_column.shape)\n",
    "\n",
    "X['cluster'] = pd.DataFrame(km.labels_) # contains labels\n",
    "#print(X)"
   ]
  },
  {
   "cell_type": "code",
   "execution_count": null,
   "metadata": {},
   "outputs": [],
   "source": []
  },
  {
   "cell_type": "code",
   "execution_count": 27,
   "metadata": {},
   "outputs": [
    {
     "data": {
      "image/png": "[encoded data removed]",
      "text/plain": [
       "<Figure size 432x288 with 1 Axes>"
      ]
     },
     "metadata": {
      "needs_background": "light"
     },
     "output_type": "display_data"
    },
    {
     "data": {
      "text/plain": [
       "['aachener',\n",
       " 'ab',\n",
       " 'abbau',\n",
       " 'abbauen',\n",
       " 'abbiegen',\n",
       " 'abbilden',\n",
       " 'abbrechen',\n",
       " 'abc',\n",
       " 'abd',\n",
       " 'abdankung']"
      ]
     },
     "execution_count": 27,
     "metadata": {},
     "output_type": "execute_result"
    }
   ],
   "source": [
    "evaluate_cluster(km)\n",
    "cv.get_feature_names()[0:10]"
   ]
  },
  {
   "cell_type": "code",
   "execution_count": null,
   "metadata": {},
   "outputs": [],
   "source": []
  },
  {
   "cell_type": "markdown",
   "metadata": {},
   "source": [
    "How to represent a cluster? \n",
    "The centroid is a numerical vector, has to be translated back into words. But how?"
   ]
  },
  {
   "cell_type": "code",
   "execution_count": 28,
   "metadata": {},
   "outputs": [
    {
     "name": "stdout",
     "output_type": "stream",
     "text": [
      "(5, 17310)\n"
     ]
    }
   ],
   "source": [
    "centers = np.array(km.cluster_centers_)\n",
    "print(centers.shape)\n"
   ]
  },
  {
   "cell_type": "markdown",
   "metadata": {},
   "source": [
    "## Word cloud representation for single article"
   ]
  },
  {
   "cell_type": "code",
   "execution_count": 209,
   "metadata": {},
   "outputs": [],
   "source": [
    "#!pip install wordcloud"
   ]
  },
  {
   "cell_type": "code",
   "execution_count": 29,
   "metadata": {},
   "outputs": [],
   "source": [
    "import numpy as np\n",
    "import pandas as pd\n",
    "from os import path\n",
    "from PIL import Image\n",
    "# from wordcloud import WordCloud, STOPWORDS, ImageColorGenerator # don't need english STOPWORDS\n",
    "from wordcloud import WordCloud, ImageColorGenerator\n",
    "\n",
    "import matplotlib.pyplot as plt\n",
    "%matplotlib inline"
   ]
  },
  {
   "cell_type": "code",
   "execution_count": 30,
   "metadata": {},
   "outputs": [
    {
     "data": {
      "text/plain": [
       "'er machen angst bange so er birol ünel kaputt barkeeper fatih akins liebesdrama gegen wand um kopf spielte er dies verloren menschen gerade so grenzen seines dabeien sprengte immer seinem namen verbinden birol ünel kommen fasen aus nichts vor jahren haute um film seine darsteller erhielt golden bären dafüren european film awards preise jen jahr fall lieb retten später fatih akins soul kitch spielte ünel koch er oft dies heftig unberechenbaren aggressiv typen gespielt gangster mut wild selten türkisch silifke gebären wuchs birol ünel nähe bremen studiert schauspiel hannover geben thomas passagier welcome to germany kz seite tony birol ünel cahit fatih akins gegen wand foto imago united neunzigern spielte er theater führen regie berliner kunsthaus tacheles treten bei frank castorf siegfried dess nibelungen born bad nochen so draufgänger passt heinrich tv er sehen man kannte ihn trotzdem kaum bis fatih akin ihm dies hauptrolle geben durchbruch später blieb meistens bei kino fernsehen birol ünel immer wieder probleme leben viel persönlich stecken seinen figuren donnerstag schauspieler alt jahren gestorb berlin klinik schwer krankheit gorki theater fatih akin bz meldung bestätigt ruhe frieden mein freund du licht dir mich immer überwältigen schreiben fatih akin twitter'"
      ]
     },
     "execution_count": 30,
     "metadata": {},
     "output_type": "execute_result"
    }
   ],
   "source": [
    "text = [w for w in X['text'][2].split() if w in cv.get_feature_names()]\n",
    "' '.join(text)"
   ]
  },
  {
   "cell_type": "markdown",
   "metadata": {},
   "source": [
    "Some stopwords are features."
   ]
  },
  {
   "cell_type": "code",
   "execution_count": 68,
   "metadata": {},
   "outputs": [],
   "source": [
    "my_stopper = ['am','sie','bei','durch','noch','sich','in','im','ihr','ihre','vor','zur','seit','es','zu','werden','haben','sein','von','jedoch','auch','des','dies','als','wie','dem','den','um','mit','sein','auf','der','die','das','und','ein','aus','kein','wir','ihr','er','dass','du','ich','mein','mich','dein','dir','dich']\n",
    "# [w in cv.get_feature_names() for w in my_stopper]"
   ]
  },
  {
   "cell_type": "markdown",
   "metadata": {},
   "source": [
    "List comprehension to filter non-stopp-words."
   ]
  },
  {
   "cell_type": "code",
   "execution_count": 50,
   "metadata": {},
   "outputs": [],
   "source": [
    "text = [w for w in X['text'][4].split() if w not in my_stopper]\n",
    "# [w in text for w in my_stopper] # test, shoulf result in only FALSE"
   ]
  },
  {
   "cell_type": "code",
   "execution_count": 52,
   "metadata": {},
   "outputs": [
    {
     "data": {
      "image/png": "[encoded data removed]",
      "text/plain": [
       "<Figure size 432x288 with 1 Axes>"
      ]
     },
     "metadata": {
      "needs_background": "light"
     },
     "output_type": "display_data"
    }
   ],
   "source": [
    "wordcloud = WordCloud().generate(' '.join(text))\n",
    "\n",
    "# Display the generated image:\n",
    "plt.imshow(wordcloud, interpolation='bilinear')\n",
    "plt.axis(\"off\")\n",
    "plt.show()\n",
    "\n",
    "# this is strange, there are words from my stoplist in the wordcloud.\n",
    "# These words were never an argument to the wordcloud generation ?? !!"
   ]
  },
  {
   "cell_type": "markdown",
   "metadata": {},
   "source": [
    "## Word cloud representation for cluster\n",
    "\n",
    "Collect all text from a specified cluster and create its wordcloud."
   ]
  },
  {
   "cell_type": "code",
   "execution_count": 116,
   "metadata": {},
   "outputs": [
    {
     "name": "stdout",
     "output_type": "stream",
     "text": [
      "size of cluster:  (357,)\n",
      "size of cluster:  (55,)\n",
      "size of cluster:  (147,)\n",
      "size of cluster:  (23,)\n",
      "size of cluster:  (33,)\n"
     ]
    }
   ],
   "source": [
    "K=km.n_clusters\n",
    "for k in range(K):\n",
    "#df.loc[df['column_name'] == some_value]\n",
    "    Xcl = X.loc[X['cluster']==k]['text']\n",
    "    print('size of cluster: ' , Xcl.shape)\n",
    "    \n",
    "    t1 = ''\n",
    "    for i in Xcl:\n",
    "        t1 += ' '.join([w for w in i.split() if w not in my_stopper])\n",
    "\n",
    "    # remove stop words (again)\n",
    "    text = [w for w in t1.split() if w not in my_stopper]\n",
    "    wordcloud = WordCloud().generate(' '.join(text))\n",
    "    wordcloud.to_file('cluster'+str(k)+'.png')"
   ]
  },
  {
   "cell_type": "code",
   "execution_count": 110,
   "metadata": {},
   "outputs": [],
   "source": []
  },
  {
   "cell_type": "markdown",
   "metadata": {},
   "source": [
    "## presentation as html , website"
   ]
  },
  {
   "cell_type": "code",
   "execution_count": null,
   "metadata": {},
   "outputs": [],
   "source": []
  },
  {
   "cell_type": "code",
   "execution_count": null,
   "metadata": {},
   "outputs": [],
   "source": []
  },
  {
   "cell_type": "code",
   "execution_count": 107,
   "metadata": {},
   "outputs": [],
   "source": [
    "\n",
    "\n",
    "\n"
   ]
  },
  {
   "cell_type": "code",
   "execution_count": null,
   "metadata": {},
   "outputs": [],
   "source": []
  },
  {
   "cell_type": "code",
   "execution_count": null,
   "metadata": {},
   "outputs": [],
   "source": []
  }
 ],
 "metadata": {
  "kernelspec": {
   "display_name": "Python 3",
   "language": "python",
   "name": "python3"
  },
  "language_info": {
   "codemirror_mode": {
    "name": "ipython",
    "version": 3
   },
   "file_extension": ".py",
   "mimetype": "text/x-python",
   "name": "python",
   "nbconvert_exporter": "python",
   "pygments_lexer": "ipython3",
   "version": "3.7.3"
  }
 },
 "nbformat": 4,
 "nbformat_minor": 2
}
